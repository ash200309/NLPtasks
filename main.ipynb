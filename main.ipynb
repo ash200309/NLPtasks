{
 "cells": [
  {
   "attachments": {},
   "cell_type": "markdown",
   "metadata": {},
   "source": [
    "# Web Scraping"
   ]
  },
  {
   "cell_type": "code",
   "execution_count": 1,
   "metadata": {},
   "outputs": [],
   "source": [
    "import pandas as pd\n",
    "import requests\n",
    "from bs4 import BeautifulSoup\n",
    "\n",
    "# Read the Excel file\n",
    "path_to_excel_file = 'Input.xlsx'\n",
    "df = pd.read_excel(path_to_excel_file)"
   ]
  },
  {
   "cell_type": "code",
   "execution_count": 2,
   "metadata": {},
   "outputs": [
    {
     "data": {
      "text/html": [
       "<div>\n",
       "<style scoped>\n",
       "    .dataframe tbody tr th:only-of-type {\n",
       "        vertical-align: middle;\n",
       "    }\n",
       "\n",
       "    .dataframe tbody tr th {\n",
       "        vertical-align: top;\n",
       "    }\n",
       "\n",
       "    .dataframe thead th {\n",
       "        text-align: right;\n",
       "    }\n",
       "</style>\n",
       "<table border=\"1\" class=\"dataframe\">\n",
       "  <thead>\n",
       "    <tr style=\"text-align: right;\">\n",
       "      <th></th>\n",
       "      <th>URL_ID</th>\n",
       "      <th>URL</th>\n",
       "    </tr>\n",
       "  </thead>\n",
       "  <tbody>\n",
       "    <tr>\n",
       "      <th>0</th>\n",
       "      <td>37</td>\n",
       "      <td>https://insights.blackcoffer.com/ai-in-healthc...</td>\n",
       "    </tr>\n",
       "    <tr>\n",
       "      <th>1</th>\n",
       "      <td>38</td>\n",
       "      <td>https://insights.blackcoffer.com/what-if-the-c...</td>\n",
       "    </tr>\n",
       "    <tr>\n",
       "      <th>2</th>\n",
       "      <td>39</td>\n",
       "      <td>https://insights.blackcoffer.com/what-jobs-wil...</td>\n",
       "    </tr>\n",
       "    <tr>\n",
       "      <th>3</th>\n",
       "      <td>40</td>\n",
       "      <td>https://insights.blackcoffer.com/will-machine-...</td>\n",
       "    </tr>\n",
       "    <tr>\n",
       "      <th>4</th>\n",
       "      <td>41</td>\n",
       "      <td>https://insights.blackcoffer.com/will-ai-repla...</td>\n",
       "    </tr>\n",
       "    <tr>\n",
       "      <th>...</th>\n",
       "      <td>...</td>\n",
       "      <td>...</td>\n",
       "    </tr>\n",
       "    <tr>\n",
       "      <th>109</th>\n",
       "      <td>146</td>\n",
       "      <td>https://insights.blackcoffer.com/blockchain-fo...</td>\n",
       "    </tr>\n",
       "    <tr>\n",
       "      <th>110</th>\n",
       "      <td>147</td>\n",
       "      <td>https://insights.blackcoffer.com/the-future-of...</td>\n",
       "    </tr>\n",
       "    <tr>\n",
       "      <th>111</th>\n",
       "      <td>148</td>\n",
       "      <td>https://insights.blackcoffer.com/big-data-anal...</td>\n",
       "    </tr>\n",
       "    <tr>\n",
       "      <th>112</th>\n",
       "      <td>149</td>\n",
       "      <td>https://insights.blackcoffer.com/business-anal...</td>\n",
       "    </tr>\n",
       "    <tr>\n",
       "      <th>113</th>\n",
       "      <td>150</td>\n",
       "      <td>https://insights.blackcoffer.com/challenges-an...</td>\n",
       "    </tr>\n",
       "  </tbody>\n",
       "</table>\n",
       "<p>114 rows × 2 columns</p>\n",
       "</div>"
      ],
      "text/plain": [
       "     URL_ID                                                URL\n",
       "0        37  https://insights.blackcoffer.com/ai-in-healthc...\n",
       "1        38  https://insights.blackcoffer.com/what-if-the-c...\n",
       "2        39  https://insights.blackcoffer.com/what-jobs-wil...\n",
       "3        40  https://insights.blackcoffer.com/will-machine-...\n",
       "4        41  https://insights.blackcoffer.com/will-ai-repla...\n",
       "..      ...                                                ...\n",
       "109     146  https://insights.blackcoffer.com/blockchain-fo...\n",
       "110     147  https://insights.blackcoffer.com/the-future-of...\n",
       "111     148  https://insights.blackcoffer.com/big-data-anal...\n",
       "112     149  https://insights.blackcoffer.com/business-anal...\n",
       "113     150  https://insights.blackcoffer.com/challenges-an...\n",
       "\n",
       "[114 rows x 2 columns]"
      ]
     },
     "execution_count": 2,
     "metadata": {},
     "output_type": "execute_result"
    }
   ],
   "source": [
    "df"
   ]
  },
  {
   "attachments": {},
   "cell_type": "markdown",
   "metadata": {},
   "source": [
    "#### First iteration"
   ]
  },
  {
   "cell_type": "code",
   "execution_count": 3,
   "metadata": {},
   "outputs": [],
   "source": [
    "webpage=requests.get(\"https://insights.blackcoffer.com/ai-in-healthcare-to-improve-patient-outcomes/\").text"
   ]
  },
  {
   "cell_type": "code",
   "execution_count": 4,
   "metadata": {},
   "outputs": [],
   "source": [
    "soup= BeautifulSoup(webpage)"
   ]
  },
  {
   "cell_type": "code",
   "execution_count": 5,
   "metadata": {},
   "outputs": [],
   "source": [
    "content = soup.find_all('p',class_=None)"
   ]
  },
  {
   "cell_type": "code",
   "execution_count": 6,
   "metadata": {},
   "outputs": [
    {
     "data": {
      "text/plain": [
       "[<p><strong>Introduction</strong></p>,\n",
       " <p>“If anything kills over 10 million people in the next few decades, it will be a highly infectious virus rather than a war. Not missiles but microbes.” Bill Gates’s remarks at a TED conference in 2014, right after the world had avoided the Ebola outbreak. When the new, unprecedented, invisible virus hit us, it met an overwhelmed and unprepared healthcare system and oblivious population. This public health emergency demonstrated our lack of scientific consideration and underlined the alarming need for robust innovations in our health and medical facilities. For the past few years, artificial intelligence has proven to be of tangible potential in the healthcare sectors, clinical practices, translational medical and biomedical research.</p>,\n",
       " <p>After the first case was detected in China on December 31st 2019, it was an AI program developed by BlueDot that alerted the world about the pandemic. It was quick to realise AI’s ability to analyse large chunks of data could help in detecting patterns and identifying and tracking the possible carriers of the virus.</p>,\n",
       " <p>Many tracing apps use AI to keep tabs on the people who have been infected and prevent the risk of cross-infection by using AI algorithms that can track patterns and extract some features to classify or categorise them.</p>,\n",
       " <p><strong>So how does AI do that?</strong></p>,\n",
       " <p>IBM Watson, a sophisticated AI that works on cloud computing and natural language processing, has prominently contributed to the healthcare sector on a global level. Being a conversational AI, since 2013, Watson has helped in recommending treatments to patients suffering from cancer to ensure that they get the best treatment at optimum costs.</p>,\n",
       " <p>Researchers at Google Inc. showed that an AI system can be trained on thousands of images to achieve physician-level sensitivity.</p>,\n",
       " <p>By identifying the molecular patterns associated with disease status and its subtypes, gene expression, and protein abundance levels, machine learning methods can detect fatal diseases like cancer at an early stage. Machine Learning (ML) techniques focus mainly on analyzing structured data, which can further help in clustering patients’ traits and infer the probability of disease outcomes. Since patient traits mainly include masses of data relating to age, gender, disease history, disease-specific data like diagnostic imaging and gene expressions, etc, ML can extract features from these data inputs by constructing data analytical algorithms.</p>,\n",
       " <p>ML algorithms are either supervised or unsupervised. Unsupervised learning helps in extracting features and clustering similar features together that further leads to early detection of diseases. Clustering and principal component analysis enable grouping or clustering of similar traits together that are further used to maximize or minimize the similarity between the patients within or between the clusters. Since patient traits are recorded in multiple dimensions, such as genes, principal component analysis(PCA) creates the apparatus to reduce these dimensions which humans could have not done alone.</p>,\n",
       " <p>Supervised learning considers the outcomes of the subjects together with the traits, and further correlates the inputs with the outputs to predict the probability of getting a particular clinical event, expected value of a disease level or expected survival time, or risk of Down’s syndrome.</p>,\n",
       " <p>Biomarker panels that are mostly used to detect ovarian cancer, have outperformed the conventional statistical methods due to machine learning. In addition to this, the use of EHRs and Bayesian networks, which are a part of supervised machine learning algorithms, can predict clinical outcomes and mortality respectively.</p>,\n",
       " <p>Unstructured data such as clinical notes and texts are converted into machine-readable structured data with the help of natural language processing(NLP). NLP works with two components: text processing and classification. Text processing helps in identifying a series of disease-relevant keywords in clinical notes and then through classification are further categorized into normal and abnormal cases. Chest screening through ML and NLP has helped find abnormalities in the lungs and provide treatment to covid patients. Healthcare organizations use NLP-based chatbots to increase interactions with patients, keeping their mental health and wellness in check.</p>,\n",
       " <p>Deep learning is a modern extension of the classical neural network techniques which helps explore more complex non-linear patterns in data, using algorithms like convolution neural network, recurrent neural network, deep belief network, and deep neural network which enables more accurate clinical prediction. When it comes to genome interpretation, deep neural networks surpass the conventional methods of logistics regression and support vector machines.</p>,\n",
       " <p>Sepsis Watch is an AI system trained in deep learning algorithms that holds the capability to analyze over 32 million data points to create a patient’s risk score and identify the early stages of sepsis.</p>,\n",
       " <p>Another method known as the Learning-based Optimization of the Under Sampling Pattern( LOUPE) is based on integrating full resolution MRI scans with the convolutional neural network algorithm, which helps in creating more accurate reconstructions.</p>,\n",
       " <p>Robotic surgery is widely considered in most delicate surgeries like gynaecology and prostate surgery. Even after striking the right balance between human decisions and AI precision, robotic surgery reduces surgeon efficiency as they have to be manually operated through a console. Thus, autonomous robotic surgery is on the rise with inventions such as robotic silicon fingers that mimic the sense of touch that surgeons need to identify organs, cut tissues, etc., or robotic catheters that can navigate whether it is touching blood, tissue, or valve.</p>,\n",
       " <p>Researchers at Children’s National Hospital, Washington have already developed an AI called Smart Tissue Autonomous Robot (STAR), which performs a colon anastomosis on its own with the help of an ML-powered suturing tool, that automatically detects the patient’s breathing pattern to apply suture at the correct point.</p>,\n",
       " <p>Cloud computing in healthcare has helped in retrieving and sharing medical records safely with a reduction in maintenance costs. Through this technology doctors and various healthcare workers have access to detailed patient data that helps in speeding up analysis ultimately leading to better care in the form of more accurate information, medications, and therapies.</p>,\n",
       " <p><strong>How can It help in Biomedical research?</strong></p>,\n",
       " <p>Since AI can analyze literature beyond readability, it can be used to concise biomedical research. With the help of ML algorithms and NLP, AI can accelerate screening and indexing of biomedical research, by ranking the literature of interest which allows researchers to formulate and test scientific hypotheses far more precisely and quickly. Taking it to the next level, AI systems like the computational modelling assistant (CMA) helps researchers to construct simulation models from the concepts they have in mind. Such innovations have majorly contributed to topics such as tumour suppressor mechanisms and protein-protein interaction information extraction.</p>,\n",
       " <p><strong>AI as precision medicine</strong></p>,\n",
       " <p>Since precision medicine focuses on healthcare interventions to individuals or groups of patients based on their profile, the various AI devices pave the way to practice it more efficiently. With the help of ML, complex algorithms like large datasets can be used to predict and create an optimal treatment strategy.</p>,\n",
       " <p>Deep learning and neural networks can be used to process data in healthcare apps and keep a close watch on the patient’s emotional state, food intake, or health monitoring. </p>,\n",
       " <p>“Omics” refers to the collective technologies that help in exploring the roles, relationships of various branches ending with the suffix “omics” such as genomics, proteomics, etc. Omics-based tests based on machine learning algorithms help find correlations and predict treatment responses, ultimately creating personalized treatments for individual patients. </p>,\n",
       " <p><strong>How it helps in psychology and neuro patients</strong></p>,\n",
       " <p>For psychologists studying creativity,  AI is promising new classes of experiments that are developing data structures and programs and exploring novel theories on a new horizon. Studies show that  AI can conduct therapy sessions, <a href=\"https://positivepsychology.com/e-therapy/\">e-therapy</a> sessions, and assessments autonomously, also assisting human practitioners before, during, or after sessions. The Detection and Computational Analysis of Psychological Signal project uses ML, computer vision, and NLP to analyze language, physical gestures, and social signals to identify cues for human distress. This ground-breaking technology assesses soldiers returning from combat and recognizes those who require further mental health support. In the future, it will combine data captured during face-to-face interviews with information on sleeping, eating, and online behaviours for a complete patient view.</p>,\n",
       " <p><strong>Stroke identification</strong></p>,\n",
       " <p>Stroke is another frequently occurring disease that affects more than 500 million people worldwide. Thrombus,  in the vessel cerebral infarction is the major (about 85%) cause of stroke occurrence. In recent years, AI techniques have been used in numerous stroke-related studies as early detection and timely treatment along with efficient outcome prediction can help solve the problem. With AI at our disposal, large amounts of data with rich information, more complications and real-life clinical questions can be addressed in this arena. Currently, two ML algorithms- genetic fuzzy finite state machine and PCA were implemented to build a model building solution. These include a human activity recognition stage and a stroke onset detection stage. An alert stroke message is activated as soon as a movement significantly different from the normal pattern is recorded. ML methods have been applied to neuroimaging data to assist disease evaluation and predicting stroke treatment for the diagnosis.</p>,\n",
       " <p><strong>Patient Monitoring</strong></p>,\n",
       " <p>Today, the market for AI-based patient monitoring is impressive and monetarily enticing. It is evolving with artificial sensors, smart technologies and explores everything from brain-computer interfaces to nanorobotics. Companies with their smart-watches have engaged people to perform remote monitoring even when they are not “patients”. An obvious place to start is with wearable and embedded sensors, glucose monitors, pulse monitors, oximeters, and ECG monitors. With patient monitoring becoming crucial, AI finds numerous applications in chronic conditions, intensive care units, operating rooms, emergency rooms, and cardiac wards where timeless clinical decision-making can be measured in seconds. More advances have started to gain traction like smart prosthetics and implants. These play an impeccable role in patient management post-surgery or rehabilitation. Demographics, laboratory results and vital signs can also be used to predict cardiac arrest, transfer into the intensive care unit, or even death. In addition, an interpretable machine-learning model can assist anesthesiologists in predicting hypoxaemia events during surgery. This suggests that with deep-learning algorithms, raw patient-monitoring data could be better used to avoid information overload and alert overload while enabling more accurate clinical prediction and timely decision-making.</p>,\n",
       " <p><strong> Conclusion</strong></p>,\n",
       " <p>Considering the vast range of tasks that an AI can do, it is evident that it holds deep potential in improving patient outcomes to skyrocketing levels. Using sophisticated algorithms AI can bring a revolution in the healthcare sector. Even after facing challenges like whether the technology will be able to deliver the promises, ethical measures, training physicians to use it, standard regulations etc, the role of AI in transforming the clinical practices cannot be ignored. The biggest challenge is the integration of AI in daily practice. All of these can be overcome and within that period the technologies will mature making the system far more enhanced and effective.</p>]"
      ]
     },
     "execution_count": 6,
     "metadata": {},
     "output_type": "execute_result"
    }
   ],
   "source": [
    "content"
   ]
  },
  {
   "attachments": {},
   "cell_type": "markdown",
   "metadata": {},
   "source": [
    "#### Second iteration"
   ]
  },
  {
   "cell_type": "code",
   "execution_count": 4,
   "metadata": {},
   "outputs": [],
   "source": [
    "webpage2=requests.get(\"https://insights.blackcoffer.com/what-if-the-creation-is-taking-over-the-creator/\").text"
   ]
  },
  {
   "cell_type": "code",
   "execution_count": 8,
   "metadata": {},
   "outputs": [],
   "source": [
    "soup2 = BeautifulSoup(webpage2)"
   ]
  },
  {
   "cell_type": "code",
   "execution_count": 9,
   "metadata": {},
   "outputs": [],
   "source": [
    "content2 = soup2.find_all('p',class_=None)"
   ]
  },
  {
   "cell_type": "code",
   "execution_count": 10,
   "metadata": {},
   "outputs": [
    {
     "data": {
      "text/plain": [
       "[<p>Human minds, a fascination in itself carrying the potential of tinkering nature with the pixie dust intelligence, creating and solving the mysteries and wonders with anything but admiration. However, no matter how captivating a human mind can be, it could sometimes be appalled. It could be the hunger or maybe the desire to want more, to go beyond and unravel the limitations, or maybe something like pure greed. Humans have never stopped and always keep evolving when it comes to intelligence and this is what makes them the supreme.</p>,\n",
       " <p>Intelligence calls out for supremacy and so, what if there was to evolve something that opposed a challenge to the very human minds, to their capabilities while making them question their own importance among themselves? Artificial Intelligence came as a revolution, havoc when it first came to the light. The concept of making machines does work on their own, like granting machines –The Intelligence.</p>,\n",
       " <p>The idea of making machines work like humans came back in the 19s. Back then people didn’t believe in such a thing as making a non-living thing work, think, and carry tasks on its own, not to mention, to actually surpass humans themselves in those skills. The facts are it did. By 1997. The greatest chess player, Garry Kasparov was defeated in a chess game by a machine and this is where exactly, a top skilled human lost to a mere machine created by another who by himself could’ve never defeated him. It was a rule of power, of betterment, of skills, and the granted supremacy. Were AI and Machines just tools? Equipment?  Something that helped an unskilled person with his mind and intelligence creates something that could do the skilled work for him with perfection and precision? Well initially it was, however, as time passed as humans got drawn to the puzzle of AI, a lot changed. Human research went deeper and deeper and as a result, the machines evolved with it.</p>,\n",
       " <p>At present, AI &amp; Machines is a growing field. As it develops and improves, it has become a part of the industrial revolution. In industries, most of the laborious work that was once taken care of by humans was now replaced by machines. Naturally, with the evolution in machines, its precision, mass productivity, quality control, time efficiencies, and all the other factors made it a better choice. A choice over humans.</p>,\n",
       " <p>This led to fear, a fear of a not-so-distant future, a future where maybe machines will be so evolved that they’ll take over the need of a human employee leading to unemployment. With the population increase around the world, it became the new tech threat for the labor market. Then again… how true is it? Does AI really oppose a threat? Will adapting to technology make millions of people lose their jobs? Will it lead to mass unemployment? Will the machines really surpass humans? Will, the creation take over the creator?</p>,\n",
       " <p>No matter how fearful the future with AI may seem, in reality, it is not that scary. Truth is AI is the present reality, it is the key that holds the power to unlock a whole next level of human evolution. Technology is growing. There was a time where technology was just an idea, but today that idea has been implemented, it’s working and is carried out. Nobody could stop the advancement and growth of Artificial Intelligence, it’s a wave that is already flowing and we as the present generation and the generations to come to have to learn, to learn to swim in this flow and avoid drowning.</p>,\n",
       " <p>Many jobs will be replaced by machines, as AI evolves it’ll keep challenging human minds and their skills. With the present COVID 19 situation, contactless cashiers to robots delivering packages have already taken over the usual routine tasks. The jobs of Secretaries, Schedulers, and book-keeper are at risk too. Manufacturing units, agriculture, food services, retail, transportation &amp; logistic, and hospitality are all a part of the AI-affected automation. At an estimation, it is said that around 20 million jobs, especially including manufacturing will be lost to robots. As AI, robotics, 3D printing, and genetics make their way in, even the architects, medical docs, and music composers feel threatened by technology. Making us question that will AI even edge us out of our brain jobs too? Now that can be terrifying.</p>,\n",
       " <p>However, as much as machines will be replacing few jobs, they’ll also be creating new jobs.  With the economic growth, innovation, and investment around 133 million jobs are said to be generated. These newly enhanced jobs are to create benefits and amplify one’s creativity, strategy, and entrepreneurial skills. So what is the catch?</p>,\n",
       " <p>Well, it’s the skills. Even though AI is creating 3 times more jobs than it is destroying, it’s the skills that count. AI surged in new job opportunities, opportunities like Senior Data Scientist, Mobile Application Developer, and SEO specialist. These jobs were once never heard of but now with AI it’s born, however, to do these jobs or for its qualification, one needs high-level skills and to acquire those skills can be an expensive and time-consuming task. The future generation might be able to cope up with it but the real struggle is to be faced by the present two generations. It’s the vulnerability between the skill gap and unemployment and the youths are the ones to be crushed the most.</p>,\n",
       " <p>Therefore, as the advancement of AI becomes inevitable there remains no choice but to adapt, learn, equip ourselves and grow with it. The companies have to work together to build an AI-ready workplace. They should collaborate with the government, educators, and non-profit organizations and work together to bring out policies that could help understand the technologies’ impacts faster while also providing the employees some security. The economic and business planning should be made considerable for minimizing the impact on local jobs and properly maximizing the opportunities.</p>,\n",
       " <p>The employees should be provided with proper tools to carry along with the new opportunities while acquiring AI-based skills for their day-to-day work. New skills should be identified and implemented for the upskilling and continual learning initiatives. Employees will have to maximize their Robotic Quotient and learn core skills. They’ll have to adapt to new working models and understand their roles in the coming future. </p>,\n",
       " <p>Howsoever, it’s not like AI will totally take over control, even though AI proves to be a better choice, it still has its limitations at present. First, it’s expensive, secondly, manufacturing machines in bulk is not good for the environment. Machines are also very high maintenance, therefore human labor will often come cheaper and so will be considered over machines. Underdeveloped countries will find it hard to equip their people with the upskilling and reskilling required for AI workplace and so for AI to play a role in those countries, might take years. AI can also be risky and unethical, as it’s hard to figure out who to be held responsible for in cases where an AI went wrong.</p>,\n",
       " <p>No matter, how advanced AI gets, there are some skills where humans will always have an upper hand i.e., soft skills. Skills like teamwork, communication, creativity, and critical thinking are something that AI hasn’t been able to beat us up to yet and so the value of creativity, leadership, and emotional intelligence has increased. Although, with machines coming in between humans causing the lack of human-to-human interaction, the humans seem to fade away a little.</p>,\n",
       " <p>With this era, comes the need for good leaders. Leaders who are capable of handling both machines and humans together, the ones who are organized enough to manage the skilled and the unskilled employees while providing the unskilled trainees with proper training. Leaders who hold profound soft skills and encourage teamwork while working along with machines. The ones who are patient, calm, and optimized.  </p>,\n",
       " <p>In conclusion, yes AI and machines are going to be very challenging but there’s nothing humans haven’t overcome. Adaptation and up-gradation are going to be the primary factor for survival. As we witness the onset of the 4th industrial revolution, let’s buckle up our seats and race along the highway with the essential fuels (skills) so as to not let ourselves eliminated. After all, this is an unending race with infinity as the end, all we could do is try not to run out of fuel. Try not to be outdated. </p>,\n",
       " <p></p>]"
      ]
     },
     "execution_count": 10,
     "metadata": {},
     "output_type": "execute_result"
    }
   ],
   "source": [
    "content2"
   ]
  },
  {
   "cell_type": "code",
   "execution_count": 11,
   "metadata": {},
   "outputs": [],
   "source": [
    "title_l=[]\n",
    "title = soup2.find(\"h1\",class_='tdb-title-text')\n",
    "if title is not None:\n",
    "    print(title.text)"
   ]
  },
  {
   "attachments": {},
   "cell_type": "markdown",
   "metadata": {},
   "source": [
    "#### Web Scraping final function"
   ]
  },
  {
   "cell_type": "code",
   "execution_count": 12,
   "metadata": {},
   "outputs": [],
   "source": [
    "content_list=[]\n",
    "for i in range(114):\n",
    "    url=df['URL'][i]\n",
    "    webpage = requests.get(url).text\n",
    "    soup= BeautifulSoup(webpage)\n",
    "    content = soup.find_all('p',class_=None)\n",
    "    content_list.append(content)\n",
    "df['content']=content_list\n",
    "df"
   ]
  },
  {
   "cell_type": "code",
   "execution_count": 13,
   "metadata": {},
   "outputs": [],
   "source": [
    "df_1=df.drop(\"URL\",axis=1)"
   ]
  },
  {
   "cell_type": "code",
   "execution_count": 14,
   "metadata": {},
   "outputs": [],
   "source": [
    "df_1.to_csv(\"URL_ID with content\",index=False)"
   ]
  },
  {
   "attachments": {},
   "cell_type": "markdown",
   "metadata": {},
   "source": [
    "# Preprocessing"
   ]
  },
  {
   "cell_type": "code",
   "execution_count": 1,
   "metadata": {},
   "outputs": [],
   "source": [
    "import pandas as pd \n",
    "df_1=pd.read_csv(\"URL_ID with content\")"
   ]
  },
  {
   "cell_type": "code",
   "execution_count": 2,
   "metadata": {},
   "outputs": [],
   "source": [
    "df_1['content']=df_1['content'].apply(str)"
   ]
  },
  {
   "cell_type": "code",
   "execution_count": 3,
   "metadata": {},
   "outputs": [],
   "source": [
    "f = open(\"stopwords.txt\",'r')\n",
    "stopwords=f.read()"
   ]
  },
  {
   "cell_type": "code",
   "execution_count": 4,
   "metadata": {},
   "outputs": [],
   "source": [
    "stopwords=stopwords.lower()"
   ]
  },
  {
   "cell_type": "code",
   "execution_count": 5,
   "metadata": {},
   "outputs": [
    {
     "data": {
      "text/plain": [
       "\"about\\nabove\\nafter\\nagain\\nall\\nam\\namong\\nan\\nand\\nany\\nare\\nas\\nat\\nbe\\nbecause\\nbeen\\nbefore\\nbeing\\nbelow\\nbetween\\nboth\\nbut\\nby\\ncan\\ndid\\ndo\\ndoes\\ndoing\\ndown\\nduring\\neach\\nfew\\nfor\\nfrom\\nfurther\\nhad\\nhas\\nhave\\nhaving\\nhe\\nher\\nhere\\nhers\\nherself\\nhim\\nhimself\\nhis\\nhow\\nif\\nin\\ninto\\nis\\nit\\nits\\nitself\\njust\\nme\\nmore\\nmost\\nmy\\nmyself\\nno\\nnor\\nnot\\nnow\\nof\\noff\\non\\nonce\\nonly\\nor\\nother\\nour\\nours\\nourselves\\nout\\nover\\nown\\nsame\\nshe\\nshould\\nso\\nsome\\nsuch\\nthan\\nthat\\nthe\\ntheir\\ntheirs\\nthem\\nthemselves\\nthen\\nthere\\nthese\\nthey\\nthis\\nthose\\nthrough\\nto\\ntoo\\nunder\\nuntil\\nup\\nvery\\nwas\\nwe\\nwere\\nwhat\\nwhen\\nwhere\\nwhich\\nwhile\\nwho\\nwhom\\nwhy\\nwith\\nyou\\nyour\\nyours\\nyourself\\nyourselves\\nsmith  | surnames from 1990 census > .002%.  www.census.gov.genealogy/names/dist.all.last\\njohnson\\nwilliams\\njones\\nbrown\\ndavis\\nmiller\\nwilson\\nmoore\\ntaylor\\nanderson\\nthomas\\njackson\\nwhite\\nharris\\nmartin\\nthompson\\ngarcia\\nmartinez\\nrobinson\\nclark\\nrodriguez\\nlewis\\nlee\\nwalker\\nhall\\nallen\\nyoung\\nhernandez\\nking\\nwright\\nlopez\\nhill\\nscott\\ngreen\\nadams\\nbaker\\ngonzalez\\nnelson\\ncarter\\nmitchell\\nperez\\nroberts\\nturner\\nphillips\\ncampbell\\nparker\\nevans\\nedwards\\ncollins\\nstewart\\nsanchez\\nmorris\\nrogers\\nreed\\ncook\\nmorgan\\nbell\\nmurphy\\nbailey\\nrivera\\ncooper\\nrichardson\\ncox\\nhoward\\nward\\ntorres\\npeterson\\ngray\\nramirez\\njames\\nwatson\\nbrooks\\nkelly\\nsanders\\nprice\\nbennett\\nwood\\nbarnes\\nross\\nhenderson\\ncoleman\\njenkins\\nperry\\npowell\\nlong\\npatterson\\nhughes\\nflores\\nwashington\\nbutler\\nsimmons\\nfoster\\ngonzales\\nbryant\\nalexander\\nrussell\\ngriffin\\ndiaz\\nhayes\\nmyers\\nford\\nhamilton\\ngraham\\nsullivan\\nwallace\\nwoods\\ncole\\nwest\\njordan\\nowens\\nreynolds\\nfisher\\nellis\\nharrison\\ngibson\\nmcdonald\\ncruz\\nmarshall\\nortiz\\ngomez\\nmurray\\nfreeman\\nwells\\nwebb\\nsimpson\\nstevens\\ntucker\\nporter\\nhunter\\nhicks\\ncrawford\\nhenry\\nboyd\\nmason\\nmorales\\nkennedy\\nwarren\\ndixon\\nramos\\nreyes\\nburns\\ngordon\\nshaw\\nholmes\\nrice\\nrobertson\\nhunt\\nblack\\ndaniels\\npalmer\\nmills\\nnichols\\ngrant\\nknight\\nferguson\\nrose\\nstone\\nhawkins\\ndunn\\nperkins\\nhudson\\nspencer\\ngardner\\nstephens\\npayne\\npierce\\nberry\\nmatthews\\narnold\\nwagner\\nwillis\\nray\\nwatkins\\nolson\\ncarroll\\nduncan\\nsnyder\\nhart\\ncunningham\\nbradley\\nlane\\nandrews\\nruiz\\nharper\\nfox\\nriley\\narmstrong\\ncarpenter\\nweaver\\ngreene\\nlawrence\\nelliott\\nchavez\\nsims\\naustin\\npeters\\nkelley\\nfranklin\\nlawson\\nfields\\ngutierrez\\nryan\\nschmidt\\ncarr\\nvasquez\\ncastillo\\nwheeler\\nchapman\\noliver\\nmontgomery\\nrichards\\nwilliamson\\njohnston\\nbanks\\nmeyer\\nbishop\\nmccoy\\nhowell\\nalvarez\\nmorrison\\nhansen\\nfernandez\\ngarza\\nharvey\\nlittle\\nburton\\nstanley\\nnguyen\\ngeorge\\njacobs\\nreid\\nkim\\nfuller\\nlynch\\ndean\\ngilbert\\ngarrett\\nromero\\nwelch\\nlarson\\nfrazier\\nburke\\nhanson\\nday\\nmendoza\\nmoreno\\nbowman\\nmedina\\nfowler\\nbrewer\\nhoffman\\ncarlson\\nsilva\\npearson\\nholland\\ndouglas\\nfleming\\njensen\\nvargas\\nbyrd\\ndavidson\\nhopkins\\nmay\\nterry\\nherrera\\nwade\\nsoto\\nwalters\\ncurtis\\nneal\\ncaldwell\\nlowe\\njennings\\nbarnett\\ngraves\\njimenez\\nhorton\\nshelton\\nbarrett\\nobrien\\ncastro\\nsutton\\ngregory\\nmckinney\\nlucas\\nmiles\\ncraig\\nrodriquez\\nchambers\\nholt\\nlambert\\nfletcher\\nwatts\\nbates\\nhale\\nrhodes\\npena\\nbeck\\nnewman\\nhaynes\\nmcdaniel\\nmendez\\nbush\\nvaughn\\nparks\\ndawson\\nsantiago\\nnorris\\nhardy\\nlove\\nsteele\\ncurry\\npowers\\nschultz\\nbarker\\nguzman\\npage\\nmunoz\\nball\\nkeller\\nchandler\\nweber\\nleonard\\nwalsh\\nlyons\\nramsey\\nwolfe\\nschneider\\nmullins\\nbenson\\nsharp\\nbowen\\ndaniel\\nbarber\\ncummings\\nhines\\nbaldwin\\ngriffith\\nvaldez\\nhubbard\\nsalazar\\nreeves\\nwarner\\nstevenson\\nburgess\\nsantos\\ntate\\ncross\\ngarner\\nmann\\nmack\\nmoss\\nthornton\\ndennis\\nmcgee\\nfarmer\\ndelgado\\naguilar\\nvega\\nglover\\nmanning\\ncohen\\nharmon\\nrodgers\\nrobbins\\nnewton\\ntodd\\nblair\\nhiggins\\ningram\\nreese\\ncannon\\nstrickland\\ntownsend\\npotter\\ngoodwin\\nwalton\\nrowe\\nhampton\\nortega\\npatton\\nswanson\\njoseph\\nfrancis\\ngoodman\\nmaldonado\\nyates\\nbecker\\nerickson\\nhodges\\nrios\\nconner\\nadkins\\nwebster\\nnorman\\nmalone\\nhammond\\nflowers\\ncobb\\nmoody\\nquinn\\nblake\\nmaxwell\\npope\\nfloyd\\nosborne\\npaul\\nmccarthy\\nguerrero\\nlindsey\\nestrada\\nsandoval\\ngibbs\\ntyler\\ngross\\nfitzgerald\\nstokes\\ndoyle\\nsherman\\nsaunders\\nwise\\ncolon\\ngill\\nalvarado\\ngreer\\npadilla\\nsimon\\nwaters\\nnunez\\nballard\\nschwartz\\nmcbride\\nhouston\\nchristensen\\nklein\\npratt\\nbriggs\\nparsons\\nmclaughlin\\nzimmerman\\nfrench\\nbuchanan\\nmoran\\ncopeland\\nroy\\npittman\\nbrady\\nmccormick\\nholloway\\nbrock\\npoole\\nfrank\\nlogan\\nowen\\nbass\\nmarsh\\ndrake\\nwong\\njefferson\\npark\\nmorton\\nabbott\\nsparks\\npatrick\\nnorton\\nhuff\\nclayton\\nmassey\\nlloyd\\nfigueroa\\ncarson\\nbowers\\nroberson\\nbarton\\ntran\\nlamb\\nharrington\\ncasey\\nboone\\ncortez\\nclarke\\nmathis\\nsingleton\\nwilkins\\ncain\\nbryan\\nunderwood\\nhogan\\nmckenzie\\ncollier\\nluna\\nphelps\\nmcguire\\nallison\\nbridges\\nwilkerson\\nnash\\nsummers\\natkins\\nwilcox\\npitts\\nconley\\nmarquez\\nburnett\\nrichard\\ncochran\\nchase\\ndavenport\\nhood\\ngates\\nclay\\nayala\\nsawyer\\nroman\\nvazquez\\ndickerson\\nhodge\\nacosta\\nflynn\\nespinoza\\nnicholson\\nmonroe\\nwolf\\nmorrow\\nkirk\\nrandall\\nanthony\\nwhitaker\\noconnor\\nskinner\\nware\\nmolina\\nkirby\\nhuffman\\nbradford\\ncharles\\ngilmore\\ndominguez\\noneal\\nbruce\\nlang\\ncombs\\nkramer\\nheath\\nhancock\\ngallagher\\ngaines\\nshaffer\\nshort\\nwiggins\\nmathews\\nmcclain\\nfischer\\nwall\\nsmall\\nmelton\\nhensley\\nbond\\ndyer\\ncameron\\ngrimes\\ncontreras\\nchristian\\nwyatt\\nbaxter\\nsnow\\nmosley\\nshepherd\\nlarsen\\nhoover\\nbeasley\\nglenn\\npetersen\\nwhitehead\\nmeyers\\nkeith\\ngarrison\\nvincent\\nshields\\nhorn\\nsavage\\nolsen\\nschroeder\\nhartman\\nwoodard\\nmueller\\nkemp\\ndeleon\\nbooth\\npatel\\ncalhoun\\nwiley\\neaton\\ncline\\nnavarro\\nharrell\\nlester\\nhumphrey\\nparrish\\nduran\\nhutchinson\\nhess\\ndorsey\\nbullock\\nrobles\\nbeard\\ndalton\\navila\\nvance\\nrich\\nblackwell\\nyork\\njohns\\nblankenship\\ntrevino\\nsalinas\\ncampos\\npruitt\\nmoses\\ncallahan\\ngolden\\nmontoya\\nhardin\\nguerra\\nmcdowell\\ncarey\\nstafford\\ngallegos\\nhenson\\nwilkinson\\nbooker\\nmerritt\\nmiranda\\natkinson\\norr\\ndecker\\nhobbs\\npreston\\ntanner\\nknox\\npacheco\\nstephenson\\nglass\\nrojas\\nserrano\\nmarks\\nhickman\\nenglish\\nsweeney\\nstrong\\nprince\\nmcclure\\nconway\\nwalter\\nroth\\nmaynard\\nfarrell\\nlowery\\nhurst\\nnixon\\nweiss\\ntrujillo\\nellison\\nsloan\\njuarez\\nwinters\\nmclean\\nrandolph\\nleon\\nboyer\\nvillarreal\\nmccall\\ngentry\\ncarrillo\\nkent\\nayers\\nlara\\nshannon\\nsexton\\npace\\nhull\\nleblanc\\nbrowning\\nvelasquez\\nleach\\nchang\\nhouse\\nsellers\\nherring\\nnoble\\nfoley\\nbartlett\\nmercado\\nlandry\\ndurham\\nwalls\\nbarr\\nmckee\\nbauer\\nrivers\\neverett\\nbradshaw\\npugh\\nvelez\\nrush\\nestes\\ndodson\\nmorse\\nsheppard\\nweeks\\ncamacho\\nbean\\nbarron\\nlivingston\\nmiddleton\\nspears\\nbranch\\nblevins\\nchen\\nkerr\\nmcconnell\\nhatfield\\nharding\\nashley\\nsolis\\nherman\\nfrost\\ngiles\\nblackburn\\nwilliam\\npennington\\nwoodward\\nfinley\\nmcintosh\\nkoch\\nbest\\nsolomon\\nmccullough\\ndudley\\nnolan\\nblanchard\\nrivas\\nbrennan\\nmejia\\nkane\\nbenton\\njoyce\\nbuckley\\nhaley\\nvalentine\\nmaddox\\nrusso\\nmcknight\\nbuck\\nmoon\\nmcmillan\\ncrosby\\nberg\\ndotson\\nmays\\nroach\\nchurch\\nchan\\nrichmond\\nmeadows\\nfaulkner\\noneill\\nknapp\\nkline\\nbarry\\nochoa\\njacobson\\ngay\\navery\\nhendricks\\nhorne\\nshepard\\nhebert\\ncherry\\ncardenas\\nmcintyre\\nwhitney\\nwaller\\nholman\\ndonaldson\\ncantu\\nterrell\\nmorin\\ngillespie\\nfuentes\\ntillman\\nsanford\\nbentley\\npeck\\nkey\\nsalas\\nrollins\\ngamble\\ndickson\\nbattle\\nsantana\\ncabrera\\ncervantes\\nhowe\\nhinton\\nhurley\\nspence\\nzamora\\nyang\\nmcneil\\nsuarez\\ncase\\npetty\\ngould\\nmcfarland\\nsampson\\ncarver\\nbray\\nrosario\\nmacdonald\\nstout\\nhester\\nmelendez\\ndillon\\nfarley\\nhopper\\ngalloway\\npotts\\nbernard\\njoyner\\nstein\\naguirre\\nosborn\\nmercer\\nbender\\nfranco\\nrowland\\nsykes\\nbenjamin\\ntravis\\npickett\\ncrane\\nsears\\nmayo\\ndunlap\\nhayden\\nwilder\\nmckay\\ncoffey\\nmccarty\\newing\\ncooley\\nvaughan\\nbonner\\ncotton\\nholder\\nstark\\nferrell\\ncantrell\\nfulton\\nlynn\\nlott\\ncalderon\\nrosa\\npollard\\nhooper\\nburch\\nmullen\\nfry\\nriddle\\nlevy\\ndavid\\nduke\\nodonnell\\nguy\\nmichael\\nbritt\\nfrederick\\ndaugherty\\nberger\\ndillard\\nalston\\njarvis\\nfrye\\nriggs\\nchaney\\nodom\\nduffy\\nfitzpatrick\\nvalenzuela\\nmerrill\\nmayer\\nalford\\nmcpherson\\nacevedo\\ndonovan\\nbarrera\\nalbert\\ncote\\nreilly\\ncompton\\nraymond\\nmooney\\nmcgowan\\ncraft\\ncleveland\\nclemons\\nwynn\\nnielsen\\nbaird\\nstanton\\nsnider\\nrosales\\nbright\\nwitt\\nstuart\\nhays\\nholden\\nrutledge\\nkinney\\nclements\\ncastaneda\\nslater\\nhahn\\nemerson\\nconrad\\nburks\\ndelaney\\npate\\nlancaster\\nsweet\\njustice\\ntyson\\nsharpe\\nwhitfield\\ntalley\\nmacias\\nirwin\\nburris\\nratliff\\nmccray\\nmadden\\nkaufman\\nbeach\\ngoff\\ncash\\nbolton\\nmcfadden\\nlevine\\ngood\\nbyers\\nkirkland\\nkidd\\nworkman\\ncarney\\ndale\\nmcleod\\nholcomb\\nengland\\nfinch\\nhead\\nburt\\nhendrix\\nsosa\\nhaney\\nfranks\\nsargent\\nnieves\\ndowns\\nrasmussen\\nbird\\nhewitt\\nlindsay\\nle\\nforeman\\nvalencia\\noneil\\ndelacruz\\nvinson\\ndejesus\\nhyde\\nforbes\\ngilliam\\nguthrie\\nwooten\\nhuber\\nbarlow\\nboyle\\nmcmahon\\nbuckner\\nrocha\\npuckett\\nlangley\\nknowles\\ncooke\\nvelazquez\\nwhitley\\nnoel\\nvang\\nshea\\nrouse\\nhartley\\nmayfield\\nelder\\nrankin\\nhanna\\ncowan\\nlucero\\narroyo\\nslaughter\\nhaas\\noconnell\\nminor\\nkendrick\\nshirley\\nkendall\\nboucher\\narcher\\nboggs\\nodell\\ndougherty\\nandersen\\nnewell\\ncrowe\\nwang\\nfriedman\\nbland\\nswain\\nholley\\nfelix\\npearce\\nchilds\\nyarbrough\\ngalvan\\nproctor\\nmeeks\\nlozano\\nmora\\nrangel\\nbacon\\nvillanueva\\nschaefer\\nrosado\\nhelms\\nboyce\\ngoss\\nstinson\\nsmart\\nlake\\nibarra\\nhutchins\\ncovington\\nreyna\\ngregg\\nwerner\\ncrowley\\nhatcher\\nmackey\\nbunch\\nwomack\\npolk\\njamison\\ndodd\\nchildress\\nchilders\\ncamp\\nvilla\\ndye\\nspringer\\nmahoney\\ndailey\\nbelcher\\nlockhart\\ngriggs\\ncosta\\nconnor\\nbrandt\\nwinter\\nwalden\\nmoser\\ntracy\\ntatum\\nmccann\\nakers\\nlutz\\npryor\\nlaw\\norozco\\nmcallister\\nlugo\\ndavies\\nshoemaker\\nmadison\\nrutherford\\nnewsome\\nmagee\\nchamberlain\\nblanton\\nsimms\\ngodfrey\\nflanagan\\ncrum\\ncordova\\nescobar\\ndowning\\nsinclair\\ndonahue\\nkrueger\\nmcginnis\\ngore\\nfarris\\nwebber\\ncorbett\\nandrade\\nstarr\\nlyon\\nyoder\\nhastings\\nmcgrath\\nspivey\\nkrause\\nharden\\ncrabtree\\nkirkpatrick\\nhollis\\nbrandon\\narrington\\nervin\\nclifton\\nritter\\nmcghee\\nbolden\\nmaloney\\ngagnon\\ndunbar\\nponce\\npike\\nmayes\\nheard\\nbeatty\\nmobley\\nkimball\\nbutts\\nmontes\\nherbert\\ngrady\\neldridge\\nbraun\\nhamm\\ngibbons\\nseymour\\nmoyer\\nmanley\\nherron\\nplummer\\nelmore\\ncramer\\ngary\\nrucker\\nhilton\\nblue\\npierson\\nfontenot\\nfield\\nrubio\\ngrace\\ngoldstein\\nelkins\\nwills\\nnovak\\njohn\\nhickey\\nworley\\ngorman\\nkatz\\ndickinson\\nbroussard\\nfritz\\nwoodruff\\ncrow\\nchristopher\\nbritton\\nforrest\\nnance\\nlehman\\nbingham\\nzuniga\\nwhaley\\nshafer\\ncoffman\\nsteward\\ndelarosa\\nnix\\nneely\\nnumbers\\nmata\\nmanuel\\ndavila\\nmccabe\\nkessler\\nemery\\nbowling\\nhinkle\\nwelsh\\npagan\\ngoldberg\\ngoins\\ncrouch\\ncuevas\\nquinones\\nmcdermott\\nhendrickson\\nsamuels\\ndenton\\nbergeron\\nlam\\nivey\\nlocke\\nhaines\\nthurman\\nsnell\\nhoskins\\nbyrne\\nmilton\\nwinston\\narthur\\narias\\nstanford\\nroe\\ncorbin\\nbeltran\\nchappell\\nhurt\\ndowney\\ndooley\\ntuttle\\ncouch\\npayton\\nmcelroy\\ncrockett\\ngroves\\nclement\\nleslie\\ncartwright\\ndickey\\nmcgill\\ndubois\\nmuniz\\nerwin\\nself\\ntolbert\\ndempsey\\ncisneros\\nsewell\\nlatham\\ngarland\\nvigil\\ntapia\\nsterling\\nrainey\\nnorwood\\nlacy\\nstroud\\nmeade\\namos\\ntipton\\nlord\\nkuhn\\nhilliard\\nbonilla\\nteague\\ncourtney\\ngunn\\nho\\ngreenwood\\ncorrea\\nreece\\nweston\\npoe\\ntrent\\npineda\\nphipps\\nfrey\\nkaiser\\names\\npaige\\ngunter\\nschmitt\\nmilligan\\nespinosa\\ncarlton\\nbowden\\nvickers\\nlowry\\npritchard\\ncostello\\npiper\\nmcclellan\\nlovell\\ndrew\\nsheehan\\nquick\\nhatch\\ndobson\\nsingh\\njeffries\\nhollingsworth\\nsorensen\\nmeza\\nfink\\ndonnelly\\nburrell\\nbruno\\ntomlinson\\ncolbert\\nbillings\\nritchie\\nhelton\\nsutherland\\npeoples\\nmcqueen\\ngaston\\nthomason\\nmckinley\\ngivens\\ncrocker\\nvogel\\nrobison\\ndunham\\ncoker\\nswartz\\nkeys\\nlilly\\nladner\\nhannah\\nwillard\\nrichter\\nhargrove\\nedmonds\\nbrantley\\nalbright\\nmurdock\\nboswell\\nmuller\\nquintero\\npadgett\\nkenney\\ndaly\\nconnolly\\npierre\\ninman\\nquintana\\nlund\\nbarnard\\nvillegas\\nsimons\\nland\\nhuggins\\ntidwell\\nsanderson\\nbullard\\nmcclendon\\nduarte\\ndraper\\nmeredith\\nmarrero\\ndwyer\\nabrams\\nstover\\ngoode\\nfraser\\ncrews\\nbernal\\nsmiley\\ngodwin\\nfish\\nconklin\\nmcneal\\nbaca\\nesparza\\ncrowder\\nbower\\nnicholas\\nchung\\nbrewster\\nmcneill\\ndick\\nrodrigues\\nleal\\ncoates\\nraines\\nmccain\\nmccord\\nminer\\nholbrook\\nswift\\ndukes\\ncarlisle\\naldridge\\nackerman\\nstarks\\nricks\\nholliday\\nferris\\nhairston\\nsheffield\\nlange\\nfountain\\nmarino\\ndoss\\nbetts\\nkaplan\\ncarmichael\\nbloom\\nruffin\\npenn\\nkern\\nbowles\\nsizemore\\nlarkin\\ndupree\\njewell\\nsilver\\nseals\\nmetcalf\\nhutchison\\nhenley\\nfarr\\ncastle\\nmccauley\\nhankins\\ngustafson\\ndeal\\ncurran\\nash\\nwaddell\\nramey\\ncates\\npollock\\nmajor\\nirvin\\ncummins\\nmesser\\nheller\\ndewitt\\nlin\\nfunk\\ncornett\\npalacios\\ngalindo\\ncano\\nhathaway\\nsinger\\npham\\nenriquez\\naaron\\nsalgado\\npelletier\\npainter\\nwiseman\\nblount\\nhand\\nfeliciano\\ntemple\\nhouser\\ndoherty\\nmead\\nmcgraw\\ntoney\\nswan\\nmelvin\\ncapps\\nblanco\\nblackmon\\nwesley\\nthomson\\nmcmanus\\nfair\\nburkett\\npost\\ngleason\\nrudolph\\nott\\ndickens\\ncormier\\nvoss\\nrushing\\nrosenberg\\nhurd\\ndumas\\nbenitez\\narellano\\nstory\\nmarin\\ncaudill\\nbragg\\njaramillo\\nhuerta\\ngipson\\ncolvin\\nbiggs\\nvela\\nplatt\\ncassidy\\ntompkins\\nmccollum\\nkay\\ngabriel\\ndolan\\ndaley\\ncrump\\nstreet\\nsneed\\nkilgore\\ngrove\\ngrimm\\ndavison\\nbrunson\\nprater\\nmarcum\\ndevine\\nkyle\\ndodge\\nstratton\\nrosas\\nchoi\\ntripp\\nledbetter\\nlay\\nhightower\\nhaywood\\nfeldman\\nepps\\nyeager\\nposey\\nsylvester\\nscruggs\\ncope\\nstubbs\\nrichey\\noverton\\ntrotter\\nsprague\\ncordero\\nbutcher\\nburger\\nstiles\\nburgos\\nwoodson\\nhorner\\nbassett\\npurcell\\nhaskins\\ngee\\nakins\\nabraham\\nhoyt\\nziegler\\nspaulding\\nhadley\\ngrubbs\\nsumner\\nmurillo\\nzavala\\nshook\\nlockwood\\njarrett\\ndriscoll\\ndahl\\nthorpe\\nsheridan\\nredmond\\nputnam\\nmcwilliams\\nmcrae\\ncornell\\nfelton\\nromano\\njoiner\\nsadler\\nhedrick\\nhager\\nhagen\\nfitch\\ncoulter\\nthacker\\nmansfield\\nlangston\\nguidry\\nferreira\\ncorley\\nconn\\nrossi\\nlackey\\ncody\\nbaez\\nsaenz\\nmcnamara\\ndarnell\\nmichel\\nmcmullen\\nmckenna\\nmcdonough\\nlink\\nengel\\nbrowne\\nroper\\npeacock\\neubanks\\ndrummond\\nstringer\\npritchett\\nparham\\nmims\\nlanders\\nham\\ngrayson\\nstacy\\nschafer\\negan\\ntimmons\\nohara\\nkeen\\nhamlin\\nfinn\\ncortes\\nmcnair\\nlouis\\nclifford\\nnadeau\\nmoseley\\nmichaud\\nrosen\\noakes\\nkurtz\\njeffers\\ncalloway\\nbeal\\nbautista\\nwinn\\nsuggs\\nstern\\nstapleton\\nlyles\\nlaird\\nmontano\\ndiamond\\ndawkins\\nroland\\nhagan\\ngoldman\\nbryson\\nbarajas\\nlovett\\nsegura\\nmetz\\nlockett\\nlangford\\nhinson\\neastman\\nrock\\nhooks\\nwoody\\nsmallwood\\nshapiro\\ncrowell\\nwhalen\\ntriplett\\nhooker\\nchatman\\naldrich\\ncahill\\nyoungblood\\nybarra\\nstallings\\nsheets\\nsamuel\\nreeder\\nperson\\npack\\nlacey\\nconnelly\\nbateman\\nabernathy\\nwinkler\\nwilkes\\nmasters\\nhackett\\ngranger\\ngillis\\nschmitz\\nsapp\\nnapier\\nsouza\\nlanier\\ngomes\\nweir\\notero\\nledford\\nburroughs\\nbabcock\\nventura\\nsiegel\\ndugan\\nclinton\\nchristie\\nbledsoe\\natwood\\nwray\\nvarner\\nspangler\\notto\\nanaya\\nstaley\\nkraft\\nfournier\\neddy\\nbelanger\\nwolff\\nthorne\\nbynum\\nburnette\\nboykin\\nswenson\\npurvis\\npina\\nkhan\\nduvall\\ndarby\\nxiong\\nkauffman\\nali\\nyu\\nhealy\\nengle\\ncorona\\nbenoit\\nvalle\\nsteiner\\nspicer\\nshaver\\nrandle\\nlundy\\ndow\\nchin\\ncalvert\\nstaton\\nneff\\nkearney\\ndarden\\noakley\\nmedeiros\\nmccracken\\ncrenshaw\\nblock\\nbeaver\\nperdue\\ndill\\nwhittaker\\ntobin\\ncornelius\\nwashburn\\nhogue\\ngoodrich\\neasley\\nbravo\\ndennison\\nvera\\nshipley\\nkerns\\njorgensen\\ncrain\\nabel\\nvillalobos\\nmaurer\\nlongoria\\nkeene\\ncoon\\nsierra\\nwitherspoon\\nstaples\\npettit\\nkincaid\\neason\\nmadrid\\nechols\\nlusk\\nwu\\nstahl\\ncurrie\\nthayer\\nshultz\\nsherwood\\nmcnally\\nseay\\nnorth\\nmaher\\nkenny\\nhope\\ngagne\\nbarrow\\nnava\\nmyles\\nmoreland\\nhoneycutt\\nhearn\\ndiggs\\ncaron\\nwhitten\\nwestbrook\\nstovall\\nragland\\nqueen\\nmunson\\nmeier\\nlooney\\nkimble\\njolly\\nhobson\\nlondon\\ngoddard\\nculver\\nburr\\npresley\\nnegron\\nconnell\\ntovar\\nmarcus\\nhuddleston\\nhammer\\nashby\\nsalter\\nroot\\npendleton\\noleary\\nnickerson\\nmyrick\\njudd\\njacobsen\\nelliot\\nbain\\nadair\\nstarnes\\nsheldon\\nmatos\\nlight\\nbusby\\nherndon\\nhanley\\nbellamy\\njack\\ndoty\\nbartley\\nyazzie\\nrowell\\nparson\\ngifford\\ncullen\\nchristiansen\\nbenavides\\nbarnhart\\ntalbot\\nmock\\ncrandall\\nconnors\\nbonds\\nwhitt\\ngage\\nbergman\\narredondo\\naddison\\nmarion\\nlujan\\ndowdy\\njernigan\\nhuynh\\nbouchard\\ndutton\\nrhoades\\nouellette\\nkiser\\nrubin\\nherrington\\nhare\\ndenny\\nblackman\\nbabb\\nallred\\nrudd\\npaulson\\nogden\\nkoenig\\njacob\\nirving\\ngeiger\\nbegay\\nparra\\nchampion\\nlassiter\\nhawk\\nesposito\\ncho\\nwaldron\\nvernon\\nransom\\nprather\\nkeenan\\njean\\ngrover\\nchacon\\nvick\\nsands\\nroark\\nparr\\nmayberry\\ngreenberg\\ncoley\\nbruner\\nwhitman\\nskaggs\\nshipman\\nmeans\\nleary\\nhutton\\nromo\\nmedrano\\nladd\\nkruse\\nfriend\\ndarling\\naskew\\nvalentin\\nschulz\\nalfaro\\ntabor\\nmohr\\ngallo\\nbermudez\\npereira\\nisaac\\nbliss\\nreaves\\nflint\\ncomer\\nboston\\nwoodall\\nnaquin\\nguevara\\nearl\\ndelong\\ncarrier\\npickens\\nbrand\\ntilley\\nschaffer\\nread\\nlim\\nknutson\\nfenton\\ndoran\\nchu\\nvogt\\nvann\\nprescott\\nmclain\\nlandis\\ncorcoran\\nambrose\\nzapata\\nhyatt\\nhemphill\\nfaulk\\ncall\\ndove\\nboudreaux\\naragon\\nwhitlock\\ntrejo\\ntackett\\nshearer\\nsaldana\\nhanks\\ngold\\ndriver\\nmckinnon\\nkoehler\\nchampagne\\nbourgeois\\npool\\nkeyes\\ngoodson\\nfoote\\nearly\\nlunsford\\ngoldsmith\\nflood\\nwinslow\\nsams\\nreagan\\nmccloud\\nhough\\nesquivel\\nnaylor\\nloomis\\ncoronado\\nludwig\\nbraswell\\nbearden\\nsherrill\\nhuang\\nfagan\\nezell\\nedmondson\\ncyr\\ncronin\\nnunn\\nlemon\\nguillory\\ngrier\\ndubose\\ntraylor\\nryder\\ndobbins\\ncoyle\\naponte\\nwhitmore\\nsmalls\\nrowan\\nmalloy\\ncardona\\nbraxton\\nborden\\nhumphries\\ncarrasco\\nruff\\nmetzger\\nhuntley\\nhinojosa\\nfinney\\nmadsen\\nhong\\nhills\\nernst\\ndozier\\nburkhart\\nbowser\\nperalta\\ndaigle\\nwhittington\\nsorenson\\nsaucedo\\nroche\\nredding\\nloyd\\nfugate\\navalos\\nwaite\\nlind\\nhuston\\nhay\\nbenedict\\nhawthorne\\nhamby\\nboyles\\nboles\\nregan\\nfaust\\ncrook\\nbeam\\nbarger\\nhinds\\ngallardo\\nelias\\nwilloughby\\nwillingham\\nwilburn\\neckert\\nbusch\\nzepeda\\nworthington\\ntinsley\\nruss\\nli\\nhoff\\nhawley\\ncarmona\\nvarela\\nrector\\nnewcomb\\nmallory\\nkinsey\\ndube\\nwhatley\\nstrange\\nragsdale\\nivy\\nbernstein\\nbecerra\\nyost\\nmattson\\nly\\nfelder\\ncheek\\nluke\\nhandy\\ngrossman\\ngauthier\\nescobedo\\nbraden\\nbeckman\\nmott\\nhillman\\ngil\\nflaherty\\ndykes\\ndoe\\nstockton\\nstearns\\nlofton\\nkitchen\\ncoats\\ncavazos\\nbeavers\\nbarrios\\ntang\\nparish\\nmosher\\nlincoln\\ncardwell\\ncoles\\nburnham\\nweller\\nlemons\\nbeebe\\naguilera\\nring\\nparnell\\nharman\\ncouture\\nalley\\nschumacher\\nredd\\ndobbs\\nblum\\nblalock\\nmerchant\\nennis\\ndenson\\ncottrell\\nchester\\nbrannon\\nbagley\\naviles\\nwatt\\nsousa\\nrosenthal\\nrooney\\ndietz\\nblank\\npaquette\\nmcclelland\\nduff\\nvelasco\\nlentz\\ngrubb\\nburrows\\nbarbour\\nulrich\\nshockley\\nrader\\ngerman\\nbeyer\\nmixon\\nlayton\\naltman\\nalonzo\\nweathers\\ntitus\\nstoner\\nsquires\\nshipp\\npriest\\nlipscomb\\ncutler\\ncaballero\\nzimmer\\nwillett\\nthurston\\nstorey\\nmedley\\nlyle\\nepperson\\nshah\\nmcmillian\\nbaggett\\ntorrez\\nlaws\\nhirsch\\ndent\\ncorey\\npoirier\\npeachey\\njacques\\nfarrar\\ncreech\\nbarth\\ntrimble\\nfrance\\ndupre\\nalbrecht\\nsample\\nlawler\\ncrisp\\nconroy\\nchadwick\\nwetzel\\nnesbitt\\nmurry\\njameson\\nwilhelm\\npatten\\nminton\\nmatson\\nkimbrough\\niverson\\nguinn\\ngale\\nfortune\\ncroft\\ntoth\\npulliam\\nnugent\\nnewby\\nlittlejohn\\ndias\\ncanales\\nbernier\\nbaron\\nbarney\\nsingletary\\nrenteria\\npruett\\nmchugh\\nmabry\\nlandrum\\nbrower\\nweldon\\nstoddard\\nruth\\ncagle\\nstjohn\\nscales\\nkohler\\nkellogg\\nhopson\\ngant\\ntharp\\ngann\\nzeigler\\npringle\\nhammons\\nfairchild\\ndeaton\\nchavis\\ncarnes\\nrowley\\nmatlock\\nlibby\\nkearns\\nirizarry\\ncarrington\\nstarkey\\npepper\\nlopes\\njarrell\\nfay\\ncraven\\nbeverly\\nbaum\\nspain\\nlittlefield\\nlinn\\nhumphreys\\nhook\\nhigh\\netheridge\\ncuellar\\nchastain\\nchance\\nbundy\\nspeer\\nskelton\\nquiroz\\npyle\\nportillo\\nponder\\nmoulton\\nmachado\\nliu\\nkillian\\nhutson\\nhitchcock\\nellsworth\\ndowling\\ncloud\\nburdick\\nspann\\npedersen\\nlevin\\nleggett\\nhayward\\nhacker\\ndietrich\\nbeaulieu\\nbarksdale\\nwakefield\\nsnowden\\nparis\\nbriscoe\\nbowie\\nberman\\nogle\\nmcgregor\\nlaughlin\\nhelm\\nburden\\nwheatley\\nschreiber\\npressley\\nparris\\nng\\nalaniz\\nagee\\nurban\\nswann\\nsnodgrass\\nschuster\\nradford\\nmonk\\nmattingly\\nmain\\nlamar\\nharp\\ngirard\\ncheney\\nyancey\\nwagoner\\nridley\\nlombardo\\nlau\\nhudgins\\ngaskins\\nduckworth\\ncoe\\ncoburn\\nwilley\\nprado\\nnewberry\\nmagana\\nhammonds\\nelam\\nwhipple\\nslade\\nserna\\nojeda\\nliles\\ndorman\\ndiehl\\nangel\\nupton\\nreardon\\nmichaels\\nkelsey\\ngoetz\\neller\\nbauman\\nbaer\\naugustine\\nlayne\\nhummel\\nbrenner\\namaya\\nadamson\\nornelas\\ndowell\\ncloutier\\nchristy\\ncastellanos\\nwing\\nwellman\\nsaylor\\norourke\\nmoya\\nmontalvo\\nkilpatrick\\nharley\\ndurbin\\nshell\\noldham\\nkang\\ngarvin\\nfoss\\nbranham\\nbartholomew\\ntempleton\\nmaguire\\nholton\\nalonso\\nrider\\nmonahan\\nmccormack\\nbeaty\\nanders\\nstreeter\\nnieto\\nnielson\\nmoffett\\nlankford\\nkeating\\nheck\\ngatlin\\ndelatorre\\ncallaway\\nadcock\\nworrell\\nunger\\nrobinette\\nnowak\\njeter\\nbrunner\\nashton\\nsteen\\nparrott\\noverstreet\\nnobles\\nmontanez\\nluther\\nclevenger\\nbrinkley\\ntrahan\\nquarles\\npickering\\npederson\\njansen\\ngrantham\\ngilchrist\\ncrespo\\naiken\\nschell\\nschaeffer\\nlorenz\\nleyva\\nharms\\ndyson\\nwallis\\npease\\nleavitt\\nhyman\\ncheng\\ncavanaugh\\nbatts\\nwarden\\nseaman\\nrockwell\\nquezada\\npaxton\\nlinder\\nhouck\\nfontaine\\ndurant\\ncaruso\\nadler\\npimentel\\nmize\\nlytle\\ndonald\\ncleary\\ncason\\nacker\\nswitzer\\nsalmon\\nisaacs\\nhigginbotham\\nhan\\nwaterman\\nvandyke\\nstamper\\nsisk\\nshuler\\nriddick\\nredman\\nmcmahan\\nlevesque\\nhatton\\nbronson\\nbollinger\\narnett\\nokeefe\\ngerber\\ngannon\\nfarnsworth\\nbaughman\\nsilverman\\nsatterfield\\nroyal\\nmccrary\\nkowalski\\njoy\\ngrigsby\\ngreco\\ncabral\\ntrout\\nrinehart\\nmahon\\nlinton\\ngooden\\ncurley\\nbaugh\\nwyman\\nweiner\\nschwab\\nschuler\\nmorrissey\\nmahan\\ncoy\\nbunn\\nandrew\\nthrasher\\nspear\\nwaggoner\\nshelley\\nrobert\\nqualls\\npurdy\\nmcwhorter\\nmauldin\\nmark\\njordon\\ngilman\\nperryman\\nnewsom\\nmenard\\nmartino\\ngraf\\nbillingsley\\nartis\\nsimpkins\\nsalisbury\\nquintanilla\\ngilliland\\nfraley\\nfoust\\ncrouse\\nscarborough\\nngo\\ngrissom\\nfultz\\nrico\\nmarlow\\nmarkham\\nmadrigal\\nlawton\\nbarfield\\nwhiting\\nvarney\\nschwarz\\nhuey\\ngooch\\narce\\nwheat\\ntruong\\npoulin\\nmackenzie\\nleone\\nhurtado\\nselby\\ngaither\\nfortner\\nculpepper\\ncoughlin\\nbrinson\\nboudreau\\nbarkley\\nbales\\nstepp\\nholm\\ntan\\nschilling\\nmorrell\\nkahn\\nheaton\\ngamez\\ndouglass\\ncausey\\nbrothers\\nturpin\\nshanks\\nschrader\\nmeek\\nisom\\nhardison\\ncarranza\\nyanez\\nway\\nscroggins\\nschofield\\nrunyon\\nratcliff\\nmurrell\\nmoeller\\nirby\\ncurrier\\nbutterfield\\nyee\\nralston\\npullen\\npinson\\nestep\\neast\\ncarbone\\nlance\\nhawks\\nellington\\ncasillas\\nspurlock\\nsikes\\nmotley\\nmccartney\\nkruger\\nisbell\\nhoule\\nfrancisco\\nburk\\nbone\\ntomlin\\nshelby\\nquigley\\nneumann\\nlovelace\\nfennell\\ncolby\\ncheatham\\nbustamante\\nskidmore\\nhidalgo\\nforman\\nculp\\nbowens\\nbetancourt\\naquino\\nrobb\\nrea\\nmilner\\nmartel\\ngresham\\nwiles\\nricketts\\ngavin\\ndowd\\ncollazo\\nbostic\\nblakely\\nsherrod\\npower\\nkenyon\\ngandy\\nebert\\ndeloach\\ncary\\nbull\\nallard\\nsauer\\nrobins\\nolivares\\ngillette\\nchestnut\\nbourque\\npaine\\nlyman\\nhite\\nhauser\\ndevore\\ncrawley\\nchapa\\nvu\\ntobias\\ntalbert\\npoindexter\\nmillard\\nmeador\\nmcduffie\\nmattox\\nkraus\\nharkins\\nchoate\\nbess\\nwren\\nsledge\\nsanborn\\noutlaw\\nkinder\\ngeary\\ncornwell\\nbarclay\\nadam\\nabney\\nseward\\nrhoads\\nhowland\\nfortier\\neaster\\nbenner\\nvines\\ntubbs\\ntroutman\\nrapp\\nnoe\\nmccurdy\\nharder\\ndeluca\\nwestmoreland\\nsouth\\nhavens\\nguajardo\\nely\\nclary\\nseal\\nmeehan\\nherzog\\nguillen\\nashcraft\\nwaugh\\nrenner\\nmilam\\njung\\nelrod\\nchurchill\\nbuford\\nbreaux\\nbolin\\nasher\\nwindham\\ntirado\\npemberton\\nnolen\\nnoland\\nknott\\nemmons\\ncornish\\nchristenson\\nbrownlee\\nbarbee\\nwaldrop\\npitt\\nolvera\\nlombardi\\ngruber\\ngaffney\\neggleston\\nbanda\\narchuleta\\nstill\\nslone\\nprewitt\\npfeiffer\\nnettles\\nmena\\nmcadams\\nhenning\\ngardiner\\ncromwell\\nchisholm\\nburleson\\nbox\\nvest\\noglesby\\nmccarter\\nmalcolm\\nlumpkin\\nlarue\\ngrey\\nwofford\\nvanhorn\\nthorn\\nteel\\nswafford\\nstclair\\nstanfield\\nocampo\\nherrmann\\nhannon\\narsenault\\nroush\\nmcalister\\nhiatt\\ngunderson\\nforsythe\\nduggan\\ndelvalle\\ncintron\\nwilks\\nweinstein\\nuribe\\nrizzo\\nnoyes\\nmclendon\\ngurley\\nbethea\\nwinstead\\nmaples\\nharry\\nguyton\\ngiordano\\nalderman\\nvaldes\\npolanco\\npappas\\nlively\\ngrogan\\ngriffiths\\nbobo\\narevalo\\nwhitson\\nsowell\\nrendon\\nmatthew\\njulian\\nfernandes\\nfarrow\\nedmond\\nbenavidez\\nayres\\nalicea\\nstump\\nsmalley\\nseitz\\nschulte\\ngilley\\ngallant\\ndewey\\ncasper\\ncanfield\\nwolford\\nomalley\\nmcnutt\\nmcnulty\\nmcgovern\\nhardman\\nharbin\\ncowart\\nchavarria\\nbrink\\nbeckett\\nbagwell\\narmstead\\nanglin\\nabreu\\nreynoso\\nkrebs\\njett\\nhoffmann\\ngreenfield\\nforte\\nburney\\nbroome\\nsisson\\nparent\\njude\\nyounger\\ntrammell\\npartridge\\nmarvin\\nmace\\nlomax\\nlemieux\\ngossett\\nfrantz\\nfogle\\ncooney\\nbroughton\\npence\\npaulsen\\nneil\\nmuncy\\nmcarthur\\nhollins\\nedward\\nbeauchamp\\nwithers\\nosorio\\nmulligan\\nhoyle\\nfoy\\ndockery\\ncockrell\\nbegley\\namador\\nroby\\nrains\\nlindquist\\ngentile\\neverhart\\nbohannon\\nwylie\\nthao\\nsommers\\npurnell\\npalma\\nfortin\\ndunning\\nbreeden\\nvail\\nphelan\\nphan\\nmarx\\ncosby\\ncolburn\\nchong\\nboling\\nbiddle\\nledesma\\ngaddis\\ndenney\\nchow\\nbueno\\nberrios\\nwicker\\ntolliver\\nthibodeaux\\nnagle\\nlavoie\\nfisk\\ndo\\ncrist\\nbarbosa\\nreedy\\nmarch\\nlocklear\\nkolb\\nhimes\\nbehrens\\nbeckwith\\nbeckham\\nweems\\nwahl\\nshorter\\nshackelford\\nrees\\nmuse\\nfree\\ncerda\\nvaladez\\nthibodeau\\nsaavedra\\nridgeway\\nreiter\\nmchenry\\nmajors\\nlachance\\nkeaton\\nisrael\\nferrara\\nfalcon\\nclemens\\nblocker\\napplegate\\npaz\\nneedham\\nmojica\\nkuykendall\\nhamel\\nescamilla\\ndoughty\\nburchett\\nainsworth\\nwilbur\\nvidal\\nupchurch\\nthigpen\\nstrauss\\nspruill\\nsowers\\nriggins\\nricker\\nmccombs\\nharlow\\ngarnett\\nbuffington\\nyi\\nsotelo\\nolivas\\nnegrete\\nmorey\\nmacon\\nlogsdon\\nlapointe\\nflorence\\ncathey\\nbigelow\\nbello\\nwestfall\\nstubblefield\\npeak\\nlindley\\njeffrey\\nhein\\nhawes\\nfarrington\\nedge\\nbreen\\nbirch\\nwilde\\nsteed\\nsepulveda\\nreinhardt\\nproffitt\\nminter\\nmessina\\nmcnabb\\nmaier\\nkeeler\\ngamboa\\ndonohue\\ndexter\\nbasham\\nshinn\\norlando\\ncrooks\\ncota\\nborders\\nbills\\nbachman\\ntisdale\\ntavares\\nschmid\\npickard\\njasper\\ngulley\\nfonseca\\ndelossantos\\ncondon\\nclancy\\nbatista\\nwicks\\nwadsworth\\nnew\\nmartell\\nlo\\nlittleton\\nison\\nhaag\\nfolsom\\nbrumfield\\nbroyles\\nbrito\\nmireles\\nmcdonnell\\nleclair\\nhamblin\\ngough\\nfanning\\nbinder\\nwinfield\\nwhitworth\\nsoriano\\npalumbo\\nnewkirk\\nmangum\\nhutcherson\\ncomstock\\ncecil\\ncarlin\\nbeall\\nbair\\nwendt\\nwatters\\nwalling\\nputman\\notoole\\noliva\\nmorley\\nmares\\nlemus\\nkeener\\njeffery\\nhundley\\ndial\\ndamico\\nbillups\\nstrother\\nmcfarlane\\nlamm\\neaves\\ncrutcher\\ncaraballo\\ncanty\\natwell\\ntaft\\nsiler\\nrust\\nrawls\\nrawlings\\nprieto\\nniles\\nmcneely\\nmcafee\\nhulsey\\nharlan\\nhackney\\ngalvez\\nescalante\\ndelagarza\\ncrider\\ncharlton\\nbandy\\nwilbanks\\nstowe\\nsteinberg\\nsamson\\nrenfro\\nmasterson\\nmassie\\nlanham\\nhaskell\\nhamrick\\nfort\\ndehart\\ncard\\nburdette\\nbranson\\nbourne\\nbabin\\naleman\\nworthy\\ntibbs\\nsweat\\nsmoot\\nslack\\nparadis\\npackard\\nmull\\nluce\\nhoughton\\ngantt\\nfurman\\ndanner\\nchristianson\\nburge\\nbroderick\\nashford\\narndt\\nalmeida\\nstallworth\\nshade\\nsearcy\\nsager\\nnoonan\\nmclemore\\nmcintire\\nmaxey\\nlavigne\\njobe\\nireland\\nferrer\\nfalk\\nedgar\\ncoffin\\nbyrnes\\naranda\\napodaca\\nstamps\\nrounds\\npeek\\nolmstead\\nlewandowski\\nkaminski\\nher\\ndunaway\\nbruns\\nbrackett\\namato\\nreich\\nmcclung\\nlacroix\\nkoontz\\nherrick\\nhardesty\\nflanders\\ncousins\\nclose\\ncato\\ncade\\nvickery\\nshank\\nnagel\\ndupuis\\ncroteau\\ncotter\\ncable\\nstuckey\\nstine\\nporterfield\\npauley\\nnye\\nmoffitt\\nlu\\nknudsen\\nhardwick\\ngoforth\\ndupont\\nblunt\\nbarrows\\nbarnhill\\nshull\\nrash\\nralph\\npenny\\nlorenzo\\nloftis\\nlemay\\nkitchens\\nhorvath\\ngrenier\\nfuchs\\nfairbanks\\nculbertson\\ncalkins\\nburnside\\nbeattie\\nashworth\\nalbertson\\nwertz\\nvo\\nvaught\\nvallejo\\ntyree\\nturk\\ntuck\\ntijerina\\nsage\\npicard\\npeterman\\notis\\nmarroquin\\nmarr\\nlantz\\nhoang\\ndemarco\\ndaily\\ncone\\nberube\\nbarnette\\nwharton\\nstinnett\\nslocum\\nscanlon\\nsander\\npinto\\nmancuso\\nlima\\njudge\\nheadley\\nepstein\\ncounts\\nclarkson\\ncarnahan\\nbrice\\nboren\\narteaga\\nadame\\nzook\\nwhittle\\nwhitehurst\\nwenzel\\nsaxton\\nrhea\\nreddick\\npuente\\nhazel\\nhandley\\nhaggerty\\nearley\\ndevlin\\ndallas\\nchaffin\\ncady\\nahmed\\nacuna\\nsolano\\nsigler\\npollack\\npendergrass\\nostrander\\njanes\\nfrancois\\nfine\\ncrutchfield\\ncordell\\nchamberlin\\nbrubaker\\nbaptiste\\nwillson\\nreis\\nneeley\\nmullin\\nmercier\\nlira\\nlayman\\nkeeling\\nhigdon\\nguest\\nforrester\\nespinal\\ndion\\nchapin\\ncarl\\nwarfield\\ntoledo\\npulido\\npeebles\\nnagy\\nmontague\\nmello\\nlear\\njaeger\\nhogg\\ngraff\\nfurr\\nderrick\\ncave\\ncanada\\nsoliz\\npoore\\nmendenhall\\nmclaurin\\nmaestas\\nlow\\ngable\\nbelt\\nbarraza\\ntillery\\nsnead\\npond\\nneill\\nmcculloch\\nmccorkle\\nlightfoot\\nhutchings\\nholloman\\nharness\\ndorn\\ncouncil\\nbock\\nzielinski\\nturley\\ntreadwell\\nstpierre\\nstarling\\nsomers\\noswald\\nmerrick\\nmarquis\\nivory\\neasterling\\nbivens\\ntruitt\\nposton\\nparry\\nontiveros\\nolivarez\\nneville\\nmoreau\\nmedlin\\nma\\nlenz\\nknowlton\\nfairley\\ncobbs\\nchisolm\\nbannister\\nwoodworth\\ntoler\\nocasio\\nnoriega\\nneuman\\nmoye\\nmilburn\\nmcclanahan\\nlilley\\nhanes\\nflannery\\ndellinger\\ndanielson\\nconti\\nblodgett\\nbeers\\nweatherford\\nstrain\\nkarr\\nhitt\\ndenham\\ncuster\\ncoble\\nclough\\ncasteel\\nbolduc\\nbatchelor\\nammons\\nwhitlow\\ntierney\\nstaten\\nsibley\\nseifert\\nschubert\\nsalcedo\\nmattison\\nlaney\\nhaggard\\ngrooms\\ndix\\ndees\\ncromer\\ncooks\\ncolson\\ncaswell\\nzarate\\nswisher\\nstacey\\nshin\\nragan\\npridgen\\nmcvey\\nmatheny\\nleigh\\nlafleur\\nfranz\\nferraro\\ndugger\\nwhiteside\\nrigsby\\nmcmurray\\nlehmann\\nlarge\\njacoby\\nhildebrand\\nhendrick\\nheadrick\\ngoad\\nfincher\\ndrury\\nborges\\narchibald\\nalbers\\nwoodcock\\ntrapp\\nsoares\\nseaton\\nrichie\\nmonson\\nluckett\\nlindberg\\nkopp\\nkeeton\\nhsu\\nhealey\\ngarvey\\ngaddy\\nfain\\nburchfield\\nbadger\\nwentworth\\nstrand\\nstack\\nspooner\\nsaucier\\nsales\\nruby\\nricci\\nplunkett\\npannell\\nness\\nleger\\nhoy\\nfreitas\\nfong\\nelizondo\\nduval\\nchun\\ncalvin\\nbeaudoin\\nurbina\\nstock\\nrickard\\npartin\\nmoe\\nmcgrew\\nmcclintock\\nledoux\\nforsyth\\nfaison\\ndevries\\nbertrand\\nwasson\\ntilton\\nscarbrough\\npride\\noh\\nleung\\nlarry\\nirvine\\ngarber\\ndenning\\ncorral\\ncolley\\ncastleberry\\nbowlin\\nbogan\\nbeale\\nbaines\\ntrue\\ntrice\\nrayburn\\nparkinson\\npak\\nnunes\\nmcmillen\\nleahy\\nlea\\nkimmel\\nhiggs\\nfulmer\\ncarden\\nbedford\\ntaggart\\nspearman\\nregister\\nprichard\\nmorrill\\nkoonce\\nheinz\\nhedges\\nguenther\\ngrice\\nfindley\\nearle\\ndover\\ncreighton\\nboothe\\nbayer\\narreola\\nvitale\\nvalles\\nsee\\nraney\\npeter\\nosgood\\nlowell\\nhanlon\\nburley\\nbounds\\nworden\\nweatherly\\nvetter\\ntanaka\\nstiltner\\nsell\\nnevarez\\nmosby\\nmontero\\nmelancon\\nharter\\nhamer\\ngoble\\ngladden\\ngist\\nginn\\nakin\\nzaragoza\\ntowns\\ntarver\\nsammons\\nroyster\\noreilly\\nmuir\\nmorehead\\nluster\\nkingsley\\nkelso\\ngrisham\\nglynn\\nbaumann\\nalves\\nyount\\ntamayo\\ntam\\npaterson\\noates\\nmenendez\\nlongo\\nhargis\\ngreenlee\\ngillen\\ndesantis\\nconover\\nbreedlove\\nwayne\\nsumpter\\nscherer\\nrupp\\nreichert\\nheredia\\nfallon\\ncreel\\ncohn\\nclemmons\\ncasas\\nbickford\\nbelton\\nbach\\nwilliford\\nwhitcomb\\ntennant\\nsutter\\nstull\\nsessions\\nmccallum\\nmanson\\nlanglois\\nkeel\\nkeegan\\nemanuel\\ndangelo\\ndancy\\ndamron\\nclapp\\nclanton\\nbankston\\ntrinidad\\noliveira\\nmintz\\nmcinnis\\nmartens\\nmabe\\nlaster\\njolley\\nirish\\nhildreth\\nhefner\\nglaser\\nduckett\\ndemers\\nbrockman\\nblais\\nback\\nalcorn\\nagnew\\ntoliver\\ntice\\nsong\\nseeley\\nnajera\\nmusser\\nmcfall\\nlaplante\\ngalvin\\nfajardo\\ndoan\\ncoyne\\ncopley\\nclawson\\ncheung\\nbarone\\nwynne\\nwoodley\\ntremblay\\nstoll\\nsparrow\\nsparkman\\nschweitzer\\nsasser\\nsamples\\nroney\\nramon\\nlegg\\nlai\\njoe\\nheim\\nfarias\\nconcepcion\\ncolwell\\nchristman\\nbratcher\\nalba\\nwinchester\\nupshaw\\nsoutherland\\nsorrell\\nshay\\nsells\\nmount\\nmccloskey\\nmartindale\\nluttrell\\nloveless\\nlovejoy\\nlinares\\nlatimer\\nholly\\nembry\\ncoombs\\nbratton\\nbostick\\nboss\\nvenable\\ntuggle\\ntoro\\nstaggs\\nsandlin\\njefferies\\nheckman\\ngriffis\\ncrayton\\nclem\\nbutton\\nbrowder\\nallan\\nthorton\\nsturgill\\nsprouse\\nroyer\\nrousseau\\nridenour\\npogue\\nperales\\npeeples\\nmetzler\\nmesa\\nmccutcheon\\nmcbee\\njay\\nhornsby\\nheffner\\ncorrigan\\narmijo\\nvue\\nromeo\\nplante\\npeyton\\nparedes\\nmacklin\\nhussey\\nhodgson\\ngranados\\nfrias\\ncarman\\nbrent\\nbecnel\\nbatten\\nalmanza\\nturney\\nteal\\nsturgeon\\nmeeker\\nmcdaniels\\nlimon\\nkeeney\\nkee\\nhutto\\nholguin\\ngorham\\nfishman\\nfierro\\nblanchette\\nrodrigue\\nreddy\\nosburn\\noden\\nlerma\\nkirkwood\\nkeefer\\nhaugen\\nhammett\\nchalmers\\ncarlos\\nbrinkman\\nbaumgartner\\nzhang\\nvalerio\\ntellez\\nsteffen\\nshumate\\nsauls\\nripley\\nkemper\\njacks\\nguffey\\nevers\\ncraddock\\ncarvalho\\nblaylock\\nbanuelos\\nbalderas\\nwooden\\nwheaton\\nturnbull\\nshuman\\npointer\\nmosier\\nmccue\\nligon\\nkozlowski\\njohansen\\ningle\\nherr\\nbriones\\nsouthern\\nsnipes\\nrickman\\npipkin\\npeace\\npantoja\\norosco\\nmoniz\\nlawless\\nkunkel\\nhibbard\\ngalarza\\nenos\\nbussey\\nsettle\\nschott\\nsalcido\\nperreault\\nmcdougal\\nmccool\\nhaight\\ngarris\\nferry\\neaston\\nconyers\\natherton\\nwimberly\\nutley\\nstephen\\nspellman\\nsmithson\\nslagle\\nskipper\\nritchey\\nrand\\npetit\\nosullivan\\noaks\\nnutt\\nmcvay\\nmccreary\\nmayhew\\nknoll\\njewett\\nharwood\\nhailey\\ncardoza\\nashe\\narriaga\\nandres\\nzeller\\nwirth\\nwhitmire\\nstauffer\\nspring\\nrountree\\nredden\\nmccaffrey\\nmartz\\nloving\\nlarose\\nlangdon\\nhumes\\ngaskin\\nfaber\\ndoll\\ndevito\\ncass\\nalmond\\nwingfield\\nwingate\\nvillareal\\ntyner\\nsmothers\\nseverson\\nreno\\npennell\\nmaupin\\nleighton\\njanssen\\nhassell\\nhallman\\nhalcomb\\nfolse\\nfitzsimmons\\nfahey\\ncranford\\nbolen\\nbattles\\nbattaglia\\nwooldridge\\nweed\\ntrask\\nrosser\\nregalado\\nmcewen\\nkeefe\\nfuqua\\nechevarria\\ndomingo\\ndang\\ncaro\\nboynton\\nandrus\\nwild\\nviera\\nvanmeter\\ntaber\\nspradlin\\nseibert\\nprovost\\nprentice\\noliphant\\nlaporte\\nhwang\\nhatchett\\nhass\\ngreiner\\nfreedman\\ncovert\\nchilton\\nbyars\\nwiese\\nvenegas\\nswank\\nshrader\\nroderick\\nroberge\\nmullis\\nmortensen\\nmccune\\nmarlowe\\nkirchner\\nkeck\\nisaacson\\nhostetler\\nhalverson\\ngunther\\ngriswold\\ngerard\\nfenner\\ndurden\\nblackwood\\nbertram\\nahrens\\nsawyers\\nsavoy\\nnabors\\nmcswain\\nmackay\\nloy\\nlavender\\nlash\\nlabbe\\njessup\\nhubert\\nfullerton\\ndonnell\\ncruse\\ncrittenden\\ncorreia\\ncenteno\\ncaudle\\ncanady\\ncallender\\nalarcon\\nahern\\nwinfrey\\ntribble\\ntom\\nstyles\\nsalley\\nroden\\nmusgrove\\nminnick\\nfortenberry\\ncarrion\\nbunting\\nbethel\\nbatiste\\nwoo\\nwhited\\nunderhill\\nstillwell\\nsilvia\\nrauch\\npippin\\nperrin\\nmessenger\\nmancini\\nlister\\nkinard\\nhartmann\\nfleck\\nbroadway\\nwilt\\ntreadway\\nthornhill\\nspeed\\nspalding\\nsam\\nrafferty\\npitre\\npatino\\nordonez\\nlinkous\\nkelleher\\nhoman\\nholiday\\ngalbraith\\nfeeney\\ndorris\\ncurtin\\ncoward\\ncamarillo\\nbuss\\nbunnell\\nbolt\\nbeeler\\nautry\\nalcala\\nwitte\\nwentz\\nstidham\\nshively\\nnunley\\nmeacham\\nmartins\\nlemke\\nlefebvre\\nkaye\\nhynes\\nhorowitz\\nhoppe\\nholcombe\\nestrella\\ndunne\\nderr\\ncochrane\\nbrittain\\nbedard\\nbeauregard\\ntorrence\\nstrunk\\nsoria\\nsimonson\\nshumaker\\nscoggins\\npacker\\noconner\\nmoriarty\\nleroy\\nkuntz\\nives\\nhutcheson\\nhoran\\nhales\\ngarmon\\nfitts\\ndell\\nbohn\\natchison\\nworth\\nwisniewski\\nwill\\nvanwinkle\\nsturm\\nsallee\\nprosser\\nmoen\\nlundberg\\nkunz\\nkohl\\nkeane\\njorgenson\\njaynes\\nfunderburk\\nfreed\\nframe\\ndurr\\ncreamer\\ncosgrove\\ncandelaria\\nberlin\\nbatson\\nvanhoose\\nthomsen\\nteeter\\nsommer\\nsmyth\\nsena\\nredmon\\norellana\\nmaness\\nlennon\\nheflin\\ngoulet\\nfrick\\nforney\\ndollar\\nbunker\\nasbury\\naguiar\\ntalbott\\nsouthard\\npleasant\\nmowery\\nmears\\nlemmon\\nkrieger\\nhickson\\ngracia\\nelston\\nduong\\ndelgadillo\\ndayton\\ndasilva\\nconaway\\ncatron\\nbruton\\nbradbury\\nbordelon\\nbivins\\nbittner\\nbergstrom\\nbeals\\nabell\\nwhelan\\ntravers\\ntejada\\npulley\\npino\\nnorfleet\\nnealy\\nmaes\\nloper\\nheld\\ngerald\\ngatewood\\nfrierson\\nfreund\\nfinnegan\\ncupp\\ncovey\\ncatalano\\nboehm\\nbader\\nyoon\\nwalston\\ntenney\\nsipes\\nroller\\nrawlins\\nmedlock\\nmccaskill\\nmccallister\\nmarcotte\\nmaclean\\nhughey\\nhenke\\nharwell\\ngladney\\ngilson\\ndew\\nchism\\ncaskey\\nbrandenburg\\nbaylor\\nvillasenor\\nveal\\nvan\\nthatcher\\nstegall\\nshore\\npetrie\\nnowlin\\nnavarrete\\nmuhammad\\nlombard\\nloftin\\nlemaster\\nkroll\\nkovach\\nkimbrell\\nkidwell\\nhershberger\\nfulcher\\neng\\ncantwell\\nbustos\\nboland\\nbobbitt\\nbinkley\\nwester\\nweis\\nverdin\\ntong\\ntiller\\nsisco\\nsharkey\\nseymore\\nrosenbaum\\nrohr\\nquinonez\\npinkston\\nnation\\nmalley\\nlogue\\nlessard\\nlerner\\nlebron\\nkrauss\\nklinger\\nhalstead\\nhaller\\ngetz\\nburrow\\nbrant\\nalger\\nvictor\\nshores\\nscully\\npounds\\npfeifer\\nperron\\nnelms\\nmunn\\nmcmaster\\nmckenney\\nmanns\\nknudson\\nhutchens\\nhuskey\\ngoebel\\nflagg\\ncushman\\nclick\\ncastellano\\ncarder\\nbumgarner\\nblaine\\nbible\\nwampler\\nspinks\\nrobson\\nneel\\nmcreynolds\\nmathias\\nmaas\\nloera\\nkasper\\njose\\njenson\\nflorez\\ncoons\\nbuckingham\\nbrogan\\nberryman\\nwilmoth\\nwilhite\\nthrash\\nshephard\\nseidel\\nschulze\\nroldan\\npettis\\nobryan\\nmaki\\nmackie\\nhatley\\nfrazer\\nfiore\\nfalls\\nchesser\\nbui\\nbottoms\\nbisson\\nbenefield\\nallman\\nwilke\\ntrudeau\\ntimm\\nshifflett\\nrau\\nmundy\\nmilliken\\nmayers\\nleake\\nkohn\\nhuntington\\nhorsley\\nhermann\\nguerin\\nfryer\\nfrizzell\\nforet\\nflemming\\nfife\\ncriswell\\ncarbajal\\nbozeman\\nboisvert\\narchie\\nantonio\\nangulo\\nwallen\\ntapp\\nsilvers\\nramsay\\noshea\\norta\\nmoll\\nmckeever\\nmcgehee\\nluciano\\nlinville\\nkiefer\\nketchum\\nhowerton\\ngroce\\ngaylord\\ngass\\nfusco\\ncorbitt\\nblythe\\nbetz\\nbartels\\namaral\\naiello\\nyoo\\nweddle\\ntroy\\nsun\\nsperry\\nseiler\\nrunyan\\nraley\\noverby\\nosteen\\nolds\\nmckeown\\nmauro\\nmatney\\nlauer\\nlattimore\\nhindman\\nhartwell\\nfredrickson\\nfredericks\\nespino\\nclegg\\ncarswell\\ncambell\\nburkholder\\naugust\\nwoodbury\\nwelker\\ntotten\\nthornburg\\ntheriault\\nstitt\\nstamm\\nstackhouse\\nsimone\\nscholl\\nsaxon\\nrife\\nrazo\\nquinlan\\npinkerton\\nolivo\\nnesmith\\nnall\\nmattos\\nleak\\nlafferty\\njustus\\ngiron\\ngeer\\nfielder\\neagle\\ndrayton\\ndortch\\nconners\\nconger\\nchau\\nboatwright\\nbilliot\\nbarden\\narmenta\\nantoine\\ntibbetts\\nsteadman\\nslattery\\nsides\\nrinaldi\\nraynor\\nrayford\\npinckney\\npettigrew\\nnickel\\nmilne\\nmatteson\\nhalsey\\ngonsalves\\nfellows\\ndurand\\ndesimone\\ncowley\\ncowles\\nbrill\\nbarham\\nbarela\\nbarba\\nashmore\\nwithrow\\nvalenti\\ntejeda\\nspriggs\\nsayre\\nsalerno\\nplace\\npeltier\\npeel\\nmerriman\\nmatheson\\nlowman\\nlindstrom\\nhyland\\nhomer\\nha\\ngiroux\\nfries\\nfrasier\\nearls\\ndugas\\ndamon\\ndabney\\ncollado\\nbriseno\\nbaxley\\nandre\\nword\\nwhyte\\nwenger\\nvanover\\nvanburen\\nthiel\\nschindler\\nschiller\\nrigby\\npomeroy\\npassmore\\nmarble\\nmanzo\\nmahaffey\\nlindgren\\nlaflamme\\ngreathouse\\nfite\\nferrari\\ncalabrese\\nbayne\\nyamamoto\\nwick\\ntownes\\nthames\\nsteel\\nreinhart\\npeeler\\nnaranjo\\nmontez\\nmcdade\\nmast\\nmarkley\\nmarchand\\nleeper\\nkong\\nkellum\\nhudgens\\nhennessey\\nhadden\\nguess\\ngainey\\ncoppola\\nborrego\\nbolling\\nbeane\\nault\\nslaton\\npoland\\npape\\nnull\\nmulkey\\nlightner\\nlanger\\nhillard\\nglasgow\\nfabian\\nethridge\\nenright\\nderosa\\nbaskin\\nalfred\\nweinberg\\nturman\\ntinker\\nsomerville\\npardo\\nnoll\\nlashley\\ningraham\\nhiller\\nhendon\\nglaze\\nflora\\ncothran\\ncooksey\\nconte\\ncarrico\\napple\\nabner\\nwooley\\nswope\\nsummerlin\\nsturgis\\nsturdivant\\nstott\\nspurgeon\\nspillman\\nspeight\\nroussel\\npopp\\nnutter\\nmckeon\\nmazza\\nmagnuson\\nlanning\\nkozak\\njankowski\\nheyward\\nforster\\ncorwin\\ncallaghan\\nbays\\nwortham\\nusher\\ntheriot\\nsayers\\nsabo\\nrupert\\npoling\\nnathan\\nloya\\nlieberman\\nlevi\\nlaroche\\nlabelle\\nhowes\\nharr\\ngaray\\nfogarty\\neverson\\ndurkin\\ndominquez\\nchaves\\nchambliss\\nalfonso\\nwitcher\\nwilber\\nvieira\\nvandiver\\nterrill\\nstoker\\nschreiner\\nnestor\\nmoorman\\nliddell\\nlew\\nlawhorn\\nkrug\\nirons\\nhylton\\nhollenbeck\\nherrin\\nhembree\\nhair\\ngoolsby\\ngoodin\\ngilmer\\nfoltz\\ndinkins\\ndaughtry\\ncaban\\nbrim\\nbriley\\nbilodeau\\nbear\\nwyant\\nvergara\\ntallent\\nswearingen\\nstroup\\nsherry\\nscribner\\nroger\\nquillen\\npitman\\nmonaco\\nmccants\\nmaxfield\\nmartinson\\nlandon\\nholtz\\nflournoy\\nbrookins\\nbrody\\nbaumgardner\\nangelo\\nstraub\\nsills\\nroybal\\nroundtree\\noswalt\\nmoney\\nmcgriff\\nmcdougall\\nmccleary\\nmaggard\\ngragg\\ngooding\\ngodinez\\ndoolittle\\ndonato\\ncowell\\ncassell\\nbracken\\nappel\\nahmad\\nzambrano\\nreuter\\nperea\\nolive\\nnakamura\\nmonaghan\\nmickens\\nmcclinton\\nmcclary\\nmarler\\nkish\\njudkins\\ngilbreath\\nfreese\\nflanigan\\nfelts\\nerdmann\\ndodds\\nchew\\nbrownell\\nbrazil\\nboatright\\nbarreto\\nslayton\\nsandberg\\nsaldivar\\npettway\\nodum\\nnarvaez\\nmoultrie\\nmontemayor\\nmerrell\\nlees\\nkeyser\\nhoke\\nhardaway\\nhannan\\ngilbertson\\nfogg\\ndumont\\ndeberry\\ncoggins\\ncarrera\\nbuxton\\nbucher\\nbroadnax\\nbeeson\\naraujo\\nappleton\\namundson\\naguayo\\nackley\\nyocum\\nworsham\\nshivers\\nshelly\\nsanches\\nsacco\\nrobey\\nrhoden\\npender\\nochs\\nmccurry\\nmadera\\nluong\\nluis\\nknotts\\njackman\\nheinrich\\nhargrave\\ngault\\nforest\\ncomeaux\\nchitwood\\nchild\\ncaraway\\nboettcher\\nbernhardt\\nbarrientos\\nzink\\nwickham\\nwhiteman\\nthorp\\nstillman\\nsettles\\nschoonover\\nroque\\nriddell\\nrey\\npilcher\\nphifer\\nnovotny\\nmaple\\nmacleod\\nhardee\\nhaase\\ngrider\\nfredrick\\nearnest\\ndoucette\\nclausen\\nchristmas\\nbevins\\nbeamon\\nbadillo\\ntolley\\ntindall\\nsoule\\nsnook\\nsebastian\\nseale\\npitcher\\npinkney\\npellegrino\\nnowell\\nnemeth\\nnail\\nmondragon\\nmclane\\nlundgren\\ningalls\\nhudspeth\\nhixson\\ngearhart\\nfurlong\\ndownes\\ndionne\\ndibble\\ndeyoung\\ncornejo\\ncamara\\nbrookshire\\nboyette\\nwolcott\\ntracey\\nsurratt\\nsellars\\nsegal\\nsalyer\\nreeve\\nrausch\\nphilips\\nlabonte\\nharo\\ngower\\nfreeland\\nfawcett\\neads\\ndriggers\\ndonley\\ncollett\\ncage\\nbromley\\nboatman\\nballinger\\nbaldridge\\nvolz\\ntrombley\\nstonge\\nsilas\\nshanahan\\nrivard\\nrhyne\\npedroza\\nmatias\\nmallard\\njamieson\\nhedgepeth\\nhartnett\\nestevez\\neskridge\\ndenman\\nchiu\\nchinn\\ncatlett\\ncarmack\\nbuie\\nbook\\nbechtel\\nbeardsley\\nbard\\nballou\\nwindsor\\nulmer\\nstorm\\nskeen\\nrobledo\\nrincon\\nreitz\\npiazza\\npearl\\nmunger\\nmoten\\nmcmichael\\nloftus\\nledet\\nkersey\\ngroff\\nfowlkes\\nfolk\\ncrumpton\\ncollette\\nclouse\\nbettis\\nvillagomez\\ntimmerman\\nstrom\\nsaul\\nsantoro\\nroddy\\nphillip\\npenrod\\nmusselman\\nmacpherson\\nleboeuf\\nharless\\nhaddad\\nguido\\ngolding\\nfulkerson\\nfannin\\ndulaney\\ndowdell\\ndeane\\ncottle\\nceja\\ncate\\nbosley\\nbenge\\nalbritton\\nvoigt\\ntrowbridge\\nsoileau\\nseely\\nrome\\nrohde\\npearsall\\npaulk\\north\\nnason\\nmota\\nmcmullin\\nmarquardt\\nmadigan\\nhoag\\ngillum\\ngayle\\ngabbard\\nfenwick\\nfender\\neck\\ndanforth\\ncushing\\ncress\\ncreed\\ncazares\\ncasanova\\nbey\\nbettencourt\\nbarringer\\nbaber\\nstansberry\\nschramm\\nrutter\\nrivero\\nrace\\noquendo\\nnecaise\\nmouton\\nmontenegro\\nmiley\\nmcgough\\nmarra\\nmacmillan\\nlock\\nlamontagne\\njasso\\njaime\\nhorst\\nhetrick\\nheilman\\ngaytan\\ngall\\nfried\\nfortney\\neden\\ndingle\\ndesjardins\\ndabbs\\nburbank\\nbrigham\\nbreland\\nbeaman\\nbanner\\narriola\\nyarborough\\nwallin\\ntreat\\ntoscano\\nstowers\\nreiss\\npichardo\\norton\\nmitchel\\nmichels\\nmcnamee\\nmccrory\\nleatherman\\nkell\\nkeister\\njerome\\nhorning\\nhargett\\nguay\\nfriday\\nferro\\ndeboer\\ndagostino\\nclemente\\nchrist\\ncarper\\nbowler\\nblanks\\nbeaudry\\nwillie\\ntowle\\ntafoya\\nstricklin\\nstrader\\nsoper\\nsonnier\\nsigmon\\nschenk\\nsaddler\\nrodman\\npedigo\\nmendes\\nlunn\\nlohr\\nlahr\\nkingsbury\\njarman\\nhume\\nholliman\\nhofmann\\nhaworth\\nharrelson\\nhambrick\\nflick\\nedmunds\\ndacosta\\ncrossman\\ncolston\\nchaplin\\ncarrell\\nbudd\\nweiler\\nwaits\\nviola\\nvalentino\\ntrantham\\ntarr\\nstraight\\nsolorio\\nroebuck\\npowe\\nplank\\npettus\\npalm\\npagano\\nmink\\nluker\\nleathers\\njoslin\\nhartzell\\ngambrell\\nfears\\ndeutsch\\ncepeda\\ncarty\\ncaputo\\nbrewington\\nbedell\\nballew\\napplewhite\\nwarnock\\nwalz\\nurena\\ntudor\\nreel\\npigg\\nparton\\nmickelson\\nmeagher\\nmclellan\\nmcculley\\nmandel\\nleech\\nlavallee\\nkraemer\\nkling\\nkipp\\nkingston\\nkehoe\\nhochstetler\\nharriman\\ngregoire\\ngrabowski\\ngosselin\\ngammon\\nfancher\\nedens\\ndesai\\nbutt\\nbrannan\\narmendariz\\nwoolsey\\nwhitehouse\\nwhetstone\\nussery\\ntowne\\ntower\\ntesta\\ntallman\\nstuder\\nstrait\\nsteinmetz\\nsorrells\\nsauceda\\nrolfe\\nrae\\npaddock\\nmitchem\\nmcginn\\nmccrea\\nluck\\nlovato\\nling\\nhazen\\ngilpin\\ngaynor\\nfike\\ndevoe\\ndelrio\\ncuriel\\nburkhardt\\nbristol\\nbode\\nbackus\\nalton\\nzinn\\nwatanabe\\nwachter\\nvanpelt\\nturnage\\nshaner\\nschroder\\nsato\\nriordan\\nquimby\\nportis\\nnatale\\nmckoy\\nmccown\\nmarker\\nlucio\\nkilmer\\nkarl\\nhotchkiss\\nhesse\\nhalbert\\ngwinn\\ngodsey\\ndesmond\\ndelisle\\nchrisman\\ncanter\\nbrook\\narbogast\\nangell\\nacree\\nyancy\\nwoolley\\nwesson\\nweatherspoon\\ntrainor\\nstockman\\nspiller\\nsipe\\nrooks\\nreavis\\npropst\\nporras\\nneilson\\nmullens\\nloucks\\nllewellyn\\nlamont\\nkumar\\nkoester\\nklingensmith\\nkirsch\\nkester\\nhonaker\\nhodson\\nhennessy\\nhelmick\\ngarrity\\ngaribay\\nfee\\ndrain\\ncasarez\\ncallis\\nbotello\\nbay\\naycock\\navant\\nangle\\nwingard\\nwayman\\ntully\\ntheisen\\nszymanski\\nstansbury\\nsegovia\\nrudy\\nrainwater\\npreece\\npirtle\\npadron\\nmincey\\nmckelvey\\nmathes\\nmarty\\nlarrabee\\nkornegay\\nklug\\njudy\\ningersoll\\nhecht\\ngermain\\neggers\\ndykstra\\ndenis\\ndeering\\ndecoteau\\ndeason\\ndearing\\ncofield\\ncarrigan\\nbrush\\nbonham\\nbahr\\naucoin\\nappleby\\nalmonte\\nyager\\nwomble\\nwimmer\\nweimer\\nvanderpool\\nstancil\\nsprinkle\\nromine\\nremington\\npfaff\\npeckham\\nolivera\\nmeraz\\nmaze\\nlathrop\\nkoehn\\njonas\\nhazelton\\nhalvorson\\nhallock\\nhaddock\\nducharme\\ndehaven\\ncolton\\ncaruthers\\nbrehm\\nbosworth\\nbost\\nblow\\nbias\\nbeeman\\nbasile\\nbane\\naikens\\nzachary\\nwold\\nwalther\\ntabb\\nsuber\\nstrawn\\nstocks\\nstocker\\nshirey\\nschlosser\\nsalvador\\nriedel\\nrembert\\nreimer\\npyles\\npickle\\npeele\\nmerriweather\\nletourneau\\nlatta\\nkidder\\nhixon\\nhillis\\nhight\\nherbst\\nhenriquez\\nhaygood\\nhamill\\ngabel\\nfritts\\neubank\\nduty\\ndawes\\ncorrell\\ncoffee\\ncha\\nbushey\\nbuchholz\\nbrotherton\\nbridge\\nbotts\\nbarnwell\\nauger\\natchley\\nwestphal\\nveilleux\\nulloa\\ntruman\\nstutzman\\nshriver\\nryals\\nprior\\npilkington\\nnewport\\nmoyers\\nmiracle\\nmarrs\\nmangrum\\nmaddux\\nlockard\\nlaing\\nkuhl\\nharney\\nhammock\\nhamlett\\nfelker\\ndoerr\\ndepriest\\ncarrasquillo\\ncarothers\\nbogle\\nblood\\nbischoff\\nbergen\\nalbanese\\nwyckoff\\nvermillion\\nvansickle\\nthibault\\ntetreault\\nstickney\\nshoemake\\nruggiero\\nrawson\\nracine\\nphilpot\\npaschal\\nmcelhaney\\nmathison\\nlegrand\\nlapierre\\nkwan\\nkremer\\njiles\\nhilbert\\ngeyer\\nfaircloth\\nehlers\\negbert\\ndesrosiers\\ndalrymple\\ncotten\\ncashman\\ncadena\\nbreeding\\nboardman\\nalcaraz\\nahn\\nwyrick\\ntherrien\\ntankersley\\nstrickler\\npuryear\\nplourde\\npattison\\npardue\\nmilan\\nmcginty\\nmcevoy\\nlandreth\\nkuhns\\nkoon\\nhewett\\ngiddens\\neverette\\nemerick\\neades\\ndeangelis\\ncosme\\nceballos\\nbirdsong\\nbenham\\nbemis\\narmour\\nanguiano\\nangeles\\nwelborn\\ntsosie\\nstorms\\nshoup\\nsessoms\\nsamaniego\\nrood\\nrojo\\nrhinehart\\nraby\\nnorthcutt\\nmyer\\nmunguia\\nmorehouse\\nmore\\nmcdevitt\\nmateo\\nmallett\\nlozada\\nlemoine\\nkuehn\\nhallett\\ngrim\\ngillard\\ngaylor\\ngarman\\ngallaher\\nfeaster\\nfaris\\ndarrow\\ndardar\\nconey\\ncarreon\\nbyron\\nbraithwaite\\nboylan\\nboyett\\nborn\\nbixler\\nbigham\\nbenford\\nbarragan\\nbarnum\\nzuber\\nwyche\\nwestcott\\nvining\\nstoltzfus\\nsimonds\\nshupe\\nsabin\\nruble\\nrittenhouse\\nrichman\\nperrone\\nmulholland\\nmillan\\nmeister\\nmathew\\nlomeli\\nkite\\njemison\\nhulett\\nholler\\nhickerson\\nherold\\nhazelwood\\ngriffen\\ngause\\nforde\\neisenberg\\ndilworth\\ncharron\\nchaisson\\nbrodie\\nbristow\\nbreunig\\nbrace\\nboutwell\\nbentz\\nbelk\\nbayless\\nbatchelder\\nbaran\\nbaeza\\nzimmermann\\nweathersby\\nvolk\\ntoole\\ntheis\\ntedesco\\nshine\\nsearle\\nschenck\\nsatterwhite\\nsandy\\nruelas\\nroyce\\nrankins\\npartida\\nnesbit\\nmorel\\nmenchaca\\nlevasseur\\nkaylor\\njohnstone\\nhulse\\nhollar\\nhersey\\nharrigan\\nharbison\\nguyer\\ngish\\ngiese\\ngerlach\\ngeller\\ngeisler\\nfalcone\\nernest\\nelwell\\ndoucet\\ndeese\\ndarr\\ncorder\\nchafin\\nbyler\\nbussell\\nburdett\\nbrasher\\nbowe\\nbellinger\\nbastian\\nbarner\\nalleyne\\nwilborn\\nweil\\nwegner\\nwales\\ntatro\\nspitzer\\nsmithers\\nschoen\\nresendez\\npete\\nparisi\\noverman\\nobrian\\nmudd\\nmoy\\nmclaren\\nmahler\\nmaggio\\nlindner\\nlalonde\\nlacasse\\nlaboy\\nkillion\\nkahl\\njessen\\njamerson\\nhouk\\nhenshaw\\ngustin\\ngroom\\ngraber\\ndurst\\nduenas\\ndavey\\ncundiff\\nconlon\\ncolunga\\ncoakley\\nchiles\\ncapers\\nbuell\\nbricker\\nbissonnette\\nbirmingham\\nbartz\\nbagby\\nzayas\\nvolpe\\ntreece\\ntoombs\\nthom\\nterrazas\\nswinney\\nskiles\\nsilveira\\nshouse\\nsenn\\nrambo\\nramage\\nnez\\nmoua\\nmarlin\\nmalik\\nlangham\\nkyles\\nholston\\nhoagland\\nherd\\nhector\\nfeller\\nemory\\ndenison\\ncorliss\\ncarraway\\nburford\\nbickel\\nambriz\\nabercrombie\\nyamada\\nwinner\\nweidner\\nwaddle\\nverduzco\\nthurmond\\nswindle\\nschrock\\nsanabria\\nrosenberger\\nprobst\\npeabody\\nolinger\\nneighbors\\nnazario\\nmccafferty\\nmcbroom\\nmcabee\\nmazur\\nmatherne\\nmapes\\nleverett\\nkillingsworth\\nheisler\\ngriego\\ngrande\\ngosnell\\nfrankel\\nfranke\\nferrante\\nfenn\\nelmer\\nehrlich\\nchristopherso\\nchick\\nchasse\\nchancellor\\ncaton\\nbrunelle\\nbly\\nbloomfield\\nbabbitt\\nazevedo\\nabramson\\nables\\nabeyta\\nyoumans\\nwozniak\\nwainwright\\nsummer\\nstowell\\nsmitherman\\nsites\\nsamuelson\\nrunge\\nrule\\nrothman\\nrosenfeld\\nquan\\npeake\\noxford\\nowings\\nolmos\\nmunro\\nmoreira\\nleatherwood\\nlarkins\\nkrantz\\nkovacs\\nkizer\\nkindred\\nkarnes\\njaffe\\nhubbell\\nhosey\\nhauck\\nharold\\ngoodell\\nfavors\\nerdman\\ndvorak\\ndoane\\ncureton\\ncofer\\nbuehler\\nbierman\\nberndt\\nbanta\\nannis\\nabram\\nabdullah\\nwarwick\\nwaltz\\nturcotte\\ntrinh\\ntorrey\\nstith\\nseger\\nsachs\\nquesada\\npinder\\npeppers\\npascual\\npaschall\\nparkhurst\\nozuna\\noster\\nnicholls\\nmortimer\\nlheureux\\nlavalley\\nkimura\\njablonski\\nhaun\\ngourley\\ngilligan\\nfix\\nderby\\ncroy\\ncotto\\ncargill\\nburwell\\nburgett\\nbuckman\\nbrett\\nbooher\\nadorno\\nwrenn\\nwhittemore\\nurias\\nszabo\\nsayles\\nsaiz\\nrutland\\nrael\\nplant\\npharr\\npenney\\npelkey\\nogrady\\nnickell\\nmusick\\nmoats\\nmather\\nmassa\\nlaurent\\nkirschner\\nkieffer\\nkellar\\nhendershot\\ngott\\ngodoy\\ngadson\\nfurtado\\nfiedler\\nerskine\\nedison\\ndutcher\\ndever\\ndaggett\\nchevalier\\nchao\\nbrake\\nballesteros\\namerson\\nalejandro\\nwingo\\nwaldon\\ntrott\\nspikes\\nsilvey\\nshowers\\nschlegel\\nrue\\nritz\\npepin\\npelayo\\nparsley\\npalermo\\nmoorehead\\nmchale\\nlett\\nkocher\\nkilburn\\niglesias\\nhumble\\nhulbert\\nhuckaby\\nhix\\nhaven\\nhartford\\nhardiman\\ngurney\\ngrigg\\ngrasso\\ngoings\\nfillmore\\nfarber\\ndepew\\ndandrea\\ndame\\ncowen\\ncovarrubias\\ncory\\nburrus\\nbracy\\nardoin\\nthompkins\\nsuzuki\\nstandley\\nrussel\\nradcliffe\\npohl\\npersaud\\npercy\\nparenteau\\npabon\\nnewson\\nnewhouse\\nnapolitano\\nmulcahy\\nmaya\\nmalave\\nkeim\\nhooten\\nhernandes\\nheffernan\\nhearne\\ngreenleaf\\nglick\\nfuhrman\\nfetter\\nfaria\\ndishman\\ndickenson\\ncrites\\ncriss\\nclapper\\nchenault\\ncastor\\ncasto\\nbugg\\nbove\\nbonney\\nblessing\\nard\\nanderton\\nallgood\\nalderson\\nwoodman\\nwisdom\\nwarrick\\ntoomey\\ntooley\\ntarrant\\nsummerville\\nstebbins\\nsokol\\nsink\\nsearles\\nschutz\\nschumann\\nscheer\\nremillard\\nraper\\nproulx\\npalmore\\nmonroy\\nmiguel\\nmessier\\nmelo\\nmelanson\\nmashburn\\nmanzano\\nlussier\\nlovely\\nlien\\njenks\\nhuneycutt\\nhartwig\\ngrimsley\\nfulk\\nfielding\\nfidler\\nengstrom\\neldred\\ndantzler\\ncrandell\\nching\\ncalder\\nbrumley\\nbreton\\nbrann\\nbramlett\\nboykins\\nbianco\\nbancroft\\nalmaraz\\nalcantar\\nwhitmer\\nwhitener\\nwelton\\nvineyard\\nsu\\nrahn\\npaquin\\nmizell\\nmix\\nmcmillin\\nmckean\\nmarston\\nmaciel\\nlundquist\\nlouie\\nliggins\\nlampkin\\nkranz\\nkoski\\nkirkham\\njiminez\\nhazzard\\nharrod\\ngraziano\\ngrammer\\ngendron\\ngarrido\\nfordham\\nenglert\\nelwood\\ndryden\\ndemoss\\ndeluna\\ncrabb\\ncomeau\\nclaudio\\nbrummett\\nblume\\nbenally\\nwessel\\nvanbuskirk\\nthorson\\nstumpf\\nstockwell\\nrocco\\nreams\\nradtke\\nrackley\\npelton\\nniemi\\nnewland\\nnelsen\\nmorrissette\\nmiramontes\\nmcginley\\nmccluskey\\nmarley\\nmarchant\\nluevano\\nlampe\\nlail\\njeffcoat\\ninfante\\nhu\\nhinman\\ngaona\\nerb\\neady\\ndesmarais\\ndecosta\\ndansby\\ncisco\\nchoe\\nbreckenridge\\nbostwick\\nborg\\nbianchi\\nbeer\\nalberts\\nadrian\\nwilkie\\nwhorton\\nvargo\\ntait\\nsylvia\\nsoucy\\nschuman\\nousley\\nmumford\\nlum\\nlippert\\nleath\\nlavergne\\nlaliberte\\nkirksey\\nkenner\\njohnsen\\nizzo\\nhiles\\ngullett\\ngreenwell\\ngaspar\\ngalbreath\\ngaitan\\nericson\\nduck\\ndelapaz\\ncroom\\ncottingham\\nclift\\nbushnell\\nboozer\\nbice\\nbernardo\\nbeason\\narrowood\\nwaring\\nvoorhees\\ntruax\\nshreve\\nshockey\\nschatz\\nsandifer\\nrubino\\nrozier\\nroseberry\\nroll\\nplayer\\npieper\\npeden\\nnester\\nnave\\nmurphey\\nmalinowski\\nmacgregor\\nliang\\nlafrance\\nkunkle\\nkirkman\\njorge\\nhipp\\nhasty\\nhaddix\\ngervais\\ngerdes\\ngarfield\\ngamache\\nfouts\\nfitzwater\\ndillingham\\ndeming\\ndeanda\\ncedeno\\ncannady\\nburson\\nbouldin\\narceneaux\\nwoodhouse\\nwhitford\\nwescott\\nwelty\\nweigel\\ntorgerson\\ntoms\\nsurber\\nsunderland\\nsterner\\nsetzer\\nsalvatore\\nriojas\\npumphrey\\npuga\\npedro\\npatch\\nmetts\\nmcgarry\\nmccandless\\nmagill\\nlupo\\nloveland\\nllamas\\nleclerc\\nkoons\\nkahler\\nhuss\\nholbert\\nheintz\\nhaupt\\ngrimmett\\ngaskill\\nflower\\nellingson\\ndorr\\ndingess\\ndeweese\\ndesilva\\ncrossley\\ncordeiro\\nconverse\\nconde\\ncheeks\\ncaldera\\ncairns\\nburmeister\\nburkhalter\\nbrawner\\nbott\\nyoungs\\nvierra\\nvalladares\\ntiffany\\nshrum\\nshropshire\\nsevilla\\nrusk\\nroof\\nrodarte\\npedraza\\nnino\\nmontana\\nmerino\\nmcminn\\nmarkle\\nmapp\\nlucia\\nlajoie\\nkoerner\\nkittrell\\nkato\\nhyder\\nhollifield\\nheiser\\nhazlett\\ngreenwald\\nfant\\neldredge\\ndreher\\ndelafuente\\ncravens\\nclaypool\\nbeecher\\naronson\\nalanis\\nworthen\\nwojcik\\nwinger\\nwhitacre\\nwellington\\nvalverde\\nvaldivia\\ntroupe\\nthrower\\nswindell\\nsuttles\\nsuh\\nstroman\\nspires\\nslate\\nshealy\\nsarver\\nsartin\\nsadowski\\nrondeau\\nrolon\\nrick\\nrex\\nrascon\\npriddy\\npine\\npaulino\\nnolte\\nmunroe\\nmolloy\\nmellon\\nmciver\\nlykins\\nloggins\\nlillie\\nlenoir\\nklotz\\nkempf\\njone\\nhupp\\nhollowell\\nhollander\\nhaynie\\nhassan\\nharkness\\nharker\\ngottlieb\\nfrith\\neddins\\ndriskell\\ndoggett\\ndensmore\\ncharette\\ncassady\\ncarrol\\nbyrum\\nburcham\\nbuggs\\nbenn\\nwhitted\\nwarrington\\nvandusen\\nvaillancourt\\nsteger\\nspell\\nsiebert\\nscofield\\nquirk\\npurser\\nplumb\\norcutt\\nnorthern\\nnordstrom\\nmosely\\nmichalski\\nmcphail\\nmcdavid\\nmccraw\\nmartini\\nmarchese\\nmannino\\nleo\\nlefevre\\nlargent\\nlanza\\nkress\\nisham\\nhunsaker\\nhoch\\nhildebrandt\\nguarino\\ngrijalva\\ngraybill\\nfick\\newell\\newald\\ndeangelo\\ncusick\\ncrumley\\ncoston\\ncathcart\\ncarruthers\\nbullington\\nbrian\\nbowes\\nblain\\nblackford\\nbarboza\\nyingling\\nwoodland\\nwert\\nweiland\\nvarga\\nsilverstein\\nsievers\\nshuster\\nshumway\\nscudder\\nrunnels\\nrumsey\\nrenfroe\\nprovencher\\npolley\\nmohler\\nmiddlebrooks\\nkutz\\nkoster\\nkorn\\ngrow\\ngroth\\nglidden\\nfazio\\ndeen\\ncorn\\ncopper\\nchipman\\nchenoweth\\nchamplin\\ncedillo\\ncarrero\\ncarmody\\nbuckles\\nbrien\\nboutin\\nbosch\\nbill\\nberkowitz\\naltamirano\\nwilfong\\nwiegand\\nwaites\\ntruesdale\\ntoussaint\\ntobey\\ntedder\\nsteelman\\nsirois\\nschnell\\nrobichaud\\nridge\\nrichburg\\npray\\nplumley\\npizarro\\npiercy\\nortego\\noberg\\nneace\\nmusic\\nmickey\\nmertz\\nmcnew\\nmatta\\nlawyer\\nlapp\\nlair\\nkibler\\njessie\\nhowlett\\nhollister\\nhofer\\nhatten\\nhagler\\ngermany\\nfalgoust\\nengelhardt\\neberle\\neastwood\\ndombrowski\\ndinsmore\\ndaye\\ncool\\ncasares\\ncapone\\nbraud\\nbalch\\nautrey\\nwendel\\ntyndall\\ntoy\\nstrobel\\nstoltz\\nspinelli\\nserrato\\nrochester\\nreber\\nreal\\nrathbone\\npalomino\\nnoah\\nnickels\\nmayle\\nmathers\\nmach\\nloeffler\\nlittrell\\nlevinson\\nleong\\nlemire\\nlejeune\\nlazo\\nlasley\\nkoller\\nkennard\\njester\\nhoelscher\\nhintz\\nhagerman\\ngreaves\\nfore\\neudy\\nengler\\ncorrales\\ncordes\\nbrunet\\nbidwell\\nbennet\\nbare\\ntyrrell\\ntharpe\\nswinton\\nstribling\\nsteven\\nsouthworth\\nsisneros\\nshane\\nsavoie\\nsamons\\nruvalcaba\\nroscoe\\nries\\nramer\\nomara\\nmosqueda\\nmillar\\nmcpeak\\nmacomber\\nluckey\\nlitton\\nlehr\\nlavin\\nhubbs\\nhoard\\nhibbs\\nhagans\\nfutrell\\nexum\\nevenson\\ndicks\\nculler\\nchou\\ncarbaugh\\ncallen\\nbrashear\\nbloomer\\nblakeney\\nbigler\\naddington\\nwoodford\\nwitter\\nunruh\\ntolentino\\nsumrall\\nstgermain\\nsmock\\nsherer\\nsalem\\nrochelle\\nrayner\\npooler\\noquinn\\nnero\\nmilano\\nmcglothlin\\nmars\\nlinden\\nkowal\\nkerrigan\\nibrahim\\nharvell\\nhanrahan\\ngoodall\\ngeist\\nfussell\\nfung\\nferebee\\nfederico\\neley\\neggert\\ndorsett\\ndingman\\ndestefano\\ncolucci\\nclemmer\\ncaesar\\nburnell\\nbrumbaugh\\nboddie\\nberryhill\\navelar\\nalcantara\\nabbey\\nwinder\\nwinchell\\nvandenberg\\ntrotman\\nthurber\\nthibeault\\nstlouis\\nstilwell\\nsperling\\nshattuck\\nsarmiento\\nruppert\\nrumph\\nrenaud\\nrandazzo\\nrademacher\\nquiles\\npearman\\npalomo\\nmercurio\\nlowrey\\nlindeman\\nlawlor\\nlarosa\\nlander\\nlabrecque\\nkimber\\nhovis\\nholifield\\nhenninger\\nhawkes\\nhartfield\\nhann\\nhague\\ngenovese\\ngarrick\\nfudge\\nfrink\\neddings\\ndinh\\ndear\\ncutter\\ncribbs\\nconstant\\ncalvillo\\nbunton\\nbrodeur\\nbolding\\nblanding\\nagosto\\nzahn\\nwiener\\ntrussell\\ntew\\ntello\\nteixeira\\nstephan\\nspeck\\nsharma\\nshanklin\\nsealy\\nscanlan\\nsantamaria\\nroundy\\nrobichaux\\nringer\\nrigney\\nprevost\\npolson\\nphilip\\npass\\nnord\\nmoxley\\nmohammed\\nmedford\\nmccaslin\\nmcardle\\nmacarthur\\nlewin\\nlasher\\nketcham\\nkeiser\\nheine\\nhackworth\\ngrose\\ngrizzle\\ngrass\\ngillman\\ngartner\\ngarth\\nfrazee\\nfleury\\nfast\\nedson\\nedmonson\\nderry\\ndeck\\ncronk\\nconant\\nburress\\nburgin\\nbroom\\nbrockington\\nbolick\\nboger\\nbirchfield\\nbillington\\nbaily\\nbahena\\narmbruster\\nanson\\nyoho\\nwilcher\\ntinney\\ntimberlake\\nthoma\\nthielen\\nsutphin\\nstultz\\nsikora\\nserra\\nschulman\\nscheffler\\nsantillan\\nrobin\\nrego\\npreciado\\npinkham\\nmonday\\nmickle\\nluu\\nlomas\\nlizotte\\nlent\\nlenard\\nkellerman\\nkeil\\njuan\\njohanson\\nhernadez\\nhartsfield\\nhang\\nhaber\\ngorski\\nfarkas\\neberhardt\\nduquette\\ndelano\\ncropper\\ncozart\\ncockerham\\nchamblee\\ncartagena\\ncahoon\\nbuzzell\\nbrister\\nbrewton\\nblackshear\\nbenfield\\naston\\nashburn\\narruda\\nwetmore\\nweise\\nvaccaro\\ntucci\\nsudduth\\nstromberg\\nstoops\\nshowalter\\nshears\\nrunion\\nrowden\\nrosenblum\\nriffle\\nrenfrow\\nperes\\nobryant\\nnicolas\\nleftwich\\nlark\\nlanderos\\nkistler\\nkillough\\nkerley\\nkastner\\nhoggard\\nhartung\\nguertin\\ngovan\\ngatling\\ngailey\\nfullmer\\nfulford\\nflatt\\nesquibel\\nendicott\\nedmiston\\nedelstein\\ndufresne\\ndressler\\ndickman\\nchee\\nbusse\\nbonnett\\nbogart\\nberard\\nbarrington\\narena\\nanton\\nyoshida\\nvelarde\\nveach\\nvanhouten\\nvachon\\ntolson\\ntolman\\ntennyson\\nstites\\nsoler\\nshutt\\nruggles\\nrhone\\npegues\\nong\\nneese\\nmuro\\nmoncrief\\nmefford\\nmcphee\\nmcmorris\\nmceachern\\nmcclurg\\nmansour\\nmai\\nmader\\nleija\\nlecompte\\nlafountain\\nlabrie\\njaquez\\nheald\\nhash\\nhartle\\ngainer\\nfrisby\\nfarina\\neidson\\nedgerton\\ndyke\\ndurrett\\nduhon\\ncuomo\\ncobos\\ncervantez\\nbybee\\nbrockway\\nborowski\\nbinion\\nbeery\\narguello\\namaro\\nacton\\nyuen\\nwinton\\nwigfall\\nweekley\\nvidrine\\nvannoy\\ntardiff\\nshoop\\nshilling\\nschick\\nsand\\nsafford\\nprendergast\\npilgrim\\npellerin\\nosuna\\nnissen\\nnalley\\nmoritz\\nmoller\\nmessner\\nmessick\\nmerry\\nmerrifield\\nmcguinness\\nmatherly\\nmarcano\\nmahone\\nlemos\\nlebrun\\njara\\nhoffer\\nhewlett\\nherren\\nhecker\\nhaws\\nhaug\\nhack\\ngwin\\ngober\\ngilliard\\nfredette\\nfavela\\necheverria\\ndowner\\ndonofrio\\ndesrochers\\ndee\\ncrozier\\ncorson\\nclyde\\nbechtold\\nargueta\\naparicio\\nzamudio\\nwillette\\nwestover\\nwesterman\\nutter\\ntroyer\\nthies\\ntapley\\nslavin\\nshirk\\nsandler\\nroop\\nrimmer\\nraymer\\nrange\\nradcliff\\notten\\nmoorer\\nmillet\\nmckibben\\nmccutchen\\nmcavoy\\nmcadoo\\nmayorga\\nmastin\\nmartineau\\nmarek\\nmadore\\nleflore\\nkroeger\\nkennon\\njimerson\\njavier\\nhostetter\\nhornback\\nhendley\\nhance\\nguardado\\ngranado\\ngowen\\ngoodale\\nflinn\\nfleetwood\\nfitz\\ndurkee\\nduprey\\ndipietro\\ndilley\\nclyburn\\nbrawley\\nbeckley\\narana\\nweatherby\\nvollmer\\nvictoria\\nvestal\\ntunnell\\ntrigg\\ntingle\\ntakahashi\\nsweatt\\nstorer\\nsnapp\\nshiver\\nrooker\\nred\\nrathbun\\npoisson\\nperrine\\nperri\\npastor\\nparmer\\nparke\\npare\\npapa\\npalmieri\\nnottingham\\nmidkiff\\nmecham\\nmccomas\\nmcalpine\\nlovelady\\nlillard\\nlally\\nknopp\\nkile\\nkiger\\nhaile\\ngupta\\ngoldsberry\\ngilreath\\nfulks\\nfriesen\\nfranzen\\nflack\\nfindlay\\nferland\\ndreyer\\ndore\\ndennard\\ndeckard\\ndebose\\ncrim\\ncoulombe\\ncork\\nchancey\\ncantor\\nbranton\\nbissell\\nbarns\\nwoolard\\nwitham\\nwasserman\\nwaldo\\nspiegel\\nshoffner\\nscholz\\nruch\\nrossman\\nready\\npetry\\npalacio\\npaez\\nneary\\nmortenson\\nmillsap\\nmiele\\nmick\\nmenke\\nmckim\\nmcanally\\nmartines\\nmanor\\nmalcom\\nlemley\\nlarochelle\\nklaus\\nklatt\\nkaufmann\\nkapp\\nhelmer\\nhedge\\nhalloran\\nglisson\\nfrechette\\nfontana\\nenoch\\neagan\\ndrum\\ndistefano\\ndanley\\ncreekmore\\nchartier\\nchaffee\\ncarillo\\nburg\\nbolinger\\nberkley\\nbenz\\nbasso\\nbash\\nbarrier\\nzelaya\\nwoodring\\nwitkowski\\nwilmot\\nwilkens\\nwieland\\nvirgil\\nverdugo\\nurquhart\\ntsai\\ntimms\\nswiger\\nswaim\\nsussman\\nscarlett\\npires\\nmolnar\\nmcatee\\nmaurice\\nlowder\\nloos\\nlinker\\nlandes\\nkingery\\nkeeley\\nhufford\\nhiga\\nhendren\\nhammack\\nhamann\\ngillam\\ngerhardt\\nfell\\neugene\\nedelman\\neby\\ndelk\\ndeans\\ncurl\\nconstantine\\ncleaver\\nclaar\\ncasiano\\ncarruth\\ncarlyle\\nbump\\nbrophy\\nbolanos\\nbibbs\\nbessette\\nbeggs\\nbaugher\\nbartel\\naverill\\nandresen\\namin\\nalden\\nadames\\nwildman\\nvia\\nvalente\\nturnbow\\ntse\\nswink\\nsublett\\nstroh\\nstringfellow\\nridgway\\npugliese\\npoteat\\npang\\nohare\\nneubauer\\nmurchison\\nmohamed\\nmingo\\nlucky\\nlemmons\\nkwon\\nkellam\\nkean\\njarmon\\nhyden\\nhudak\\nhollinger\\nhenkel\\nhemingway\\nhasson\\nhansel\\nhalter\\nhaire\\ngoodnight\\nginsberg\\ngillispie\\nfogel\\nflory\\netter\\nelledge\\neckman\\ndeas\\ncurrin\\ncrafton\\ncoomer\\ncolter\\nclaxton\\nbulter\\nbraddock\\nbowyer\\nblizzard\\nbinns\\nbing\\nbellows\\nbaskerville\\nbarros\\nansley\\nwoolf\\nwight\\nwaldman\\nwadley\\ntull\\ntrull\\ntesch\\nstruck\\nstouffer\\nstadler\\nslay\\nshubert\\nsedillo\\nsantacruz\\nreinke\\nraleigh\\npoynter\\nneri\\nneale\\nnatividad\\nmowry\\nmoralez\\nmonger\\nmitchum\\nmerryman\\nmanion\\nmacdougall\\nlux\\nlitchfield\\nley\\nlevitt\\nlepage\\nlasalle\\nlaine\\nkhoury\\nkavanagh\\nkarns\\nivie\\nhuebner\\nhodgkins\\nhalpin\\ngarica\\neversole\\ndutra\\ndunagan\\nduffey\\ndillman\\ndillion\\ndeville\\ndearborn\\ndamato\\ncourson\\ncoulson\\nburdine\\nbryce\\nbousquet\\nbonin\\nbish\\natencio\\nwestbrooks\\nwages\\nvaca\\ntye\\ntoner\\ntomas\\ntillis\\nswett\\nsurface\\nstruble\\nstanfill\\nson\\nsolorzano\\nslusher\\nsipple\\nsim\\nsilvas\\nshults\\nschexnayder\\nsaez\\nrodas\\nrager\\npulver\\nplaza\\npenton\\npaniagua\\nmeneses\\nmcfarlin\\nmcauley\\nmatz\\nmaloy\\nmagruder\\nlohman\\nlanda\\nlacombe\\njaimes\\nhom\\nholzer\\nholst\\nheil\\nhackler\\ngrundy\\ngregor\\ngilkey\\nfarnham\\ndurfee\\ndunton\\ndunston\\nduda\\ndews\\ndana\\ncraver\\ncorriveau\\nconwell\\ncolella\\nchambless\\nbremer\\nboutte\\nbourassa\\nblaisdell\\nbackman\\nbabineaux\\naudette\\nalleman\\ntowner\\ntaveras\\ntarango\\nsullins\\nsuiter\\nstallard\\nsolberg\\nschlueter\\npoulos\\npimental\\nowsley\\nolivier\\nokelley\\nnations\\nmoffatt\\nmetcalfe\\nmeekins\\nmedellin\\nmcglynn\\nmccowan\\nmarriott\\nmarable\\nlennox\\nlamoureux\\nkoss\\nkerby\\nkarp\\njason\\nisenberg\\nhowze\\nhockenberry\\nhighsmith\\nharbour\\nhallmark\\ngusman\\ngreeley\\ngiddings\\ngaudet\\ngallup\\nfleenor\\neicher\\nedington\\ndimaggio\\ndement\\ndemello\\ndecastro\\ncruise\\nbushman\\nbrundage\\nbrooker\\nbrooke\\nbourg\\nboard\\nblackstock\\nbergmann\\nbeaton\\nbanister\\nargo\\nappling\\nwortman\\nwatterson\\nvillalpando\\ntillotson\\ntighe\\nsundberg\\nsternberg\\nstamey\\nspeaks\\nshipe\\nseeger\\nscarberry\\nsattler\\nsain\\nrothstein\\npoteet\\nplowman\\npettiford\\npenland\\npeach\\npartain\\npankey\\noyler\\nogletree\\nogburn\\nmoton\\nmillion\\nmerkel\\nmask\\nmarkus\\nlucier\\nlazarus\\nlavelle\\nlakey\\nkratz\\nkinser\\nkershaw\\njosephson\\njesse\\nimhoff\\nibanez\\nhendry\\nhammon\\nfrisbie\\nfriedrich\\nfrawley\\nfraga\\nforester\\neskew\\nemmert\\ndrennan\\ndoyon\\ndominick\\ndandridge\\ncumming\\ncawley\\ncarvajal\\nbracey\\nbelisle\\nbatey\\nahner\\nwysocki\\nweiser\\nveliz\\ntincher\\nsherlock\\nsanto\\nsansone\\nsankey\\nsandstrom\\nsale\\nrohrer\\nrisner\\npridemore\\npfeffer\\npersinger\\npeery\\noubre\\norange\\nnowicki\\nmusgrave\\nmurdoch\\nmullinax\\nmccary\\nmathieu\\nlivengood\\nleonardo\\nkyser\\nklink\\nkimes\\nkellner\\nkavanaugh\\nkasten\\nimes\\nhoey\\nhinshaw\\nhalley\\nhake\\ngurule\\ngrube\\ngrillo\\ngeter\\ngatto\\ngarver\\ngarretson\\nfarwell\\neiland\\ndunford\\ndecarlo\\ncorso\\ncore\\ncolman\\ncollard\\ncleghorn\\nchasteen\\ncavender\\ncarlile\\ncalvo\\nbyerly\\nbrogdon\\nbroadwater\\nbreault\\nbono\\nbergin\\nbehr\\nballenger\\namick\\nyan\\nvice\\ntamez\\nstiffler\\nsteinke\\nsimmon\\nshankle\\nschaller\\nsalmons\\nsackett\\nsaad\\nrideout\\nreader\\nratcliffe\\nrao\\nranson\\nrandell\\nplascencia\\npetterson\\nolszewski\\nolney\\nolguin\\nnilsson\\nnevels\\nmorelli\\nmontiel\\nmonge\\nmichell\\nmichaelson\\nmertens\\nmcchesney\\nmcalpin\\nmathewson\\nlower\\nloudermilk\\nlineberry\\nliggett\\nlamp\\nkinlaw\\nkight\\njust\\njost\\nhereford\\nhardeman\\nhalpern\\nhalliday\\nhafer\\ngaul\\nfriel\\nfreitag\\nfrances\\nforsberg\\nevangelista\\ndoering\\ndicarlo\\ndendy\\ndelp\\ndeguzman\\ndameron\\ncurtiss\\ncousin\\ncosper\\ncharley\\ncauthen\\ncao\\ncamper\\nbradberry\\nbouton\\nbonnell\\nbixby\\nbieber\\nbeveridge\\nbelle\\nbedwell\\nbarhorst\\nbannon\\nbaltazar\\nbaier\\nayotte\\nattaway\\narenas\\nalex\\nabrego\\nwatford\\nvalley\\nturgeon\\ntunstall\\nthaxton\\nthai\\ntenorio\\nstotts\\nsthilaire\\nspiker\\nshedd\\nseng\\nseabolt\\nscalf\\nsalyers\\nruhl\\nrowlett\\nrobinett\\npfister\\nperlman\\npepe\\nparkman\\nparadise\\nolin\\nnunnally\\nnorvell\\nnapper\\nmodlin\\nmckellar\\nmcclean\\nmascarenas\\nmanchester\\nleibowitz\\nledezma\\nkuhlman\\nkobayashi\\nhunley\\nholmquist\\nhinkley\\nhazard\\nhartsell\\ngribble\\ngravely\\nfifield\\neliason\\ndoctor\\ndoak\\ncrossland\\ncover\\nclair\\ncarleton\\nbutters\\nbridgeman\\nbojorquez\\nboggess\\nbanker\\nauten\\njames  | http://www.census.gov/genealogy/names/dist.male.first\\njohn\\nrobert\\nmichael\\nwilliam\\ndavid\\nrichard\\ncharles\\njoseph\\nthomas\\nchristopher\\ndaniel\\npaul\\nmark\\ndonald\\ngeorge\\nkenneth\\nsteven\\nedward\\nbrian\\nronald\\nanthony\\nkevin\\njason\\nmatthew\\ngary\\ntimothy\\njose\\nlarry\\njeffrey\\nfrank\\nscott\\neric\\nstephen\\nandrew\\nraymond\\ngregory\\njoshua\\njerry\\ndennis\\nwalter\\npatrick\\npeter\\nharold\\ndouglas\\nhenry\\ncarl\\narthur\\nryan\\nroger\\njoe\\njuan\\njack\\nalbert\\njonathan\\njustin\\nterry\\ngerald\\nkeith\\nsamuel\\nwillie\\nralph\\nlawrence\\nnicholas\\nroy\\nbenjamin\\nbruce\\nbrandon\\nadam\\nharry\\nfred\\nwayne\\nbilly\\nsteve\\nlouis\\njeremy\\naaron\\nrandy\\nhoward\\neugene\\ncarlos\\nrussell\\nbobby\\nvictor\\nmartin\\nernest\\nphillip\\ntodd\\njesse\\ncraig\\nalan\\nshawn\\nclarence\\nsean\\nphilip\\nchris\\njohnny\\nearl\\njimmy\\nantonio\\ndanny\\nbryan\\ntony\\nluis\\nmike\\nstanley\\nleonard\\nnathan\\ndale\\nmanuel\\nrodney\\ncurtis\\nnorman\\nallen\\nmarvin\\nvincent\\nglenn\\njeffery\\ntravis\\njeff\\nchad\\njacob\\nlee\\nmelvin\\nalfred\\nkyle\\nfrancis\\nbradley\\njesus\\nherbert\\nfrederick\\nray\\njoel\\nedwin\\ndon\\neddie\\nricky\\ntroy\\nrandall\\nbarry\\nalexander\\nbernard\\nmario\\nleroy\\nfrancisco\\nmarcus\\nmicheal\\ntheodore\\nclifford\\nmiguel\\noscar\\njay\\njim\\ntom\\ncalvin\\nalex\\njon\\nronnie\\nbill\\nlloyd\\ntommy\\nleon\\nderek\\nwarren\\ndarrell\\njerome\\nfloyd\\nleo\\nalvin\\ntim\\nwesley\\ngordon\\ndean\\ngreg\\njorge\\ndustin\\npedro\\nderrick\\ndan\\nlewis\\nzachary\\ncorey\\nherman\\nmaurice\\nvernon\\nroberto\\nclyde\\nglen\\nhector\\nshane\\nricardo\\nsam\\nrick\\nlester\\nbrent\\nramon\\ncharlie\\ntyler\\ngilbert\\ngene\\nmarc\\nreginald\\nruben\\nbrett\\nangel\\nnathaniel\\nrafael\\nleslie\\nedgar\\nmilton\\nraul\\nben\\nchester\\ncecil\\nduane\\nfranklin\\nandre\\nelmer\\nbrad\\ngabriel\\nron\\nmitchell\\nroland\\narnold\\nharvey\\njared\\nadrian\\nkarl\\ncory\\nclaude\\nerik\\ndarryl\\njamie\\nneil\\njessie\\nchristian\\njavier\\nfernando\\nclinton\\nted\\nmathew\\ntyrone\\ndarren\\nlonnie\\nlance\\ncody\\njulio\\nkelly\\nkurt\\nallan\\nnelson\\nguy\\nclayton\\nhugh\\nmax\\ndwayne\\ndwight\\narmando\\nfelix\\njimmie\\neverett\\njordan\\nian\\nwallace\\nken\\nbob\\njaime\\ncasey\\nalfredo\\nalberto\\ndave\\nivan\\njohnnie\\nsidney\\nbyron\\njulian\\nisaac\\nmorris\\nclifton\\nwillard\\ndaryl\\nross\\nvirgil\\nandy\\nmarshall\\nsalvador\\nperry\\nkirk\\nsergio\\nmarion\\ntracy\\nseth\\nkent\\nterrance\\nrene\\neduardo\\nterrence\\nenrique\\nfreddie\\nwade\\naustin\\nstuart\\nfredrick\\narturo\\nalejandro\\njackie\\njoey\\nnick\\nluther\\nwendell\\njeremiah\\nevan\\njulius\\ndana\\ndonnie\\notis\\nshannon\\ntrevor\\noliver\\nluke\\nhomer\\ngerard\\ndoug\\nkenny\\nhubert\\nangelo\\nshaun\\nlyle\\nmatt\\nlynn\\nalfonso\\norlando\\nrex\\ncarlton\\nernesto\\ncameron\\nneal\\npablo\\nlorenzo\\nomar\\nwilbur\\nblake\\ngrant\\nhorace\\nroderick\\nkerry\\nabraham\\nwillis\\nrickey\\njean\\nira\\nandres\\ncesar\\njohnathan\\nmalcolm\\nrudolph\\ndamon\\nkelvin\\nrudy\\npreston\\nalton\\narchie\\nmarco\\nwm\\npete\\nrandolph\\ngarry\\ngeoffrey\\njonathon\\nfelipe\\nbennie\\ngerardo\\ned\\ndominic\\nrobin\\nloren\\ndelbert\\ncolin\\nguillermo\\nearnest\\nlucas\\nbenny\\nnoel\\nspencer\\nrodolfo\\nmyron\\nedmund\\ngarrett\\nsalvatore\\ncedric\\nlowell\\ngregg\\nsherman\\nwilson\\ndevin\\nsylvester\\nkim\\nroosevelt\\nisrael\\njermaine\\nforrest\\nwilbert\\nleland\\nsimon\\nguadalupe\\nclark\\nirving\\ncarroll\\nbryant\\nowen\\nrufus\\nwoodrow\\nsammy\\nkristopher\\nmack\\nlevi\\nmarcos\\ngustavo\\njake\\nlionel\\nmarty\\ntaylor\\nellis\\ndallas\\ngilberto\\nclint\\nnicolas\\nlaurence\\nismael\\norville\\ndrew\\njody\\nervin\\ndewey\\nal\\nwilfred\\njosh\\nhugo\\nignacio\\ncaleb\\ntomas\\nsheldon\\nerick\\nfrankie\\nstewart\\ndoyle\\ndarrel\\nrogelio\\nterence\\nsantiago\\nalonzo\\nelias\\nbert\\nelbert\\nramiro\\nconrad\\npat\\nnoah\\ngrady\\nphil\\ncornelius\\nlamar\\nrolando\\nclay\\npercy\\ndexter\\nbradford\\nmerle\\ndarin\\namos\\nterrell\\nmoses\\nirvin\\nsaul\\nroman\\ndarnell\\nrandal\\ntommie\\ntimmy\\ndarrin\\nwinston\\nbrendan\\ntoby\\nvan\\nabel\\ndominick\\nboyd\\ncourtney\\njan\\nemilio\\nelijah\\ncary\\ndomingo\\nsantos\\naubrey\\nemmett\\nmarlon\\nemanuel\\njerald\\nedmond\\nemil\\ndewayne\\nwill\\notto\\nteddy\\nreynaldo\\nbret\\nmorgan\\njess\\ntrent\\nhumberto\\nemmanuel\\nstephan\\nlouie\\nvicente\\nlamont\\nstacy\\ngarland\\nmiles\\nmicah\\nefrain\\nbillie\\nlogan\\nheath\\nrodger\\nharley\\ndemetrius\\nethan\\neldon\\nrocky\\npierre\\njunior\\nfreddy\\neli\\nbryce\\nantoine\\nrobbie\\nkendall\\nroyce\\nsterling\\nmickey\\nchase\\ngrover\\nelton\\ncleveland\\ndylan\\nchuck\\ndamian\\nreuben\\nstan\\naugust\\nleonardo\\njasper\\nrussel\\nerwin\\nbenito\\nhans\\nmonte\\nblaine\\nernie\\ncurt\\nquentin\\nagustin\\nmurray\\njamal\\ndevon\\nadolfo\\nharrison\\ntyson\\nburton\\nbrady\\nelliott\\nwilfredo\\nbart\\njarrod\\nvance\\ndenis\\ndamien\\njoaquin\\nharlan\\ndesmond\\nelliot\\ndarwin\\nashley\\ngregorio\\nbuddy\\nxavier\\nkermit\\nroscoe\\nesteban\\nanton\\nsolomon\\nscotty\\nnorbert\\nelvin\\nwilliams\\nnolan\\ncarey\\nrod\\nquinton\\nhal\\nbrain\\nrob\\nelwood\\nkendrick\\ndarius\\nmoises\\nson\\nmarlin\\nfidel\\nthaddeus\\ncliff\\nmarcel\\nali\\njackson\\nraphael\\nbryon\\narmand\\nalvaro\\njeffry\\ndane\\njoesph\\nthurman\\nned\\nsammie\\nrusty\\nmichel\\nmonty\\nrory\\nfabian\\nreggie\\nmason\\ngraham\\nkris\\nisaiah\\nvaughn\\ngus\\navery\\nloyd\\ndiego\\nalexis\\nadolph\\nnorris\\nmillard\\nrocco\\ngonzalo\\nderick\\nrodrigo\\ngerry\\nstacey\\ncarmen\\nwiley\\nrigoberto\\nalphonso\\nty\\nshelby\\nrickie\\nnoe\\nvern\\nbobbie\\nreed\\njefferson\\nelvis\\nbernardo\\nmauricio\\nhiram\\ndonovan\\nbasil\\nriley\\nollie\\nnickolas\\nmaynard\\nscot\\nvince\\nquincy\\neddy\\nsebastian\\nfederico\\nulysses\\nheriberto\\ndonnell\\ncole\\ndenny\\ndavis\\ngavin\\nemery\\nward\\nromeo\\njayson\\ndion\\ndante\\nclement\\ncoy\\nodell\\nmaxwell\\njarvis\\nbruno\\nissac\\nmary\\ndudley\\nbrock\\nsanford\\ncolby\\ncarmelo\\nbarney\\nnestor\\nhollis\\nstefan\\ndonny\\nart\\nlinwood\\nbeau\\nweldon\\ngalen\\nisidro\\ntruman\\ndelmar\\njohnathon\\nsilas\\nfrederic\\ndick\\nkirby\\nirwin\\ncruz\\nmerlin\\nmerrill\\ncharley\\nmarcelino\\nlane\\nharris\\ncleo\\ncarlo\\ntrenton\\nkurtis\\nhunter\\naurelio\\nwinfred\\nvito\\ncollin\\ndenver\\ncarter\\nleonel\\nemory\\npasquale\\nmohammad\\nmariano\\ndanial\\nblair\\nlandon\\ndirk\\nbranden\\nadan\\nnumbers\\nclair\\nbuford\\ngerman\\nbernie\\nwilmer\\njoan\\nemerson\\nzachery\\nfletcher\\njacques\\nerrol\\ndalton\\nmonroe\\njosue\\ndominique\\nedwardo\\nbooker\\nwilford\\nsonny\\nshelton\\ncarson\\ntheron\\nraymundo\\ndaren\\ntristan\\nhouston\\nrobby\\nlincoln\\njame\\ngenaro\\ngale\\nbennett\\noctavio\\ncornell\\nlaverne\\nhung\\narron\\nantony\\nherschel\\nalva\\ngiovanni\\ngarth\\ncyrus\\ncyril\\nronny\\nstevie\\nlon\\nfreeman\\nerin\\nduncan\\nkennith\\ncarmine\\naugustine\\nyoung\\nerich\\nchadwick\\nwilburn\\nruss\\nreid\\nmyles\\nanderson\\nmorton\\njonas\\nforest\\nmitchel\\nmervin\\nzane\\nrich\\njamel\\nlazaro\\nalphonse\\nrandell\\nmajor\\njohnie\\njarrett\\nbrooks\\nariel\\nabdul\\ndusty\\nluciano\\nlindsey\\ntracey\\nseymour\\nscottie\\neugenio\\nmohammed\\nsandy\\nvalentin\\nchance\\narnulfo\\nlucien\\nferdinand\\nthad\\nezra\\nsydney\\naldo\\nrubin\\nroyal\\nmitch\\nearle\\nabe\\nwyatt\\nmarquis\\nlanny\\nkareem\\njamar\\nboris\\nisiah\\nemile\\nelmo\\naron\\nleopoldo\\neverette\\njosef\\ngail\\neloy\\ndorian\\nrodrick\\nreinaldo\\nlucio\\njerrod\\nweston\\nhershel\\nbarton\\nparker\\nlemuel\\nlavern\\nburt\\njules\\ngil\\neliseo\\nahmad\\nnigel\\nefren\\nantwan\\nalden\\nmargarito\\ncoleman\\nrefugio\\ndino\\nosvaldo\\nles\\ndeandre\\nnormand\\nkieth\\nivory\\nandrea\\ntrey\\nnorberto\\nnapoleon\\njerold\\nfritz\\nrosendo\\nmilford\\nsang\\ndeon\\nchristoper\\nalfonzo\\nlyman\\njosiah\\nbrant\\nwilton\\nrico\\njamaal\\ndewitt\\ncarol\\nbrenton\\nyong\\nolin\\nfoster\\nfaustino\\nclaudio\\njudson\\ngino\\nedgardo\\nberry\\nalec\\ntanner\\njarred\\ndonn\\ntrinidad\\ntad\\nshirley\\nprince\\nporfirio\\nodis\\nmaria\\nlenard\\nchauncey\\nchang\\ntod\\nmel\\nmarcelo\\nkory\\naugustus\\nkeven\\nhilario\\nbud\\nsal\\nrosario\\norval\\nmauro\\ndannie\\nzachariah\\nolen\\nanibal\\nmilo\\njed\\nfrances\\nthanh\\ndillon\\namado\\nnewton\\nconnie\\nlenny\\ntory\\nrichie\\nlupe\\nhoracio\\nbrice\\nmohamed\\ndelmer\\ndario\\nreyes\\ndee\\nmac\\njonah\\njerrold\\nrobt\\nhank\\nsung\\nrupert\\nrolland\\nkenton\\ndamion\\nchi\\nantone\\nwaldo\\nfredric\\nbradly\\nquinn\\nkip\\nburl\\nwalker\\ntyree\\njefferey\\nahmed\\nwilly\\nstanford\\noren\\nnoble\\nmoshe\\nmikel\\nenoch\\nbrendon\\nquintin\\njamison\\nflorencio\\ndarrick\\ntobias\\nminh\\nhassan\\ngiuseppe\\ndemarcus\\ncletus\\ntyrell\\nlyndon\\nkeenan\\nwerner\\ntheo\\ngeraldo\\nlou\\ncolumbus\\nchet\\nbertram\\nmarkus\\nhuey\\nhilton\\ndwain\\ndonte\\ntyron\\nomer\\nisaias\\nhipolito\\nfermin\\nchung\\nadalberto\\nvalentine\\njamey\\nbo\\nbarrett\\nwhitney\\nteodoro\\nmckinley\\nmaximo\\ngarfield\\nsol\\nraleigh\\nlawerence\\nabram\\nrashad\\nking\\nemmitt\\ndaron\\nchong\\nsamual\\nparis\\notha\\nmiquel\\nlacy\\neusebio\\ndong\\ndomenic\\ndarron\\nbuster\\nantonia\\nwilber\\nrenato\\njc\\nhoyt\\nhaywood\\nezekiel\\nchas\\nflorentino\\nelroy\\nclemente\\narden\\nneville\\nkelley\\nedison\\ndeshawn\\ncarrol\\nshayne\\nnathanial\\njordon\\ndanilo\\nclaud\\nval\\nsherwood\\nraymon\\nrayford\\ncristobal\\nambrose\\ntitus\\nhyman\\nfelton\\nezequiel\\nerasmo\\nstanton\\nlonny\\nlen\\nike\\nmilan\\nlino\\njarod\\nherb\\nandreas\\nwalton\\nrhett\\npalmer\\njude\\ndouglass\\ncordell\\noswaldo\\nellsworth\\nvirgilio\\ntoney\\nnathanael\\ndel\\nbritt\\nbenedict\\nmose\\nhong\\nleigh\\njohnson\\nisreal\\ngayle\\ngarret\\nfausto\\nasa\\narlen\\nzack\\nwarner\\nmodesto\\nfrancesco\\nmanual\\njae\\ngaylord\\ngaston\\nfiliberto\\ndeangelo\\nmichale\\ngranville\\nwes\\nmalik\\nzackary\\ntuan\\nnicky\\neldridge\\ncristopher\\ncortez\\nantione\\nmalcom\\nlong\\nkorey\\njospeh\\ncolton\\nwaylon\\nvon\\nhosea\\nshad\\nsanto\\nrudolf\\nrolf\\nrey\\nrenaldo\\nmarcellus\\nlucius\\nlesley\\nkristofer\\nboyce\\nbenton\\nman\\nkasey\\njewell\\nhayden\\nharland\\narnoldo\\nrueben\\nleandro\\nkraig\\njerrell\\njeromy\\nhobert\\ncedrick\\narlie\\nwinford\\nwally\\npatricia\\nluigi\\nkeneth\\njacinto\\ngraig\\nfranklyn\\nedmundo\\nsid\\nporter\\nleif\\nlauren\\njeramy\\nelisha\\nbuck\\nwillian\\nvincenzo\\nshon\\nmichal\\nlynwood\\nlindsay\\njewel\\njere\\nhai\\nelden\\ndorsey\\ndarell\\nbroderick\\nalonso\\nmary  | http://www.census.gov/genealogy/names/dist.female.first\\npatricia\\nlinda\\nbarbara\\nelizabeth\\njennifer\\nmaria\\nsusan\\nmargaret\\ndorothy\\nlisa\\nnancy\\nkaren\\nbetty\\nhelen\\nsandra\\ndonna\\ncarol\\nruth\\nsharon\\nmichelle\\nlaura\\nsarah\\nkimberly\\ndeborah\\njessica\\nshirley\\ncynthia\\nangela\\nmelissa\\nbrenda\\namy\\nanna\\nrebecca\\nvirginia\\nkathleen\\npamela\\nmartha\\ndebra\\namanda\\nstephanie\\ncarolyn\\nchristine\\nmarie\\njanet\\ncatherine\\nfrances\\nann\\njoyce\\ndiane\\nalice\\njulie\\nheather\\nteresa\\ndoris\\ngloria\\nevelyn\\njean\\ncheryl\\nmildred\\nkatherine\\njoan\\nashley\\njudith\\nrose\\njanice\\nkelly\\nnicole\\njudy\\nchristina\\nkathy\\ntheresa\\nbeverly\\ndenise\\ntammy\\nirene\\njane\\nlori\\nrachel\\nmarilyn\\nandrea\\nkathryn\\nlouise\\nsara\\nanne\\njacqueline\\nwanda\\nbonnie\\njulia\\nruby\\nlois\\ntina\\nphyllis\\nnorma\\npaula\\ndiana\\nannie\\nlillian\\nemily\\nrobin\\npeggy\\ncrystal\\ngladys\\nrita\\ndawn\\nconnie\\nflorence\\ntracy\\nedna\\ntiffany\\ncarmen\\nrosa\\ncindy\\ngrace\\nwendy\\nvictoria\\nedith\\nkim\\nsherry\\nsylvia\\njosephine\\nthelma\\nshannon\\nsheila\\nethel\\nellen\\nelaine\\nmarjorie\\ncarrie\\ncharlotte\\nmonica\\nesther\\npauline\\nemma\\njuanita\\nanita\\nrhonda\\nhazel\\namber\\neva\\ndebbie\\napril\\nleslie\\nclara\\nlucille\\njamie\\njoanne\\neleanor\\nvalerie\\ndanielle\\nmegan\\nalicia\\nsuzanne\\nmichele\\ngail\\nbertha\\ndarlene\\nveronica\\njill\\nerin\\ngeraldine\\nlauren\\ncathy\\njoann\\nlorraine\\nlynn\\nsally\\nregina\\nerica\\nbeatrice\\ndolores\\nbernice\\naudrey\\nyvonne\\nannette\\njune\\nsamantha\\nmarion\\ndana\\nstacy\\nana\\nrenee\\nida\\nvivian\\nroberta\\nholly\\nbrittany\\nmelanie\\nloretta\\nyolanda\\njeanette\\nlaurie\\nkatie\\nkristen\\nvanessa\\nalma\\nsue\\nelsie\\nbeth\\njeanne\\nvicki\\ncarla\\ntara\\nrosemary\\neileen\\nterri\\ngertrude\\nlucy\\ntonya\\nella\\nstacey\\nwilma\\ngina\\nkristin\\njessie\\nnatalie\\nagnes\\nvera\\nwillie\\ncharlene\\nbessie\\ndelores\\nmelinda\\npearl\\narlene\\nmaureen\\ncolleen\\nallison\\ntamara\\njoy\\ngeorgia\\nconstance\\nlillie\\nclaudia\\njackie\\nmarcia\\ntanya\\nnellie\\nminnie\\nmarlene\\nheidi\\nglenda\\nlydia\\nviola\\ncourtney\\nmarian\\nstella\\ncaroline\\ndora\\njo\\nvickie\\nmattie\\nterry\\nmaxine\\nirma\\nmabel\\nmarsha\\nmyrtle\\nlena\\nchristy\\ndeanna\\npatsy\\nhilda\\ngwendolyn\\njennie\\nnora\\nmargie\\nnina\\ncassandra\\nleah\\npenny\\nkay\\npriscilla\\nnaomi\\ncarole\\nbrandy\\nolga\\nbillie\\ndianne\\ntracey\\nleona\\njenny\\nfelicia\\nsonia\\nmiriam\\nvelma\\nbecky\\nbobbie\\nviolet\\nkristina\\ntoni\\nmisty\\nmae\\nshelly\\ndaisy\\nramona\\nsherri\\nerika\\nkatrina\\nclaire\\nlindsey\\nlindsay\\ngeneva\\nguadalupe\\nbelinda\\nmargarita\\nsheryl\\ncora\\nfaye\\nada\\nnatasha\\nsabrina\\nisabel\\nmarguerite\\nhattie\\nharriet\\nmolly\\ncecilia\\nkristi\\nbrandi\\nblanche\\nsandy\\nrosie\\njoanna\\niris\\neunice\\nangie\\ninez\\nlynda\\nmadeline\\namelia\\nalberta\\ngenevieve\\nmonique\\njodi\\njanie\\nmaggie\\nkayla\\nsonya\\njan\\nlee\\nkristine\\ncandace\\nfannie\\nmaryann\\nopal\\nalison\\nyvette\\nmelody\\nluz\\nsusie\\nolivia\\nflora\\nshelley\\nkristy\\nmamie\\nlula\\nlola\\nverna\\nbeulah\\nantoinette\\ncandice\\njuana\\njeannette\\npam\\nkelli\\nhannah\\nwhitney\\nbridget\\nkarla\\ncelia\\nlatoya\\npatty\\nshelia\\ngayle\\ndella\\nvicky\\nlynne\\nsheri\\nmarianne\\nkara\\njacquelyn\\nerma\\nblanca\\nmyra\\nleticia\\npat\\nkrista\\nroxanne\\nangelica\\njohnnie\\nrobyn\\nfrancis\\nadrienne\\nrosalie\\nalexandra\\nbrooke\\nbethany\\nsadie\\nbernadette\\ntraci\\njody\\nkendra\\njasmine\\nnichole\\nrachael\\nchelsea\\nmable\\nernestine\\nmuriel\\nmarcella\\nelena\\nkrystal\\nangelina\\nnadine\\nkari\\nestelle\\ndianna\\npaulette\\nlora\\nmona\\ndoreen\\nrosemarie\\nangel\\ndesiree\\nantonia\\nhope\\nginger\\njanis\\nbetsy\\nchristie\\nfreda\\nmercedes\\nmeredith\\nlynette\\nteri\\ncristina\\neula\\nleigh\\nmeghan\\nsophia\\neloise\\nrochelle\\ngretchen\\ncecelia\\nraquel\\nhenrietta\\nalyssa\\njana\\nkelley\\ngwen\\nkerry\\njenna\\ntricia\\nlaverne\\nolive\\nalexis\\ntasha\\nsilvia\\nelvira\\ncasey\\ndelia\\nsophie\\nkate\\npatti\\nlorena\\nkellie\\nsonja\\nlila\\nlana\\ndarla\\nmay\\nmindy\\nessie\\nmandy\\nlorene\\nelsa\\njosefina\\njeannie\\nmiranda\\ndixie\\nlucia\\nmarta\\nfaith\\nlela\\njohanna\\nshari\\ncamille\\ntami\\nshawna\\nelisa\\nebony\\nmelba\\nora\\nnettie\\ntabitha\\nollie\\njaime\\nwinifred\\nkristie\\nmarina\\nalisha\\naimee\\nrena\\nmyrna\\nmarla\\ntammie\\nlatasha\\nbonita\\npatrice\\nronda\\nsherrie\\naddie\\nfrancine\\ndeloris\\nstacie\\nadriana\\ncheri\\nshelby\\nabigail\\nceleste\\njewel\\ncara\\nadele\\nrebekah\\nlucinda\\ndorthy\\nchris\\neffie\\ntrina\\nreba\\nshawn\\nsallie\\naurora\\nlenora\\netta\\nlottie\\nkerri\\ntrisha\\nnikki\\nestella\\nfrancisca\\njosie\\ntracie\\nmarissa\\nkarin\\nbrittney\\njanelle\\nlourdes\\nlaurel\\nhelene\\nfern\\nelva\\ncorinne\\nkelsey\\nina\\nbettie\\nelisabeth\\naida\\ncaitlin\\ningrid\\niva\\neugenia\\nchrista\\ngoldie\\ncassie\\nmaude\\njenifer\\ntherese\\nfrankie\\ndena\\nlorna\\njanette\\nlatonya\\ncandy\\nmorgan\\nconsuelo\\ntamika\\nrosetta\\ndebora\\ncherie\\npolly\\ndina\\njewell\\nfay\\njillian\\ndorothea\\nnell\\ntrudy\\nesperanza\\npatrica\\nkimberley\\nshanna\\nhelena\\ncarolina\\ncleo\\nstefanie\\nrosario\\nola\\njanine\\nmollie\\nlupe\\nalisa\\nlou\\nmaribel\\nsusanne\\nbette\\nsusana\\nelise\\ncecile\\nisabelle\\nlesley\\njocelyn\\npaige\\njoni\\nrachelle\\nleola\\ndaphne\\nalta\\nester\\npetra\\ngraciela\\nimogene\\njolene\\nkeisha\\nlacey\\nglenna\\ngabriela\\nkeri\\nursula\\nlizzie\\nkirsten\\nshana\\nadeline\\nmayra\\njayne\\njaclyn\\ngracie\\nsondra\\ncarmela\\nmarisa\\nrosalind\\ncharity\\ntonia\\nbeatriz\\nmarisol\\nclarice\\njeanine\\nsheena\\nangeline\\nfrieda\\nlily\\nrobbie\\nshauna\\nmillie\\nclaudette\\ncathleen\\nangelia\\ngabrielle\\nautumn\\nkatharine\\nsummer\\njodie\\nstaci\\nlea\\nchristi\\njimmie\\njustine\\nelma\\nluella\\nmargret\\ndominique\\nsocorro\\nrene\\nmartina\\nmargo\\nmavis\\ncallie\\nbobbi\\nmaritza\\nlucile\\nleanne\\njeannine\\ndeana\\naileen\\nlorie\\nladonna\\nwilla\\nmanuela\\ngale\\nselma\\ndolly\\nsybil\\nabby\\nlara\\ndale\\nivy\\ndee\\nwinnie\\nmarcy\\nluisa\\njeri\\nmagdalena\\nofelia\\nmeagan\\naudra\\nmatilda\\nleila\\ncornelia\\nbianca\\nsimone\\nbettye\\nrandi\\nvirgie\\nlatisha\\nbarbra\\ngeorgina\\neliza\\nleann\\nbridgette\\nrhoda\\nhaley\\nadela\\nnola\\nbernadine\\nflossie\\nila\\ngreta\\nruthie\\nnelda\\nminerva\\nlilly\\nterrie\\nletha\\nhilary\\nestela\\nvalarie\\nbrianna\\nrosalyn\\nearline\\ncatalina\\nava\\nmia\\nclarissa\\nlidia\\ncorrine\\nalexandria\\nconcepcion\\ntia\\nsharron\\nrae\\ndona\\nericka\\njami\\nelnora\\nchandra\\nlenore\\nneva\\nmarylou\\nmelisa\\ntabatha\\nserena\\navis\\nallie\\nsofia\\njeanie\\nodessa\\nnannie\\nharriett\\nloraine\\npenelope\\nmilagros\\nemilia\\nbenita\\nallyson\\nashlee\\ntania\\ntommie\\nesmeralda\\nkarina\\neve\\npearlie\\nzelma\\nmalinda\\nnoreen\\ntameka\\nsaundra\\nhillary\\namie\\nalthea\\nrosalinda\\njordan\\nlilia\\nalana\\ngay\\nclare\\nalejandra\\nelinor\\nmichael\\nlorrie\\njerri\\ndarcy\\nearnestine\\ncarmella\\ntaylor\\nnoemi\\nmarcie\\nliza\\nannabelle\\nlouisa\\nearlene\\nmallory\\ncarlene\\nnita\\nselena\\ntanisha\\nkaty\\njulianne\\njohn\\nlakisha\\nedwina\\nmaricela\\nmargery\\nkenya\\ndollie\\nroxie\\nroslyn\\nkathrine\\nnanette\\ncharmaine\\nlavonne\\nilene\\nkris\\ntammi\\nsuzette\\ncorine\\nkaye\\njerry\\nmerle\\nchrystal\\nlina\\ndeanne\\nlilian\\njuliana\\naline\\nluann\\nkasey\\nmaryanne\\nevangeline\\ncolette\\nmelva\\nlawanda\\nyesenia\\nnadia\\nmadge\\nkathie\\neddie\\nophelia\\nvaleria\\nnona\\nmitzi\\nmari\\ngeorgette\\nclaudine\\nfran\\nalissa\\nroseann\\nlakeisha\\nsusanna\\nreva\\ndeidre\\nchasity\\nsheree\\ncarly\\njames\\nelvia\\nalyce\\ndeirdre\\ngena\\nbriana\\naraceli\\nkatelyn\\nrosanne\\nwendi\\ntessa\\nberta\\nmarva\\nimelda\\nmarietta\\nmarci\\nleonor\\narline\\nsasha\\nmadelyn\\njanna\\njuliette\\ndeena\\naurelia\\njosefa\\naugusta\\nliliana\\nyoung\\nchristian\\nlessie\\namalia\\nsavannah\\nanastasia\\nvilma\\nnatalia\\nrosella\\nlynnette\\ncorina\\nalfreda\\nleanna\\ncarey\\namparo\\ncoleen\\ntamra\\naisha\\nwilda\\nkaryn\\ncherry\\nqueen\\nmaura\\nmai\\nevangelina\\nrosanna\\nhallie\\nerna\\nenid\\nmariana\\nlacy\\njuliet\\njacklyn\\nfreida\\nmadeleine\\nmara\\nhester\\ncathryn\\nlelia\\ncasandra\\nbridgett\\nangelita\\njannie\\ndionne\\nannmarie\\nkatina\\nberyl\\nphoebe\\nmillicent\\nkatheryn\\ndiann\\ncarissa\\nmaryellen\\nliz\\nlauri\\nhelga\\ngilda\\nadrian\\nrhea\\nmarquita\\nhollie\\ntisha\\ntamera\\nangelique\\nfrancesca\\nbritney\\nkaitlin\\nlolita\\nflorine\\nrowena\\nreyna\\ntwila\\nfanny\\njanell\\nines\\nconcetta\\nbertie\\nalba\\nbrigitte\\nalyson\\nvonda\\npansy\\nelba\\nnoelle\\nletitia\\nkitty\\ndeann\\nbrandie\\nlouella\\nleta\\nfelecia\\nsharlene\\nlesa\\nbeverley\\nrobert\\nisabella\\nherminia\\nterra\\ncelina\\ntori\\noctavia\\njade\\ndenice\\ngermaine\\nsierra\\nmichell\\ncortney\\nnelly\\ndoretha\\nsydney\\ndeidra\\nmonika\\nlashonda\\njudi\\nchelsey\\nantionette\\nmargot\\nbobby\\nadelaide\\nnan\\nleeann\\nelisha\\ndessie\\nlibby\\nkathi\\ngayla\\nlatanya\\nmina\\nmellisa\\nkimberlee\\njasmin\\nrenae\\nzelda\\nelda\\nma\\njustina\\ngussie\\nemilie\\ncamilla\\nabbie\\nrocio\\nkaitlyn\\njesse\\nedythe\\nashleigh\\nselina\\nlakesha\\ngeri\\nallene\\npamala\\nmichaela\\ndayna\\ncaryn\\nrosalia\\nsun\\njacquline\\nrebeca\\nmarybeth\\nkrystle\\niola\\ndottie\\nbennie\\nbelle\\naubrey\\ngriselda\\nernestina\\nelida\\nadrianne\\ndemetria\\ndelma\\nchong\\njaqueline\\ndestiny\\narleen\\nvirgina\\nretha\\nfatima\\ntillie\\neleanore\\ncari\\ntreva\\nbirdie\\nwilhelmina\\nrosalee\\nmaurine\\nlatrice\\nyong\\njena\\ntaryn\\nelia\\ndebby\\nmaudie\\njeanna\\ndelilah\\ncatrina\\nshonda\\nhortencia\\ntheodora\\nteresita\\nrobbin\\ndanette\\nmaryjane\\nfreddie\\ndelphine\\nbrianne\\nnilda\\ndanna\\ncindi\\nbess\\niona\\nhanna\\nariel\\nwinona\\nvida\\nrosita\\nmarianna\\nwilliam\\nracheal\\nguillermina\\neloisa\\ncelestine\\ncaren\\nmalissa\\nlona\\nchantel\\nshellie\\nmarisela\\nleora\\nagatha\\nsoledad\\nmigdalia\\nivette\\nchristen\\nathena\\njanel\\nchloe\\nveda\\npattie\\ntessie\\ntera\\nmarilynn\\nlucretia\\nkarrie\\ndinah\\ndaniela\\nalecia\\nadelina\\nvernice\\nshiela\\nportia\\nmerry\\nlashawn\\ndevon\\ndara\\ntawana\\noma\\nverda\\nchristin\\nalene\\nzella\\nsandi\\nrafaela\\nmaya\\nkira\\ncandida\\nalvina\\nsuzan\\nshayla\\nlyn\\nlettie\\nalva\\nsamatha\\noralia\\nmatilde\\nmadonna\\nlarissa\\nvesta\\nrenita\\nindia\\ndelois\\nshanda\\nphillis\\nlorri\\nerlinda\\ncruz\\ncathrine\\nbarb\\nzoe\\nisabell\\nione\\ngisela\\ncharlie\\nvalencia\\nroxanna\\nmayme\\nkisha\\nellie\\nmellissa\\ndorris\\ndalia\\nbella\\nannetta\\nzoila\\nreta\\nreina\\nlauretta\\nkylie\\nchristal\\npilar\\ncharla\\nelissa\\ntiffani\\ntana\\npaulina\\nleota\\nbreanna\\njayme\\ncarmel\\nvernell\\ntomasa\\nmandi\\ndominga\\nsanta\\nmelodie\\nlura\\nalexa\\ntamela\\nryan\\nmirna\\nkerrie\\nvenus\\nnoel\\nfelicita\\ncristy\\ncarmelita\\nberniece\\nannemarie\\ntiara\\nroseanne\\nmissy\\ncori\\nroxana\\npricilla\\nkristal\\njung\\nelyse\\nhaydee\\naletha\\nbettina\\nmarge\\ngillian\\nfilomena\\ncharles\\nzenaida\\nharriette\\ncaridad\\nvada\\nuna\\naretha\\npearline\\nmarjory\\nmarcela\\nflor\\nevette\\nelouise\\nalina\\ntrinidad\\ndavid\\ndamaris\\ncatharine\\ncarroll\\nbelva\\nnakia\\nmarlena\\nluanne\\nlorine\\nkaron\\ndorene\\ndanita\\nbrenna\\ntatiana\\nsammie\\nlouann\\nloren\\njulianna\\nandria\\nphilomena\\nlucila\\nleonora\\ndovie\\nromona\\nmimi\\njacquelin\\ngaye\\ntonja\\nmisti\\njoe\\ngene\\nchastity\\nstacia\\nroxann\\nmicaela\\nnikita\\nmei\\nvelda\\nmarlys\\njohnna\\naura\\nlavern\\nivonne\\nhayley\\nnicki\\nmajorie\\nherlinda\\ngeorge\\nalpha\\nyadira\\nperla\\ngregoria\\ndaniel\\nantonette\\nshelli\\nmozelle\\nmariah\\njoelle\\ncordelia\\njosette\\nchiquita\\ntrista\\nlouis\\nlaquita\\ngeorgiana\\ncandi\\nshanon\\nlonnie\\nhildegard\\ncecil\\nvalentina\\nstephany\\nmagda\\nkarol\\ngerry\\ngabriella\\ntiana\\nroma\\nrichelle\\nray\\nprincess\\noleta\\njacque\\nidella\\nalaina\\nsuzanna\\njovita\\nblair\\ntosha\\nraven\\nnereida\\nmarlyn\\nkyla\\njoseph\\ndelfina\\ntena\\nstephenie\\nsabina\\nnathalie\\nmarcelle\\ngertie\\ndarleen\\nthea\\nsharonda\\nshantel\\nbelen\\nvenessa\\nrosalina\\nona\\ngenoveva\\ncorey\\nclementine\\nrosalba\\nrenate\\nrenata\\nmi\\nivory\\ngeorgianna\\nfloy\\ndorcas\\nariana\\ntyra\\ntheda\\nmariam\\njuli\\njesica\\ndonnie\\nvikki\\nverla\\nroselyn\\nmelvina\\njannette\\nginny\\ndebrah\\ncorrie\\nasia\\nvioleta\\nmyrtis\\nlatricia\\ncollette\\ncharleen\\nanissa\\nviviana\\ntwyla\\nprecious\\nnedra\\nlatonia\\nlan\\nhellen\\nfabiola\\nannamarie\\nadell\\nsharyn\\nchantal\\nniki\\nmaud\\nlizette\\nlindy\\nkia\\nkesha\\njeana\\ndanelle\\ncharline\\nchanel\\ncarrol\\nvalorie\\nlia\\ndortha\\ncristal\\nsunny\\nleone\\nleilani\\ngerri\\ndebi\\nandra\\nkeshia\\nima\\neulalia\\neaster\\ndulce\\nnatividad\\nlinnie\\nkami\\ngeorgie\\ncatina\\nbrook\\nalda\\nwinnifred\\nsharla\\nruthann\\nmeaghan\\nmagdalene\\nlissette\\nadelaida\\nvenita\\ntrena\\nshirlene\\nshameka\\nelizebeth\\ndian\\nshanta\\nmickey\\nlatosha\\ncarlotta\\nwindy\\nsoon\\nrosina\\nmariann\\nleisa\\njonnie\\ndawna\\ncathie\\nbilly\\nastrid\\nsidney\\nlaureen\\njaneen\\nholli\\nfawn\\nvickey\\nteressa\\nshante\\nrubye\\nmarcelina\\nchanda\\ncary\\nterese\\nscarlett\\nmarty\\nmarnie\\nlulu\\nlisette\\njeniffer\\nelenor\\ndorinda\\ndonita\\ncarman\\nbernita\\naltagracia\\naleta\\nadrianna\\nzoraida\\nronnie\\nnicola\\nlyndsey\\nkendall\\njanina\\nchrissy\\nami\\nstarla\\nphylis\\nphuong\\nkyra\\ncharisse\\nblanch\\nsanjuanita\\nrona\\nnanci\\nmarilee\\nmaranda\\ncory\\nbrigette\\nsanjuana\\nmarita\\nkassandra\\njoycelyn\\nira\\nfelipa\\nchelsie\\nbonny\\nmireya\\nlorenza\\nkyong\\nileana\\ncandelaria\\ntony\\ntoby\\nsherie\\nok\\nmark\\nlucie\\nleatrice\\nlakeshia\\ngerda\\nedie\\nbambi\\nmarylin\\nlavon\\nhortense\\ngarnet\\nevie\\ntressa\\nshayna\\nlavina\\nkyung\\njeanetta\\nsherrill\\nshara\\nphyliss\\nmittie\\nanabel\\nalesia\\nthuy\\ntawanda\\nrichard\\njoanie\\ntiffanie\\nlashanda\\nkarissa\\nenriqueta\\ndaria\\ndaniella\\ncorinna\\nalanna\\nabbey\\nroxane\\nroseanna\\nmagnolia\\nlida\\nkyle\\njoellen\\nera\\ncoral\\ncarleen\\ntresa\\npeggie\\nnovella\\nnila\\nmaybelle\\njenelle\\ncarina\\nnova\\nmelina\\nmarquerite\\nmargarette\\njosephina\\nevonne\\ndevin\\ncinthia\\nalbina\\ntoya\\ntawnya\\nsherita\\nsantos\\nmyriam\\nlizabeth\\nlise\\nkeely\\njenni\\ngiselle\\ncheryle\\nardith\\nardis\\nalesha\\nadriane\\nshaina\\nlinnea\\nkarolyn\\nhong\\nflorida\\nfelisha\\ndori\\ndarci\\nartie\\narmida\\nzola\\nxiomara\\nvergie\\nshamika\\nnena\\nnannette\\nmaxie\\nlovie\\njeane\\njaimie\\ninge\\nfarrah\\nelaina\\ncaitlyn\\nstarr\\nfelicitas\\ncherly\\ncaryl\\nyolonda\\nyasmin\\nteena\\nprudence\\npennie\\nnydia\\nmackenzie\\norpha\\nmarvel\\nlizbeth\\nlaurette\\njerrie\\nhermelinda\\ncarolee\\ntierra\\nmirian\\nmeta\\nmelony\\nkori\\njennette\\njamila\\nena\\nanh\\nyoshiko\\nsusannah\\nsalina\\nrhiannon\\njoleen\\ncristine\\nashton\\naracely\\ntomeka\\nshalonda\\nmarti\\nlacie\\nkala\\njada\\nilse\\nhailey\\nbrittani\\nzona\\nsyble\\nsherryl\\nrandy\\nnidia\\nmarlo\\nkandice\\nkandi\\ndeb\\ndean\\namerica\\nalycia\\ntommy\\nronna\\nnorene\\nmercy\\njose\\ningeborg\\ngiovanna\\ngemma\\nchristel\\naudry\\nzora\\nvita\\nvan\\ntrish\\nstephaine\\nshirlee\\nshanika\\nmelonie\\nmazie\\njazmin\\ninga\\nhoa\\nhettie\\ngeralyn\\nfonda\\nestrella\\nadella\\nsu\\nsarita\\nrina\\nmilissa\\nmaribeth\\ngolda\\nevon\\nethelyn\\nenedina\\ncherise\\nchana\\nvelva\\ntawanna\\nsade\\nmirta\\nli\\nkarie\\njacinta\\nelna\\ndavina\\ncierra\\nashlie\\nalbertha\\ntanesha\\nstephani\\nnelle\\nmindi\\nlu\\nlorinda\\nlarue\\nflorene\\ndemetra\\ndedra\\nciara\\nchantelle\\nashly\\nsuzy\\nrosalva\\nnoelia\\nlyda\\nleatha\\nkrystyna\\nkristan\\nkarri\\ndarline\\ndarcie\\ncinda\\ncheyenne\\ncherrie\\nawilda\\nalmeda\\nrolanda\\nlanette\\njerilyn\\ngisele\\nevalyn\\ncyndi\\ncleta\\ncarin\\nzina\\nzena\\nvelia\\ntanika\\npaul\\ncharissa\\nthomas\\ntalia\\nmargarete\\nlavonda\\nkaylee\\nkathlene\\njonna\\nirena\\nilona\\nidalia\\ncandis\\ncandance\\nbrandee\\nanitra\\nalida\\nsigrid\\nnicolette\\nmaryjo\\nlinette\\nhedwig\\nchristiana\\ncassidy\\nalexia\\ntressie\\nmodesta\\nlupita\\nlita\\ngladis\\nevelia\\ndavida\\ncherri\\ncecily\\nashely\\nannabel\\nagustina\\nwanita\\nshirly\\nrosaura\\nhulda\\neun\\nbailey\\nyetta\\nverona\\nthomasina\\nsibyl\\nshannan\\nmechelle\\nlue\\nleandra\\nlani\\nkylee\\nkandy\\njolynn\\nferne\\neboni\\ncorene\\nalysia\\nzula\\nnada\\nmoira\\nlyndsay\\nlorretta\\njuan\\njammie\\nhortensia\\ngaynell\\ncameron\\nadria\\nvina\\nvicenta\\ntangela\\nstephine\\nnorine\\nnella\\nliana\\nleslee\\nkimberely\\niliana\\nglory\\nfelica\\nemogene\\nelfriede\\neden\\neartha\\ncarma\\nbea\\nocie\\nmarry\\nlennie\\nkiara\\njacalyn\\ncarlota\\narielle\\nyu\\nstar\\notilia\\nkirstin\\nkacey\\njohnetta\\njoey\\njoetta\\njeraldine\\njaunita\\nelana\\ndorthea\\ncami\\namada\\nadelia\\nvernita\\ntamar\\nsiobhan\\nrenea\\nrashida\\nouida\\nodell\\nnilsa\\nmeryl\\nkristyn\\njulieta\\ndanica\\nbreanne\\naurea\\nanglea\\nsherron\\nodette\\nmalia\\nlorelei\\nlin\\nleesa\\nkenna\\nkathlyn\\nfiona\\ncharlette\\nsuzie\\nshantell\\nsabra\\nracquel\\nmyong\\nmira\\nmartine\\nlucienne\\nlavada\\njuliann\\njohnie\\nelvera\\ndelphia\\nclair\\nchristiane\\ncharolette\\ncarri\\naugustine\\nasha\\nangella\\npaola\\nninfa\\nleda\\nlai\\neda\\nsunshine\\nstefani\\nshanell\\npalma\\nmachelle\\nlissa\\nkecia\\nkathryne\\nkarlene\\njulissa\\njettie\\njenniffer\\nhui\\ncorrina\\nchristopher\\ncarolann\\nalena\\ntess\\nrosaria\\nmyrtice\\nmarylee\\nliane\\nkenyatta\\njudie\\njaney\\nin\\nelmira\\neldora\\ndenna\\ncristi\\ncathi\\nzaida\\nvonnie\\nviva\\nvernie\\nrosaline\\nmariela\\nluciana\\nlesli\\nkaran\\nfelice\\ndeneen\\nadina\\nwynona\\ntarsha\\nsheron\\nshasta\\nshanita\\nshani\\nshandra\\nranda\\npinkie\\nparis\\nnelida\\nmarilou\\nlyla\\nlaurene\\nlaci\\njoi\\njanene\\ndorotha\\ndaniele\\ndani\\ncarolynn\\ncarlyn\\nberenice\\nayesha\\nanneliese\\nalethea\\nthersa\\ntamiko\\nrufina\\noliva\\nmozell\\nmarylyn\\nmadison\\nkristian\\nkathyrn\\nkasandra\\nkandace\\njanae\\ngabriel\\ndomenica\\ndebbra\\ndannielle\\nchun\\nbuffy\\nbarbie\\narcelia\\naja\\nzenobia\\nsharen\\nsharee\\npatrick\\npage\\nmy\\nlavinia\\nkum\\nkacie\\njackeline\\nhuong\\nfelisa\\nemelia\\neleanora\\ncythia\\ncristin\\nclyde\\nclaribel\\ncaron\\nanastacia\\nzulma\\nzandra\\nyoko\\ntenisha\\nsusann\\nsherilyn\\nshay\\nshawanda\\nsabine\\nromana\\nmathilda\\nlinsey\\nkeiko\\njoana\\nisela\\ngretta\\ngeorgetta\\neugenie\\ndusty\\ndesirae\\ndelora\\ncorazon\\nantonina\\nanika\\nwillene\\ntracee\\ntamatha\\nregan\\nnichelle\\nmickie\\nmaegan\\nluana\\nlanita\\nkelsie\\nedelmira\\nbree\\nafton\\nteodora\\ntamie\\nshena\\nmeg\\nlinh\\nkeli\\nkaci\\ndanyelle\\nbritt\\narlette\\nalbertine\\nadelle\\ntiffiny\\nstormy\\nsimona\\nnumbers\\nnicolasa\\nnichol\\nnia\\nnakisha\\nmee\\nmaira\\nloreen\\nkizzy\\njohnny\\njay\\nfallon\\nchristene\\nbobbye\\nanthony\\nying\\nvincenza\\ntanja\\nrubie\\nroni\\nqueenie\\nmargarett\\nkimberli\\nirmgard\\nidell\\nhilma\\nevelina\\nesta\\nemilee\\ndennise\\ndania\\ncarl\\ncarie\\nantonio\\nwai\\nsang\\nrisa\\nrikki\\nparticia\\nmui\\nmasako\\nmario\\nluvenia\\nloree\\nloni\\nlien\\nkevin\\ngigi\\nflorencia\\ndorian\\ndenita\\ndallas\\nchi\\nbillye\\nalexander\\ntomika\\nsharita\\nrana\\nnikole\\nneoma\\nmargarite\\nmadalyn\\nlucina\\nlaila\\nkali\\njenette\\ngabriele\\nevelyne\\nelenora\\nclementina\\nalejandrina\\nzulema\\nviolette\\nvannessa\\nthresa\\nretta\\npia\\npatience\\nnoella\\nnickie\\njonell\\ndelta\\nchung\\nchaya\\ncamelia\\nbethel\\nanya\\nandrew\\nthanh\\nsuzann\\nspring\\nshu\\nmila\\nlilla\\nlaverna\\nkeesha\\nkattie\\ngia\\ngeorgene\\neveline\\nestell\\nelizbeth\\nvivienne\\nvallie\\ntrudie\\nstephane\\nmichel\\nmagaly\\nmadie\\nkenyetta\\nkarren\\njanetta\\nhermine\\nharmony\\ndrucilla\\ndebbi\\ncelestina\\ncandie\\nbritni\\nbeckie\\namina\\nzita\\nyun\\nyolande\\nvivien\\nvernetta\\ntrudi\\nsommer\\npearle\\npatrina\\nossie\\nnicolle\\nloyce\\nletty\\nlarisa\\nkatharina\\njoselyn\\njonelle\\njenell\\niesha\\nheide\\nflorinda\\nflorentina\\nflo\\nelodia\\ndorine\\nbrunilda\\nbrigid\\nashli\\nardella\\ntwana\\nthu\\ntarah\\nsung\\nshea\\nshavon\\nshane\\nserina\\nrayna\\nramonita\\nnga\\nmargurite\\nlucrecia\\nkourtney\\nkati\\njesus\\njesenia\\ndiamond\\ncrista\\nayana\\nalica\\nalia\\nvinnie\\nsuellen\\nromelia\\nrachell\\npiper\\nolympia\\nmichiko\\nkathaleen\\njolie\\njessi\\njanessa\\nhana\\nha\\nelease\\ncarletta\\nbritany\\nshona\\nsalome\\nrosamond\\nregena\\nraina\\nngoc\\nnelia\\nlouvenia\\nlesia\\nlatrina\\nlaticia\\nlarhonda\\njina\\njacki\\nhollis\\nholley\\nemmy\\ndeeann\\ncoretta\\narnetta\\nvelvet\\nthalia\\nshanice\\nneta\\nmikki\\nmicki\\nlonna\\nleana\\nlashunda\\nkiley\\njoye\\njacqulyn\\nignacia\\nhyun\\nhiroko\\nhenry\\nhenriette\\nelayne\\ndelinda\\ndarnell\\ndahlia\\ncoreen\\nconsuela\\nconchita\\nceline\\nbabette\\nayanna\\nanette\\nalbertina\\nskye\\nshawnee\\nshaneka\\nquiana\\npamelia\\nmin\\nmerri\\nmerlene\\nmargit\\nkiesha\\nkiera\\nkaylene\\njodee\\njenise\\nerlene\\nemmie\\nelse\\ndaryl\\ndalila\\ndaisey\\ncody\\ncasie\\nbelia\\nbabara\\nversie\\nvanesa\\nshelba\\nshawnda\\nsam\\nnorman\\nnikia\\nnaoma\\nmarna\\nmargeret\\nmadaline\\nlawana\\nkindra\\njutta\\njazmine\\njanett\\nhannelore\\nglendora\\ngertrud\\ngarnett\\nfreeda\\nfrederica\\nflorance\\nflavia\\ndennis\\ncarline\\nbeverlee\\nanjanette\\nvalda\\ntrinity\\ntamala\\nstevie\\nshonna\\nsha\\nsarina\\noneida\\nmicah\\nmerilyn\\nmarleen\\nlurline\\nlenna\\nkatherin\\njin\\njeni\\nhae\\ngracia\\nglady\\nfarah\\neric\\nenola\\nema\\ndominque\\ndevona\\ndelana\\ncecila\\ncaprice\\nalysha\\nali\\nalethia\\nvena\\ntheresia\\ntawny\\nsong\\nshakira\\nsamara\\nsachiko\\nrachele\\npamella\\nnicky\\nmarni\\nmariel\\nmaren\\nmalisa\\nligia\\nlera\\nlatoria\\nlarae\\nkimber\\nkathern\\nkarey\\njennefer\\njaneth\\nhalina\\nfredia\\ndelisa\\ndebroah\\nciera\\nchin\\nangelika\\nandree\\naltha\\nyen\\nvivan\\nterresa\\ntanna\\nsuk\\nsudie\\nsoo\\nsigne\\nsalena\\nronni\\nrebbecca\\nmyrtie\\nmckenzie\\nmalika\\nmaida\\nloan\\nleonarda\\nkayleigh\\nfrance\\nethyl\\nellyn\\ndayle\\ncammie\\nbrittni\\nbirgit\\navelina\\nasuncion\\narianna\\nakiko\\nvenice\\ntyesha\\ntonie\\ntiesha\\ntakisha\\nsteffanie\\nsindy\\nsantana\\nmeghann\\nmanda\\nmacie\\nlady\\nkellye\\nkellee\\njoslyn\\njason\\ninger\\nindira\\nglinda\\nglennis\\nfernanda\\nfaustina\\neneida\\nelicia\\ndot\\ndigna\\ndell\\narletta\\nandre\\nwillia\\ntammara\\ntabetha\\nsherrell\\nsari\\nrefugio\\nrebbeca\\npauletta\\nnieves\\nnatosha\\nnakita\\nmammie\\nkenisha\\nkazuko\\nkassie\\ngary\\nearlean\\ndaphine\\ncorliss\\nclotilde\\ncarolyne\\nbernetta\\naugustina\\naudrea\\nannis\\nannabell\\nyan\\ntennille\\ntamica\\nselene\\nsean\\nrosana\\nregenia\\nqiana\\nmarkita\\nmacy\\nleeanne\\nlaurine\\nkym\\njessenia\\njanita\\ngeorgine\\ngenie\\nemiko\\nelvie\\ndeandra\\ndagmar\\ncorie\\ncollen\\ncherish\\nromaine\\nporsha\\npearlene\\nmicheline\\nmerna\\nmargorie\\nmargaretta\\nlore\\nkenneth\\njenine\\nhermina\\nfredericka\\nelke\\ndrusilla\\ndorathy\\ndione\\ndesire\\ncelena\\nbrigida\\nangeles\\nallegra\\ntheo\\ntamekia\\nsynthia\\nstephen\\nsook\\nslyvia\\nrosann\\nreatha\\nraye\\nmarquetta\\nmargart\\nling\\nlayla\\nkymberly\\nkiana\\nkayleen\\nkatlyn\\nkarmen\\njoella\\nirina\\nemelda\\neleni\\ndetra\\nclemmie\\ncheryll\\nchantell\\ncathey\\narnita\\narla\\nangle\\nangelic\\nalyse\\nzofia\\nthomasine\\ntennie\\nson\\nsherly\\nsherley\\nsharyl\\nremedios\\npetrina\\nnickole\\nmyung\\nmyrle\\nmozella\\nlouanne\\nlisha\\nlatia\\nlane\\nkrysta\\njulienne\\njoel\\njeanene\\njacqualine\\nisaura\\ngwenda\\nearleen\\ndonald\\ncleopatra\\ncarlie\\naudie\\nantonietta\\nalise\\nalex\\nverdell\\nval\\ntyler\\ntomoko\\nthao\\ntalisha\\nsteven\\nso\\nshemika\\nshaun\\nscarlet\\nsavanna\\nsantina\\nrosia\\nraeann\\nodilia\\nnana\\nminna\\nmagan\\nlynelle\\nle\\nkarma\\njoeann\\nivana\\ninell\\nilana\\nhye\\nhoney\\nhee\\ngudrun\\nfrank\\ndreama\\ncrissy\\nchante\\ncarmelina\\narvilla\\narthur\\nannamae\\nalvera\\naleida\\naaron\\nyee\\nyanira\\nvanda\\ntianna\\ntam\\nstefania\\nshira\\nperry\\nnicol\\nnancie\\nmonserrate\\nminh\\nmelynda\\nmelany\\nmatthew\\nlovella\\nlaure\\nkirby\\nkacy\\njacquelynn\\nhyon\\ngertha\\nfrancisco\\neliana\\nchristena\\nchristeen\\ncharise\\ncaterina\\ncarley\\ncandyce\\narlena\\nammie\\nyang\\nwillette\\nvanita\\ntuyet\\ntiny\\nsyreeta\\nsilva\\nscott\\nronald\\npenney\\nnyla\\nmichal\\nmaurice\\nmaryam\\nmarya\\nmagen\\nludie\\nloma\\nlivia\\nlanell\\nkimberlie\\njulee\\ndonetta\\ndiedra\\ndenisha\\ndeane\\ndawne\\nclarine\\ncherryl\\nbronwyn\\nbrandon\\nalla\\nvalery\\ntonda\\nsueann\\nsoraya\\nshoshana\\nshela\\nsharleen\\nshanelle\\nnerissa\\nmicheal\\nmeridith\\nmellie\\nmaye\\nmaple\\nmagaret\\nluis\\nlili\\nleonila\\nleonie\\nleeanna\\nlavonia\\nlavera\\nkristel\\nkathey\\nkathe\\njustin\\njulian\\njimmy\\njann\\nilda\\nhildred\\nhildegarde\\ngenia\\nfumiko\\nevelin\\nermelinda\\nelly\\ndung\\ndoloris\\ndionna\\ndanae\\nberneice\\nannice\\nalix\\nverena\\nverdie\\ntristan\\nshawnna\\nshawana\\nshaunna\\nrozella\\nrandee\\nranae\\nmilagro\\nlynell\\nluise\\nlouie\\nloida\\nlisbeth\\nkarleen\\njunita\\njona\\nisis\\nhyacinth\\nhedy\\ngwenn\\nethelene\\nerline\\nedward\\ndonya\\ndomonique\\ndelicia\\ndannette\\ncicely\\nbranda\\nblythe\\nbethann\\nashlyn\\nannalee\\nalline\\nyuko\\nvella\\ntrang\\ntowanda\\ntesha\\nsherlyn\\nnarcisa\\nmiguelina\\nmeri\\nmaybell\\nmarlana\\nmarguerita\\nmadlyn\\nluna\\nlory\\nloriann\\nliberty\\nleonore\\nleighann\\nlaurice\\nlatesha\\nlaronda\\nkatrice\\nkasie\\nkarl\\nkaley\\njadwiga\\nglennie\\ngearldine\\nfrancina\\nepifania\\ndyan\\ndorie\\ndiedre\\ndenese\\ndemetrice\\ndelena\\ndarby\\ncristie\\ncleora\\ncatarina\\ncarisa\\nbernie\\nbarbera\\nalmeta\\ntrula\\ntereasa\\nsolange\\nsheilah\\nshavonne\\nsanora\\nrochell\\nmathilde\\nmargareta\\nmaia\\nlynsey\\nlawanna\\nlauna\\nkena\\nkeena\\nkatia\\njamey\\nglynda\\ngaylene\\nelvina\\nelanor\\ndanuta\\ndanika\\ncristen\\ncordie\\ncoletta\\nclarita\\ncarmon\\nbrynn\\nazucena\\naundrea\\nangele\\nyi\\nwalter\\nverlie\\nverlene\\ntamesha\\nsilvana\\nsebrina\\nsamira\\nreda\\nraylene\\npenni\\npandora\\nnorah\\nnoma\\nmireille\\nmelissia\\nmaryalice\\nlaraine\\nkimbery\\nkaryl\\nkarine\\nkam\\njolanda\\njohana\\njesusa\\njaleesa\\njae\\njacquelyne\\nirish\\niluminada\\nhilaria\\nhanh\\ngennie\\nfrancie\\nfloretta\\nexie\\nedda\\ndrema\\ndelpha\\nbev\\nbarbar\\nassunta\\nardell\\nannalisa\\nalisia\\nyukiko\\nyolando\\nwonda\\nwei\\nwaltraud\\nveta\\ntequila\\ntemeka\\ntameika\\nshirleen\\nshenita\\npiedad\\nozella\\nmirtha\\nmarilu\\nkimiko\\njuliane\\njenice\\njen\\njanay\\njacquiline\\nhilde\\nfe\\nfae\\nevan\\neugene\\nelois\\necho\\ndevorah\\nchau\\nbrinda\\nbetsey\\narminda\\naracelis\\napryl\\nannett\\nalishia\\nveola\\nusha\\ntoshiko\\ntheola\\ntashia\\ntalitha\\nshery\\nrudy\\nrenetta\\nreiko\\nrasheeda\\nomega\\nobdulia\\nmika\\nmelaine\\nmeggan\\nmartin\\nmarlen\\nmarget\\nmarceline\\nmana\\nmagdalen\\nlibrada\\nlezlie\\nlexie\\nlatashia\\nlasandra\\nkelle\\nisidra\\nisa\\ninocencia\\ngwyn\\nfrancoise\\nerminia\\nerinn\\ndimple\\ndevora\\ncriselda\\narmanda\\narie\\nariane\\nangelo\\nangelena\\nallen\\naliza\\nadriene\\nadaline\\nxochitl\\ntwanna\\ntran\\ntomiko\\ntamisha\\ntaisha\\nsusy\\nsiu\\nrutha\\nroxy\\nrhona\\nraymond\\notha\\nnoriko\\nnatashia\\nmerrie\\nmelvin\\nmarinda\\nmariko\\nmargert\\nloris\\nlizzette\\nleisha\\nkaila\\nka\\njoannie\\njerrica\\njene\\njannet\\njanee\\njacinda\\nherta\\nelenore\\ndoretta\\ndelaine\\ndaniell\\nclaudie\\nchina\\nbritta\\napolonia\\namberly\\nalease\\nyuri\\nyuk\\nwen\\nwaneta\\nute\\ntomi\\nsharri\\nsandie\\nroselle\\nreynalda\\nraguel\\nphylicia\\npatria\\nolimpia\\nodelia\\nmitzie\\nmitchell\\nmiss\\nminda\\nmignon\\nmica\\nmendy\\nmarivel\\nmaile\\nlynetta\\nlavette\\nlauryn\\nlatrisha\\nlakiesha\\nkiersten\\nkary\\njosphine\\njolyn\\njetta\\njanise\\njacquie\\nivelisse\\nglynis\\ngianna\\ngaynelle\\nemerald\\ndemetrius\\ndanyell\\ndanille\\ndacia\\ncoralee\\ncher\\nceola\\nbrett\\nbell\\narianne\\naleshia\\nyung\\nwilliemae\\ntroy\\ntrinh\\nthora\\ntai\\nsvetlana\\nsherika\\nshemeka\\nshaunda\\nroseline\\nricki\\nmelda\\nmallie\\nlavonna\\nlatina\\nlarry\\nlaquanda\\nlala\\nlachelle\\nklara\\nkandis\\njohna\\njeanmarie\\njaye\\nhang\\ngrayce\\ngertude\\nemerita\\nebonie\\nclorinda\\nching\\nchery\\ncarola\\nbreann\\nblossom\\nbernardine\\nbecki\\narletha\\nargelia\\nara\\nalita\\nyulanda\\nyon\\nyessenia\\ntobi\\ntasia\\nsylvie\\nshirl\\nshirely\\nsheridan\\nshella\\nshantelle\\nsacha\\nroyce\\nrebecka\\nreagan\\nprovidencia\\npaulene\\nmisha\\nmiki\\nmarline\\nmarica\\nlorita\\nlatoyia\\nlasonya\\nkerstin\\nkenda\\nkeitha\\nkathrin\\njaymie\\njack\\ngricelda\\nginette\\neryn\\nelina\\nelfrieda\\ndanyel\\ncheree\\nchanelle\\nbarrie\\navery\\naurore\\nannamaria\\nalleen\\nailene\\naide\\nyasmine\\nvashti\\nvalentine\\ntreasa\\ntory\\ntiffaney\\nsheryll\\nsharie\\nshanae\\nsau\\nraisa\\npa\\nneda\\nmitsuko\\nmirella\\nmilda\\nmaryanna\\nmaragret\\nmabelle\\nluetta\\nlorina\\nletisha\\nlatarsha\\nlanelle\\nlajuana\\nkrissy\\nkarly\\nkarena\\njon\\njessika\\njerica\\njeanelle\\njanuary\\njalisa\\njacelyn\\nizola\\nivey\\ngregory\\neuna\\netha\\ndrew\\ndomitila\\ndominica\\ndaina\\ncreola\\ncarli\\ncamie\\nbunny\\nbrittny\\nashanti\\nanisha\\naleen\\nadah\\nyasuko\\nwinter\\nviki\\nvalrie\\ntona\\ntinisha\\nthi\\nterisa\\ntatum\\ntaneka\\nsimonne\\nshalanda\\nserita\\nressie\\nrefugia\\npaz\\nolene\\nna\\nmerrill\\nmargherita\\nmandie\\nman\\nmaire\\nlyndia\\nluci\\nlorriane\\nloreta\\nleonia\\nlavona\\nlashawnda\\nlakia\\nkyoko\\nkrystina\\nkrysten\\nkenia\\nkelsi\\njude\\njeanice\\nisobel\\ngeorgiann\\ngenny\\nfelicidad\\neilene\\ndeon\\ndeloise\\ndeedee\\ndannie\\nconception\\nclora\\ncherilyn\\nchang\\ncalandra\\nberry\\narmandina\\nanisa\\nula\\ntimothy\\ntiera\\ntheressa\\nstephania\\nsima\\nshyla\\nshonta\\nshera\\nshaquita\\nshala\\nsammy\\nrossana\\nnohemi\\nnery\\nmoriah\\nmelita\\nmelida\\nmelani\\nmarylynn\\nmarisha\\nmariette\\nmalorie\\nmadelene\\nludivina\\nloria\\nlorette\\nloralee\\nlianne\\nleon\\nlavenia\\nlaurinda\\nlashon\\nkit\\nkimi\\nkeila\\nkatelynn\\nkai\\njone\\njoane\\nji\\njayna\\njanella\\nja\\nhue\\nhertha\\nfrancene\\nelinore\\ndespina\\ndelsie\\ndeedra\\nclemencia\\ncarry\\ncarolin\\ncarlos\\nbulah\\nbrittanie\\nbok\\nblondell\\nbibi\\nbeaulah\\nbeata\\nannita\\nagripina\\nvirgen\\nvalene\\nun\\ntwanda\\ntommye\\ntoi\\ntarra\\ntari\\ntammera\\nshakia\\nsadye\\nruthanne\\nrochel\\nrivka\\npura\\nnenita\\nnatisha\\nming\\nmerrilee\\nmelodee\\nmarvis\\nlucilla\\nleena\\nlaveta\\nlarita\\nlanie\\nkeren\\nileen\\ngeorgeann\\ngenna\\ngenesis\\nfrida\\newa\\neufemia\\nemely\\nela\\nedyth\\ndeonna\\ndeadra\\ndarlena\\nchanell\\nchan\\ncathern\\ncassondra\\ncassaundra\\nbernarda\\nberna\\narlinda\\nanamaria\\nalbert\\nwesley\\nvertie\\nvaleri\\ntorri\\ntatyana\\nstasia\\nsherise\\nsherill\\nseason\\nscottie\\nsanda\\nruthe\\nrosy\\nroberto\\nrobbi\\nranee\\nquyen\\npearly\\npalmira\\nonita\\nnisha\\nniesha\\nnida\\nnevada\\nnam\\nmerlyn\\nmayola\\nmarylouise\\nmaryland\\nmarx\\nmarth\\nmargene\\nmadelaine\\nlonda\\nleontine\\nleoma\\nleia\\nlawrence\\nlauralee\\nlanora\\nlakita\\nkiyoko\\nketurah\\nkatelin\\nkareen\\njonie\\njohnette\\njenee\\njeanett\\nizetta\\nhiedi\\nheike\\nhassie\\nharold\\ngiuseppina\\ngeorgann\\nfidela\\nfernande\\nelwanda\\nellamae\\neliz\\ndusti\\ndotty\\ncyndy\\ncoralie\\ncelesta\\nargentina\\nalverta\\nxenia\\nwava\\nvanetta\\ntorrie\\ntashina\\ntandy\\ntambra\\ntama\\nstepanie\\nshila\\nshaunta\\nsharan\\nshaniqua\\nshae\\nsetsuko\\nserafina\\nsandee\\nrosamaria\\npriscila\\nolinda\\nnadene\\nmuoi\\nmichelina\\nmercedez\\nmaryrose\\nmarin\\nmarcene\\nmao\\nmagali\\nmafalda\\nlogan\\nlinn\\nlannie\\nkayce\\nkaroline\\nkamilah\\nkamala\\njusta\\njoline\\njennine\\njacquetta\\niraida\\ngerald\\ngeorgeanna\\nfranchesca\\nfairy\\nemeline\\nelane\\nehtel\\nearlie\\ndulcie\\ndalene\\ncris\\nclassie\\nchere\\ncharis\\ncaroyln\\ncarmina\\ncarita\\nbrian\\nbethanie\\nayako\\narica\\nan\\nalysa\\nalessandra\\nakilah\\nadrien\\nzetta\\nyoulanda\\nyelena\\nyahaira\\nxuan\\nwendolyn\\nvictor\\ntijuana\\nterrell\\nterina\\nteresia\\nsuzi\\nsunday\\nsherell\\nshavonda\\nshaunte\\nsharda\\nshakita\\nsena\\nryann\\nrubi\\nriva\\nreginia\\nrea\\nrachal\\nparthenia\\npamula\\nmonnie\\nmonet\\nmichaele\\nmelia\\nmarine\\nmalka\\nmaisha\\nlisandra\\nleo\\nlekisha\\nlean\\nlaurence\\nlakendra\\nkrystin\\nkortney\\nkizzie\\nkittie\\nkera\\nkendal\\nkemberly\\nkanisha\\njulene\\njule\\njoshua\\njohanne\\njeffrey\\njamee\\nhan\\nhalley\\ngidget\\ngalina\\nfredricka\\nfleta\\nfatimah\\neusebia\\nelza\\neleonore\\ndorthey\\ndoria\\ndonella\\ndinorah\\ndelorse\\nclaretha\\nchristinia\\ncharlyn\\nbong\\nbelkis\\nazzie\\nandera\\naiko\\nadena\\nyer\\nyajaira\\nwan\\nvania\\nulrike\\ntoshia\\ntifany\\nstefany\\nshizue\\nshenika\\nshawanna\\nsharolyn\\nsharilyn\\nshaquana\\nshantay\\nsee\\nrozanne\\nroselee\\nrickie\\nremona\\nreanna\\nraelene\\nquinn\\nphung\\npetronila\\nnatacha\\nnancey\\nmyrl\\nmiyoko\\nmiesha\\nmerideth\\nmarvella\\nmarquitta\\nmarhta\\nmarchelle\\nlizeth\\nlibbie\\nlahoma\\nladawn\\nkina\\nkatheleen\\nkatharyn\\nkarisa\\nkaleigh\\njunie\\njulieann\\njohnsie\\njanean\\njaimee\\njackqueline\\nhisako\\nherma\\nhelaine\\ngwyneth\\nglenn\\ngita\\neustolia\\nemelina\\nelin\\nedris\\ndonnette\\ndonnetta\\ndierdre\\ndenae\\ndarcel\\nclaude\\nclarisa\\ncinderella\\nchia\\ncharlesetta\\ncharita\\ncelsa\\ncassy\\ncassi\\ncarlee\\nbruna\\nbrittaney\\nbrande\\nbilli\\nbao\\nantonetta\\nangla\\nangelyn\\nanalisa\\nalane\\nwenona\\nwendie\\nveronique\\nvannesa\\ntobie\\ntempie\\nsumiko\\nsulema\\nsparkle\\nsomer\\nsheba\\nshayne\\nsharice\\nshanel\\nshalon\\nsage\\nroy\\nrosio\\nroselia\\nrenay\\nrema\\nreena\\nporsche\\nping\\npeg\\nozie\\noretha\\noralee\\noda\\nnu\\nngan\\nnakesha\\nmilly\\nmarybelle\\nmarlin\\nmaris\\nmargrett\\nmaragaret\\nmanie\\nlurlene\\nlillia\\nlieselotte\\nlavelle\\nlashaunda\\nlakeesha\\nkeith\\nkaycee\\nkalyn\\njoya\\njoette\\njenae\\njaniece\\nilla\\ngrisel\\nglayds\\ngenevie\\ngala\\nfredda\\nfred\\nelmer\\neleonor\\ndebera\\ndeandrea\\ndan\\ncorrinne\\ncordia\\ncontessa\\ncolene\\ncleotilde\\ncharlott\\nchantay\\ncecille\\nbeatris\\nazalee\\narlean\\nardath\\nanjelica\\nanja\\nalfredia\\naleisha\\nadam\\nzada\\nyuonne\\nxiao\\nwillodean\\nwhitley\\nvennie\\nvanna\\ntyisha\\ntova\\ntorie\\ntonisha\\ntilda\\ntien\\ntemple\\nsirena\\nsherril\\nshanti\\nshan\\nsenaida\\nsamella\\nrobbyn\\nrenda\\nreita\\nphebe\\npaulita\\nnobuko\\nnguyet\\nneomi\\nmoon\\nmikaela\\nmelania\\nmaximina\\nmarg\\nmaisie\\nlynna\\nlilli\\nlayne\\nlashaun\\nlakenya\\nlael\\nkirstie\\nkathline\\nkasha\\nkarlyn\\nkarima\\njovan\\njosefine\\njennell\\njacqui\\njackelyn\\nhyo\\nhien\\ngrazyna\\nflorrie\\nfloria\\neleonora\\ndwana\\ndorla\\ndong\\ndelmy\\ndeja\\ndede\\ndann\\ncrysta\\nclelia\\nclaris\\nclarence\\nchieko\\ncherlyn\\ncherelle\\ncharmain\\nchara\\ncammy\\nbee\\narnette\\nardelle\\nannika\\namiee\\namee\\nallena\\nyvone\\nyuki\\nyoshie\\nyevette\\nyael\\nwilletta\\nvoncile\\nvenetta\\ntula\\ntonette\\ntimika\\ntemika\\ntelma\\nteisha\\ntaren\\nta\\nstacee\\nshin\\nshawnta\\nsaturnina\\nricarda\\npok\\npasty\\nonie\\nnubia\\nmora\\nmike\\nmarielle\\nmariella\\nmarianela\\nmardell\\nmany\\nluanna\\nloise\\nlisabeth\\nlindsy\\nlilliana\\nlilliam\\nlelah\\nleigha\\nleanora\\nlang\\nkristeen\\nkhalilah\\nkeeley\\nkandra\\njunko\\njoaquina\\njerlene\\njani\\njamika\\njame\\nhsiu\\nhermila\\ngolden\\ngenevive\\nevia\\neugena\\nemmaline\\nelfreda\\nelene\\ndonette\\ndelcie\\ndeeanna\\ndarcey\\ncuc\\nclarinda\\ncira\\nchae\\ncelinda\\ncatheryn\\ncatherin\\ncasimira\\ncarmelia\\ncamellia\\nbreana\\nbobette\\nbernardina\\nbebe\\nbasilia\\narlyne\\namal\\nalayna\\nzonia\\nzenia\\nyuriko\\nyaeko\\nwynell\\nwillow\\nwillena\\nvernia\\ntu\\ntravis\\ntora\\nterrilyn\\nterica\\ntenesha\\ntawna\\ntajuana\\ntaina\\nstephnie\\nsona\\nsol\\nsina\\nshondra\\nshizuko\\nsherlene\\nsherice\\nsharika\\nrossie\\nrosena\\nrory\\nrima\\nria\\nrheba\\nrenna\\npeter\\nnatalya\\nnancee\\nmelodi\\nmeda\\nmaxima\\nmatha\\nmarketta\\nmaricruz\\nmarcelene\\nmalvina\\nluba\\nlouetta\\nleida\\nlecia\\nlauran\\nlashawna\\nlaine\\nkhadijah\\nkaterine\\nkasi\\nkallie\\njulietta\\njesusita\\njestine\\njessia\\njeremy\\njeffie\\njanyce\\nisadora\\ngeorgianne\\nfidelia\\nevita\\neura\\neulah\\nestefana\\nelsy\\nelizabet\\neladia\\ndodie\\ndion\\ndia\\ndenisse\\ndeloras\\ndelila\\ndaysi\\ndakota\\ncurtis\\ncrystle\\nconcha\\ncolby\\nclaretta\\nchu\\nchristia\\ncharlsie\\ncharlena\\ncarylon\\nbettyann\\nasley\\nashlea\\namira\\nai\\nagueda\\nagnus\\nyuette\\nvinita\\nvictorina\\ntynisha\\ntreena\\ntoccara\\ntish\\nthomasena\\ntegan\\nsoila\\nshiloh\\nshenna\\nsharmaine\\nshantae\\nshandi\\nseptember\\nsaran\\nsarai\\nsana\\nsamuel\\nsalley\\nrosette\\nrolande\\nregine\\notelia\\noscar\\nolevia\\nnicholle\\nnecole\\nnaida\\nmyrta\\nmyesha\\nmitsue\\nminta\\nmertie\\nmargy\\nmahalia\\nmadalene\\nlove\\nloura\\nlorean\\nlewis\\nlesha\\nleonida\\nlenita\\nlavone\\nlashell\\nlashandra\\nlamonica\\nkimbra\\nkatherina\\nkarry\\nkanesha\\njulio\\njong\\njeneva\\njaquelyn\\nhwa\\ngilma\\nghislaine\\ngertrudis\\nfransisca\\nfermina\\nettie\\netsuko\\nellis\\nellan\\nelidia\\nedra\\ndorethea\\ndoreatha\\ndenyse\\ndenny\\ndeetta\\ndaine\\ncyrstal\\ncorrin\\ncayla\\ncarlita\\ncamila\\nburma\\nbula\\nbuena\\nblake\\nbarabara\\navril\\naustin\\nalaine\\nzana\\nwilhemina\\nwanetta\\nvirgil\\nvi\\nveronika\\nvernon\\nverline\\nvasiliki\\ntonita\\ntisa\\nteofila\\ntayna\\ntaunya\\ntandra\\ntakako\\nsunni\\nsuanne\\nsixta\\nsharell\\nseema\\nrussell\\nrosenda\\nrobena\\nraymonde\\npei\\npamila\\nozell\\nneida\\nneely\\nmistie\\nmicha\\nmerissa\\nmaurita\\nmaryln\\nmaryetta\\nmarshall\\nmarcell\\nmalena\\nmakeda\\nmaddie\\nlovetta\\nlourie\\nlorrine\\nlorilee\\nlester\\nlaurena\\nlashay\\nlarraine\\nlaree\\nlacresha\\nkristle\\nkrishna\\nkeva\\nkeira\\nkarole\\njoie\\njinny\\njeannetta\\njama\\nheidy\\ngilberte\\ngema\\nfaviola\\nevelynn\\nenda\\nelli\\nellena\\ndivina\\ndagny\\ncollene\\ncodi\\ncindie\\nchassidy\\nchasidy\\ncatrice\\ncatherina\\ncassey\\ncaroll\\ncarlena\\ncandra\\ncalista\\nbryanna\\nbritteny\\nbeula\\nbari\\naudrie\\naudria\\nardelia\\nannelle\\nangila\\nalona\\nallyn\\nli \\nwang\\nzhang\\nliu\\nchen\\nyang\\nhuang\\nzhao\\nzhou\\nwu\\nxu\\nsun\\nzhu\\nma\\nhu\\nguo\\nlin\\nhe\\ngao\\nliang\\nernst\\nyoung\\ndeloitte\\ntouche\\nkpmg\\npricewaterhousecoopers\\npricewaterhouse\\ncoopers\\nunited  | geographic\\nstate\\nnorth\\nsouth\\neast\\nnortheast\\nnorthwest\\nsoutheast\\nsouthwest\\nwest\\nocean\\nsea\\nlake\\nriver\\ncreek\\ngulf\\nmountain\\nstreet\\nboulevard\\nblvd\\nparkway\\ncity\\ncounty\\ncountry\\npacific\\natlantic\\nindian\\nmediterranean\\ncommonwealth\\namerica\\namerican\\nyork  | cities\\nchicago\\nlas\\nvegas\\nlos\\nangeles\\nmilwaukee\\nsunnyvale\\nfremont\\ncincinnati\\nphiladelphia\\nmiami\\ndallas\\nfort\\nboston\\nhouston\\nwashington\\natlanta\\ndetroit\\nsan\\nfransico\\nphoenix\\nseattle\\ndiego\\nminneapolis\\nmemphis\\ndenver\\nst\\nlouis\\npittsburgh\\nmanhattan\\nhollywood\\ncolumbus\\nindianapolis\\nmumbai\\nkarachi\\nontario\\ntoronto\\ncambridge\\ndelhi\\nsao\\npaulo\\nshanghai\\nmoscow\\nseoul\\nistanbul\\ntokyo\\njakarta\\nbeijing\\nlondon\\nluxembourg\\nsingapore\\nrepublic  | countries\\nchina\\nindia\\nindonesia\\nbrazil\\nbrazilian\\npakistan\\nbangladesh\\nrussia\\nnigeria\\nnova\\nscotia\\njapan\\nmalaysia\\nmexico\\nmexican\\nphilippines\\nvietnam\\ngermany\\nfrance\\nkorea\\nspain\\nargentina\\nbermuda\\ncolumbia\\npuerto\\ncanada\\ncanadian\\nafrica\\nafrican\\nchile\\nchilean\\neurope\\neuropean\\nusa\\nitaly\\nitalian\\naustralia\\nnetherlands\\nnorway\\nportugal\\ntaiwan\\nargentina\\nswitzerland\\nswiss\\nsuisse\\ndenmark\\nczeck\\nhungary\\nfinland\\nscotland\\ncosta\\nrica\\nsweden\\nbelgium\\naustria\\nturkey\\npoland\\nindonesia\\nthailand\\nvenezuela\\nasia\\nzealand\\njapanese\\nlatin\\nbritish\\nchinese\\nalabama   | states\\nalaska\\narizona\\narkansas\\ncalifornia\\ncolorado\\nconnecticut\\ndelaware\\nflorida\\ngeorgia\\nhawaii\\nidaho\\nillinois\\nindiana\\niowa\\nkansas\\nkentucky\\nlouisiana\\nmaine\\nmaryland\\nmassachusetts\\nmichigan\\nminnesota\\nmississippi\\nmissouri\\nmontana\\nnebraska\\nnevada\\nhampshire\\njersey\\nmexico\\nnew\\nyork\\nohio\\noklahoma\\noregon\\npennsylvania\\nrhode\\nisland\\ncarolina\\ndakota\\ntennessee\\ntexas\\nutah\\nvermont\\nvirginia\\nwashington\\nwisconsin\\nwyoming\\na\\na's\\nable\\nabout\\nabove\\naccording\\naccordingly\\nacross\\nactually\\nafter\\nafterwards\\nagain\\nagainst\\nain't\\nall\\nallow\\nallows\\nalmost\\nalone\\nalong\\nalready\\nalso\\nalthough\\nalways\\nam\\namong\\namongst\\nan\\nand\\nanother\\nany\\nanybody\\nanyhow\\nanyone\\nanything\\nanyway\\nanyways\\nanywhere\\napart\\nappear\\nappreciate\\nappropriate\\nare\\naren't\\naround\\nas\\naside\\nask\\nasking\\nassociated\\nat\\navailable\\naway\\nawfully\\nb\\nbe\\nbecame\\nbecause\\nbecome\\nbecomes\\nbecoming\\nbeen\\nbefore\\nbeforehand\\nbehind\\nbeing\\nbelieve\\nbelow\\nbeside\\nbesides\\nbest\\nbetter\\nbetween\\nbeyond\\nboth\\nbrief\\nbut\\nby\\nc\\nc'mon\\nc's\\ncame\\ncan\\ncan't\\ncannot\\ncant\\ncause\\ncauses\\ncertain\\ncertainly\\nchanges\\nclearly\\nco\\ncom\\ncome\\ncomes\\nconcerning\\nconsequently\\nconsider\\nconsidering\\ncontain\\ncontaining\\ncontains\\ncorresponding\\ncould\\ncouldn't\\ncourse\\ncurrently\\nd\\ndefinitely\\ndescribed\\ndespite\\ndid\\ndidn't\\ndifferent\\ndo\\ndoes\\ndoesn't\\ndoing\\ndon't\\ndone\\ndown\\ndownwards\\nduring\\ne\\neach\\nedu\\neg\\neight\\neither\\nelse\\nelsewhere\\nenough\\nentirely\\nespecially\\net\\netc\\neven\\never\\nevery\\neverybody\\neveryone\\neverything\\neverywhere\\nex\\nexactly\\nexample\\nexcept\\nf\\nfar\\nfew\\nfifth\\nfirst\\nfive\\nfollowed\\nfollowing\\nfollows\\nfor\\nformer\\nformerly\\nforth\\nfour\\nfrom\\nfurther\\nfurthermore\\ng\\nget\\ngets\\ngetting\\ngiven\\ngives\\ngo\\ngoes\\ngoing\\ngone\\ngot\\ngotten\\ngreetings\\nh\\nhad\\nhadn't\\nhappens\\nhardly\\nhas\\nhasn't\\nhave\\nhaven't\\nhaving\\nhe\\nhe's\\nhello\\nhelp\\nhence\\nher\\nhere\\nhere's\\nhereafter\\nhereby\\nherein\\nhereupon\\nhers\\nherself\\nhi\\nhim\\nhimself\\nhis\\nhither\\nhopefully\\nhow\\nhowbeit\\nhowever\\ni\\ni'd\\ni'll\\ni'm\\ni've\\nie\\nif\\nignored\\nimmediate\\nin\\ninasmuch\\ninc\\nindeed\\nindicate\\nindicated\\nindicates\\ninner\\ninsofar\\ninstead\\ninto\\ninward\\nis\\nisn't\\nit\\nit'd\\nit'll\\nit's\\nits\\nitself\\nj\\njust\\nk\\nkeep\\nkeeps\\nkept\\nknow\\nknows\\nknown\\nl\\nlast\\nlately\\nlater\\nlatter\\nlatterly\\nleast\\nless\\nlest\\nlet\\nlet's\\nlike\\nliked\\nlikely\\nlittle\\nlook\\nlooking\\nlooks\\nltd\\nm\\nmainly\\nmany\\nmay\\nmaybe\\nme\\nmean\\nmeanwhile\\nmerely\\nmight\\nmore\\nmoreover\\nmost\\nmostly\\nmuch\\nmust\\nmy\\nmyself\\nn\\nname\\nnamely\\nnd\\nnear\\nnearly\\nnecessary\\nneed\\nneeds\\nneither\\nnever\\nnevertheless\\nnew\\nnext\\nnine\\nno\\nnobody\\nnon\\nnone\\nnoone\\nnor\\nnormally\\nnot\\nnothing\\nnovel\\nnow\\nnowhere\\no\\nobviously\\nof\\noff\\noften\\noh\\nok\\nokay\\nold\\non\\nonce\\none\\nones\\nonly\\nonto\\nor\\nother\\nothers\\notherwise\\nought\\nour\\nours\\nourselves\\nout\\noutside\\nover\\noverall\\nown\\np\\nparticular\\nparticularly\\nper\\nperhaps\\nplaced\\nplease\\nplus\\npossible\\npresumably\\nprobably\\nprovides\\nq\\nque\\nquite\\nqv\\nr\\nrather\\nrd\\nre\\nreally\\nreasonably\\nregarding\\nregardless\\nregards\\nrelatively\\nrespectively\\nright\\ns\\nsaid\\nsame\\nsaw\\nsay\\nsaying\\nsays\\nsecond\\nsecondly\\nsee\\nseeing\\nseem\\nseemed\\nseeming\\nseems\\nseen\\nself\\nselves\\nsensible\\nsent\\nserious\\nseriously\\nseven\\nseveral\\nshall\\nshe\\nshould\\nshouldn't\\nsince\\nsix\\nso\\nsome\\nsomebody\\nsomehow\\nsomeone\\nsomething\\nsometime\\nsometimes\\nsomewhat\\nsomewhere\\nsoon\\nsorry\\nspecified\\nspecify\\nspecifying\\nstill\\nsub\\nsuch\\nsup\\nsure\\nt\\nt's\\ntake\\ntaken\\ntell\\ntends\\nth\\nthan\\nthank\\nthanks\\nthanx\\nthat\\nthat's\\nthats\\nthe\\ntheir\\ntheirs\\nthem\\nthemselves\\nthen\\nthence\\nthere\\nthere's\\nthereafter\\nthereby\\ntherefore\\ntherein\\ntheres\\nthereupon\\nthese\\nthey\\nthey'd\\nthey'll\\nthey're\\nthey've\\nthink\\nthird\\nthis\\nthorough\\nthoroughly\\nthose\\nthough\\nthree\\nthrough\\nthroughout\\nthru\\nthus\\nto\\ntogether\\ntoo\\ntook\\ntoward\\ntowards\\ntried\\ntries\\ntruly\\ntry\\ntrying\\ntwice\\ntwo\\nu\\nun\\nunder\\nunfortunately\\nunless\\nunlikely\\nuntil\\nunto\\nup\\nupon\\nus\\nuse\\nused\\nuseful\\nuses\\nusing\\nusually\\nuucp\\nv\\nvalue\\nvarious\\nvery\\nvia\\nviz\\nvs\\nw\\nwant\\nwants\\nwas\\nwasn't\\nway\\nwe\\nwe'd\\nwe'll\\nwe're\\nwe've\\nwelcome\\nwell\\nwent\\nwere\\nweren't\\nwhat\\nwhat's\\nwhatever\\nwhen\\nwhence\\nwhenever\\nwhere\\nwhere's\\nwhereafter\\nwhereas\\nwhereby\\nwherein\\nwhereupon\\nwherever\\nwhether\\nwhich\\nwhile\\nwhither\\nwho\\nwho's\\nwhoever\\nwhole\\nwhom\\nwhose\\nwhy\\nwill\\nwilling\\nwish\\nwith\\nwithin\\nwithout\\nwon't\\nwonder\\nwould\\nwould\\nwouldn't\\nx\\ny\\nyes\\nyet\\nyou\\nyou'd\\nyou'll\\nyou're\\nyou've\\nyour\\nyours\\nyourself\\nyourselves\\nz\\nzero\\nafghani  | afghanistan \\nariary | madagascar \\nbaht | thailand \\nbalboa | panama \\nbirr | ethiopia \\nbolivar | venezuela \\nboliviano  | bolivia \\ncedi | ghana \\ncolon  | costa rica \\ncã“rdoba  | nicaragua \\ndalasi | gambia \\ndenar | macedonia (former yug. rep.) \\ndinar | algeria \\ndirham  | morocco \\ndobra | sã£o tom and prã\\xadncipe \\ndong | vietnam \\ndram | armenia \\nescudo  | cape verde \\neuro  | belgium \\nflorin | aruba \\nforint | hungary \\ngourde | haiti \\nguarani | paraguay \\ngulden | netherlands antilles \\nhryvnia  | ukraine \\nkina | papua new guinea \\nkip | laos \\nkonvertibilna marka  | bosnia-herzegovina \\nkoruna  | czech republic \\nkrona | sweden \\nkrone | denmark \\nkroon | estonia \\nkuna | croatia \\nkwacha | zambia \\nkwanza | angola \\nkyat | myanmar \\nlari | georgia \\nlats | latvia \\nlek | albania \\nlempira | honduras \\nleone | sierra leone \\nleu | romania \\nlev | bulgaria \\nlilangeni  | swaziland \\nlira | lebanon \\nlitas | lithuania \\nloti | lesotho \\nmanat | azerbaijan \\nmetical | mozambique \\nnaira | nigeria \\nnakfa | eritrea \\nnew lira | turkey \\nnew sheqel  | israel \\nngultrum  | bhutan \\nnuevo sol | peru \\nouguiya  | mauritania \\npataca | macau \\npeso  | mexico \\npound  | egypt \\npula  | botswana \\nquetzal | guatemala \\nrand | south africa \\nreal  | brazil \\nrenminbi  | china \\nrial | iran \\nriel | cambodia \\nringgit | malaysia \\nriyal | saudi arabia \\nruble | russia \\nrufiyaa | maldives \\nrupee  | india \\nrupee  | pakistan \\nrupiah  | indonesia \\nshilling  | uganda \\nsom | uzbekistan \\nsomoni  | tajikistan \\nspecial drawing rights  | international monetary fund \\ntaka | bangladesh \\ntala | western samoa \\ntenge | kazakhstan \\ntugrik  | mongolia \\nvatu | vanuatu \\nwon  | korea, south \\nyen | japan \\nzloty | poland \\nhundred  | denominations\\nthousand\\nmillion\\nbillion\\ntrillion\\ndate  | time related\\nannual\\nannually\\nannum\\nyear\\nyearly\\nquarter\\nquarterly\\nqtr\\nmonth\\nmonthly\\nweek\\nweekly\\nday\\ndaily\\njanuary  | calendar\\nfebruary\\nmarch\\napril\\nmay\\njune\\njuly\\naugust\\nseptember\\noctober\\nnovember\\ndecember\\njan\\nfeb\\nmar\\napr\\nmay\\njun\\njul\\naug\\nsep\\nsept\\noct\\nnov\\ndec\\nmonday\\ntuesday\\nwednesday\\nthursday\\nfriday\\nsaturday\\nsunday\\none  | numbers\\ntwo\\nthree\\nfour\\nfive\\nsix\\nseven\\neight\\nnine\\nten\\neleven\\ntwelve\\nthirteen\\nfourteen\\nfifteen\\nsixteen\\nseventeen\\neighteen\\nnineteen\\ntwenty\\nthirty\\nforty\\nfifty\\nsixty\\nseventy\\neighty\\nninety\\nfirst\\nsecond\\nthird\\nfourth\\nfifth\\nsixth\\nseventh\\neighth\\nninth\\ntenth\\ni  | roman numerals\\nii\\niii\\niv\\nv\\nvi\\nvii\\nviii\\nix\\nx\\nxi\\nxii\\nxiii\\nxiv\\nxv\\nxvi\\nxvii\\nxviii\\nxix\\nxx\""
      ]
     },
     "execution_count": 5,
     "metadata": {},
     "output_type": "execute_result"
    }
   ],
   "source": [
    "stopwords"
   ]
  },
  {
   "cell_type": "code",
   "execution_count": 6,
   "metadata": {},
   "outputs": [
    {
     "data": {
      "text/html": [
       "<div>\n",
       "<style scoped>\n",
       "    .dataframe tbody tr th:only-of-type {\n",
       "        vertical-align: middle;\n",
       "    }\n",
       "\n",
       "    .dataframe tbody tr th {\n",
       "        vertical-align: top;\n",
       "    }\n",
       "\n",
       "    .dataframe thead th {\n",
       "        text-align: right;\n",
       "    }\n",
       "</style>\n",
       "<table border=\"1\" class=\"dataframe\">\n",
       "  <thead>\n",
       "    <tr style=\"text-align: right;\">\n",
       "      <th></th>\n",
       "      <th>URL_ID</th>\n",
       "      <th>content</th>\n",
       "    </tr>\n",
       "  </thead>\n",
       "  <tbody>\n",
       "    <tr>\n",
       "      <th>0</th>\n",
       "      <td>37</td>\n",
       "      <td>[&lt;p&gt;&lt;strong&gt;Introduction&lt;/strong&gt;&lt;/p&gt;, &lt;p&gt;“If ...</td>\n",
       "    </tr>\n",
       "    <tr>\n",
       "      <th>1</th>\n",
       "      <td>38</td>\n",
       "      <td>[&lt;p&gt;Human minds, a fascination in itself carry...</td>\n",
       "    </tr>\n",
       "    <tr>\n",
       "      <th>2</th>\n",
       "      <td>39</td>\n",
       "      <td>[&lt;p&gt;&lt;strong&gt;Introduction&lt;/strong&gt;&lt;/p&gt;, &lt;p&gt;AI i...</td>\n",
       "    </tr>\n",
       "    <tr>\n",
       "      <th>3</th>\n",
       "      <td>40</td>\n",
       "      <td>[&lt;p&gt;“Anything that could give rise to smarter-...</td>\n",
       "    </tr>\n",
       "    <tr>\n",
       "      <th>4</th>\n",
       "      <td>41</td>\n",
       "      <td>[&lt;p&gt;“Machine intelligence is the last inventio...</td>\n",
       "    </tr>\n",
       "    <tr>\n",
       "      <th>...</th>\n",
       "      <td>...</td>\n",
       "      <td>...</td>\n",
       "    </tr>\n",
       "    <tr>\n",
       "      <th>109</th>\n",
       "      <td>146</td>\n",
       "      <td>[&lt;p&gt;&lt;em&gt;Reconciling with the financial realiti...</td>\n",
       "    </tr>\n",
       "    <tr>\n",
       "      <th>110</th>\n",
       "      <td>147</td>\n",
       "      <td>[&lt;p&gt;An investment is a resource or thing procu...</td>\n",
       "    </tr>\n",
       "    <tr>\n",
       "      <th>111</th>\n",
       "      <td>148</td>\n",
       "      <td>[&lt;p&gt;Quality and affordable healthcare is a vis...</td>\n",
       "    </tr>\n",
       "    <tr>\n",
       "      <th>112</th>\n",
       "      <td>149</td>\n",
       "      <td>[&lt;p&gt;Analytics is a statistical scientific proc...</td>\n",
       "    </tr>\n",
       "    <tr>\n",
       "      <th>113</th>\n",
       "      <td>150</td>\n",
       "      <td>[&lt;p&gt;To begin with I shall first like to explai...</td>\n",
       "    </tr>\n",
       "  </tbody>\n",
       "</table>\n",
       "<p>114 rows × 2 columns</p>\n",
       "</div>"
      ],
      "text/plain": [
       "     URL_ID                                            content\n",
       "0        37  [<p><strong>Introduction</strong></p>, <p>“If ...\n",
       "1        38  [<p>Human minds, a fascination in itself carry...\n",
       "2        39  [<p><strong>Introduction</strong></p>, <p>AI i...\n",
       "3        40  [<p>“Anything that could give rise to smarter-...\n",
       "4        41  [<p>“Machine intelligence is the last inventio...\n",
       "..      ...                                                ...\n",
       "109     146  [<p><em>Reconciling with the financial realiti...\n",
       "110     147  [<p>An investment is a resource or thing procu...\n",
       "111     148  [<p>Quality and affordable healthcare is a vis...\n",
       "112     149  [<p>Analytics is a statistical scientific proc...\n",
       "113     150  [<p>To begin with I shall first like to explai...\n",
       "\n",
       "[114 rows x 2 columns]"
      ]
     },
     "execution_count": 6,
     "metadata": {},
     "output_type": "execute_result"
    }
   ],
   "source": [
    "df_2=df_1.copy()\n",
    "df_2['content']=df_2['content'].apply(str)\n",
    "df_2"
   ]
  },
  {
   "cell_type": "code",
   "execution_count": 7,
   "metadata": {},
   "outputs": [],
   "source": [
    "from bs4 import BeautifulSoup\n",
    "def clean_text(text):\n",
    "    text = BeautifulSoup(text, \"html.parser\").get_text()\n",
    "\n",
    "    text = text.lower()\n",
    "    text = text.split()\n",
    "    y=[]\n",
    "    for i in text:\n",
    "        if i not in stopwords:\n",
    "            y.append(i)  \n",
    "            \n",
    "    return \" \".join(y)"
   ]
  },
  {
   "cell_type": "code",
   "execution_count": 8,
   "metadata": {},
   "outputs": [],
   "source": [
    "import string\n",
    "def transform_text(text):\n",
    "    text = text.lower()\n",
    "    text = text.split()\n",
    "    \n",
    "    y = []\n",
    "    for i in text:\n",
    "        if i.isalnum():\n",
    "            y.append(i)\n",
    "    \n",
    "    text = y[:]\n",
    "    y.clear()\n",
    "    \n",
    "    for i in text:\n",
    "        if i not in stopwords and i not in string.punctuation:\n",
    "            y.append(i)\n",
    "                \n",
    "    return \" \".join(y)"
   ]
  },
  {
   "cell_type": "code",
   "execution_count": 9,
   "metadata": {},
   "outputs": [],
   "source": [
    "df_1['content']=df_1['content'].apply(transform_text)"
   ]
  },
  {
   "cell_type": "code",
   "execution_count": 10,
   "metadata": {},
   "outputs": [
    {
     "data": {
      "text/plain": [
       "670"
      ]
     },
     "execution_count": 10,
     "metadata": {},
     "output_type": "execute_result"
    }
   ],
   "source": [
    "len(df_1['content'][0].split())"
   ]
  },
  {
   "cell_type": "code",
   "execution_count": 29,
   "metadata": {},
   "outputs": [],
   "source": [
    "df_2['content']=df_2['content'].apply(clean_text)"
   ]
  },
  {
   "attachments": {},
   "cell_type": "markdown",
   "metadata": {},
   "source": [
    "# Analysis"
   ]
  },
  {
   "attachments": {},
   "cell_type": "markdown",
   "metadata": {},
   "source": [
    "#### Positive score"
   ]
  },
  {
   "cell_type": "code",
   "execution_count": 11,
   "metadata": {},
   "outputs": [],
   "source": [
    "p = open(\"positive.txt\",'r')\n",
    "positive_words=p.read()"
   ]
  },
  {
   "cell_type": "code",
   "execution_count": 12,
   "metadata": {},
   "outputs": [],
   "source": [
    "def pos_score_calc(sentence):    \n",
    "    positive_score=0\n",
    "    sentence=sentence.split(\" \")\n",
    "    for word in sentence:\n",
    "        if word in positive_words:\n",
    "            positive_score+=1\n",
    "    return positive_score"
   ]
  },
  {
   "cell_type": "code",
   "execution_count": 13,
   "metadata": {},
   "outputs": [],
   "source": [
    "sent=df_1['content'][0]"
   ]
  },
  {
   "cell_type": "code",
   "execution_count": 14,
   "metadata": {},
   "outputs": [
    {
     "data": {
      "text/plain": [
       "75"
      ]
     },
     "execution_count": 14,
     "metadata": {},
     "output_type": "execute_result"
    }
   ],
   "source": [
    "pos_score_calc(sent)"
   ]
  },
  {
   "attachments": {},
   "cell_type": "markdown",
   "metadata": {},
   "source": [
    "#### Negative Score"
   ]
  },
  {
   "cell_type": "code",
   "execution_count": 15,
   "metadata": {},
   "outputs": [],
   "source": [
    "q = open(\"negative.txt\",'r')\n",
    "negative_words=q.read()"
   ]
  },
  {
   "cell_type": "code",
   "execution_count": 16,
   "metadata": {},
   "outputs": [],
   "source": [
    "def neg_score_calc(sentence):    \n",
    "    negative_score=0\n",
    "    sentence=sentence.split(\" \")\n",
    "    for word in sentence:\n",
    "        if word in negative_words:\n",
    "            negative_score-=1\n",
    "    negative_score=negative_score*(-1)\n",
    "    return negative_score"
   ]
  },
  {
   "cell_type": "code",
   "execution_count": 17,
   "metadata": {},
   "outputs": [
    {
     "data": {
      "text/plain": [
       "107"
      ]
     },
     "execution_count": 17,
     "metadata": {},
     "output_type": "execute_result"
    }
   ],
   "source": [
    "neg_score_calc(sent)"
   ]
  },
  {
   "cell_type": "code",
   "execution_count": 18,
   "metadata": {},
   "outputs": [],
   "source": [
    "df_1['Positive Score']=df_1['content'].apply(pos_score_calc)"
   ]
  },
  {
   "cell_type": "code",
   "execution_count": 19,
   "metadata": {},
   "outputs": [],
   "source": [
    "df_1['Negative Score']=df_1['content'].apply(neg_score_calc)"
   ]
  },
  {
   "cell_type": "code",
   "execution_count": 20,
   "metadata": {},
   "outputs": [
    {
     "data": {
      "text/html": [
       "<div>\n",
       "<style scoped>\n",
       "    .dataframe tbody tr th:only-of-type {\n",
       "        vertical-align: middle;\n",
       "    }\n",
       "\n",
       "    .dataframe tbody tr th {\n",
       "        vertical-align: top;\n",
       "    }\n",
       "\n",
       "    .dataframe thead th {\n",
       "        text-align: right;\n",
       "    }\n",
       "</style>\n",
       "<table border=\"1\" class=\"dataframe\">\n",
       "  <thead>\n",
       "    <tr style=\"text-align: right;\">\n",
       "      <th></th>\n",
       "      <th>URL_ID</th>\n",
       "      <th>content</th>\n",
       "      <th>Positive Score</th>\n",
       "      <th>Negative Score</th>\n",
       "    </tr>\n",
       "  </thead>\n",
       "  <tbody>\n",
       "    <tr>\n",
       "      <th>0</th>\n",
       "      <td>37</td>\n",
       "      <td>kills 10 highly infectious virus missiles rema...</td>\n",
       "      <td>75</td>\n",
       "      <td>107</td>\n",
       "    </tr>\n",
       "    <tr>\n",
       "      <th>1</th>\n",
       "      <td>38</td>\n",
       "      <td>fascination carrying potential tinkering natur...</td>\n",
       "      <td>58</td>\n",
       "      <td>60</td>\n",
       "    </tr>\n",
       "    <tr>\n",
       "      <th>2</th>\n",
       "      <td>39</td>\n",
       "      <td>rapidly evolving employment matters involving ...</td>\n",
       "      <td>86</td>\n",
       "      <td>90</td>\n",
       "    </tr>\n",
       "    <tr>\n",
       "      <th>3</th>\n",
       "      <td>40</td>\n",
       "      <td>intelligence artificial intelligence enhanceme...</td>\n",
       "      <td>77</td>\n",
       "      <td>68</td>\n",
       "    </tr>\n",
       "    <tr>\n",
       "      <th>4</th>\n",
       "      <td>41</td>\n",
       "      <td>intelligence invention humanity artificial int...</td>\n",
       "      <td>74</td>\n",
       "      <td>62</td>\n",
       "    </tr>\n",
       "  </tbody>\n",
       "</table>\n",
       "</div>"
      ],
      "text/plain": [
       "   URL_ID                                            content  Positive Score  \\\n",
       "0      37  kills 10 highly infectious virus missiles rema...              75   \n",
       "1      38  fascination carrying potential tinkering natur...              58   \n",
       "2      39  rapidly evolving employment matters involving ...              86   \n",
       "3      40  intelligence artificial intelligence enhanceme...              77   \n",
       "4      41  intelligence invention humanity artificial int...              74   \n",
       "\n",
       "   Negative Score  \n",
       "0             107  \n",
       "1              60  \n",
       "2              90  \n",
       "3              68  \n",
       "4              62  "
      ]
     },
     "execution_count": 20,
     "metadata": {},
     "output_type": "execute_result"
    }
   ],
   "source": [
    "df_1.head()"
   ]
  },
  {
   "attachments": {},
   "cell_type": "markdown",
   "metadata": {},
   "source": [
    "#### Polarity Score"
   ]
  },
  {
   "cell_type": "code",
   "execution_count": 21,
   "metadata": {},
   "outputs": [],
   "source": [
    "df_1['Polarity Score'] = (df_1['Positive Score'] - df_1['Negative Score']) / ((df_1['Positive Score'] + df_1['Negative Score']) + 0.000001)"
   ]
  },
  {
   "cell_type": "code",
   "execution_count": 22,
   "metadata": {},
   "outputs": [
    {
     "data": {
      "text/html": [
       "<div>\n",
       "<style scoped>\n",
       "    .dataframe tbody tr th:only-of-type {\n",
       "        vertical-align: middle;\n",
       "    }\n",
       "\n",
       "    .dataframe tbody tr th {\n",
       "        vertical-align: top;\n",
       "    }\n",
       "\n",
       "    .dataframe thead th {\n",
       "        text-align: right;\n",
       "    }\n",
       "</style>\n",
       "<table border=\"1\" class=\"dataframe\">\n",
       "  <thead>\n",
       "    <tr style=\"text-align: right;\">\n",
       "      <th></th>\n",
       "      <th>URL_ID</th>\n",
       "      <th>content</th>\n",
       "      <th>Positive Score</th>\n",
       "      <th>Negative Score</th>\n",
       "      <th>Polarity Score</th>\n",
       "    </tr>\n",
       "  </thead>\n",
       "  <tbody>\n",
       "    <tr>\n",
       "      <th>0</th>\n",
       "      <td>37</td>\n",
       "      <td>kills 10 highly infectious virus missiles rema...</td>\n",
       "      <td>75</td>\n",
       "      <td>107</td>\n",
       "      <td>-0.175824</td>\n",
       "    </tr>\n",
       "    <tr>\n",
       "      <th>1</th>\n",
       "      <td>38</td>\n",
       "      <td>fascination carrying potential tinkering natur...</td>\n",
       "      <td>58</td>\n",
       "      <td>60</td>\n",
       "      <td>-0.016949</td>\n",
       "    </tr>\n",
       "    <tr>\n",
       "      <th>2</th>\n",
       "      <td>39</td>\n",
       "      <td>rapidly evolving employment matters involving ...</td>\n",
       "      <td>86</td>\n",
       "      <td>90</td>\n",
       "      <td>-0.022727</td>\n",
       "    </tr>\n",
       "    <tr>\n",
       "      <th>3</th>\n",
       "      <td>40</td>\n",
       "      <td>intelligence artificial intelligence enhanceme...</td>\n",
       "      <td>77</td>\n",
       "      <td>68</td>\n",
       "      <td>0.062069</td>\n",
       "    </tr>\n",
       "    <tr>\n",
       "      <th>4</th>\n",
       "      <td>41</td>\n",
       "      <td>intelligence invention humanity artificial int...</td>\n",
       "      <td>74</td>\n",
       "      <td>62</td>\n",
       "      <td>0.088235</td>\n",
       "    </tr>\n",
       "  </tbody>\n",
       "</table>\n",
       "</div>"
      ],
      "text/plain": [
       "   URL_ID                                            content  Positive Score  \\\n",
       "0      37  kills 10 highly infectious virus missiles rema...              75   \n",
       "1      38  fascination carrying potential tinkering natur...              58   \n",
       "2      39  rapidly evolving employment matters involving ...              86   \n",
       "3      40  intelligence artificial intelligence enhanceme...              77   \n",
       "4      41  intelligence invention humanity artificial int...              74   \n",
       "\n",
       "   Negative Score  Polarity Score  \n",
       "0             107       -0.175824  \n",
       "1              60       -0.016949  \n",
       "2              90       -0.022727  \n",
       "3              68        0.062069  \n",
       "4              62        0.088235  "
      ]
     },
     "execution_count": 22,
     "metadata": {},
     "output_type": "execute_result"
    }
   ],
   "source": [
    "df_1.head()"
   ]
  },
  {
   "cell_type": "code",
   "execution_count": 23,
   "metadata": {},
   "outputs": [
    {
     "data": {
      "text/html": [
       "<div>\n",
       "<style scoped>\n",
       "    .dataframe tbody tr th:only-of-type {\n",
       "        vertical-align: middle;\n",
       "    }\n",
       "\n",
       "    .dataframe tbody tr th {\n",
       "        vertical-align: top;\n",
       "    }\n",
       "\n",
       "    .dataframe thead th {\n",
       "        text-align: right;\n",
       "    }\n",
       "</style>\n",
       "<table border=\"1\" class=\"dataframe\">\n",
       "  <thead>\n",
       "    <tr style=\"text-align: right;\">\n",
       "      <th></th>\n",
       "      <th>URL_ID</th>\n",
       "      <th>Positive Score</th>\n",
       "      <th>Negative Score</th>\n",
       "      <th>Polarity Score</th>\n",
       "    </tr>\n",
       "  </thead>\n",
       "  <tbody>\n",
       "    <tr>\n",
       "      <th>count</th>\n",
       "      <td>114.000000</td>\n",
       "      <td>114.000000</td>\n",
       "      <td>114.000000</td>\n",
       "      <td>114.000000</td>\n",
       "    </tr>\n",
       "    <tr>\n",
       "      <th>mean</th>\n",
       "      <td>93.500000</td>\n",
       "      <td>39.587719</td>\n",
       "      <td>54.157895</td>\n",
       "      <td>-0.153704</td>\n",
       "    </tr>\n",
       "    <tr>\n",
       "      <th>std</th>\n",
       "      <td>33.052988</td>\n",
       "      <td>24.829618</td>\n",
       "      <td>31.994629</td>\n",
       "      <td>0.182736</td>\n",
       "    </tr>\n",
       "    <tr>\n",
       "      <th>min</th>\n",
       "      <td>37.000000</td>\n",
       "      <td>1.000000</td>\n",
       "      <td>1.000000</td>\n",
       "      <td>-0.800000</td>\n",
       "    </tr>\n",
       "    <tr>\n",
       "      <th>25%</th>\n",
       "      <td>65.250000</td>\n",
       "      <td>22.250000</td>\n",
       "      <td>30.000000</td>\n",
       "      <td>-0.268707</td>\n",
       "    </tr>\n",
       "    <tr>\n",
       "      <th>50%</th>\n",
       "      <td>93.500000</td>\n",
       "      <td>36.500000</td>\n",
       "      <td>54.000000</td>\n",
       "      <td>-0.159863</td>\n",
       "    </tr>\n",
       "    <tr>\n",
       "      <th>75%</th>\n",
       "      <td>121.750000</td>\n",
       "      <td>53.000000</td>\n",
       "      <td>78.000000</td>\n",
       "      <td>-0.024398</td>\n",
       "    </tr>\n",
       "    <tr>\n",
       "      <th>max</th>\n",
       "      <td>150.000000</td>\n",
       "      <td>108.000000</td>\n",
       "      <td>131.000000</td>\n",
       "      <td>0.368421</td>\n",
       "    </tr>\n",
       "  </tbody>\n",
       "</table>\n",
       "</div>"
      ],
      "text/plain": [
       "           URL_ID  Positive Score  Negative Score  Polarity Score\n",
       "count  114.000000      114.000000      114.000000      114.000000\n",
       "mean    93.500000       39.587719       54.157895       -0.153704\n",
       "std     33.052988       24.829618       31.994629        0.182736\n",
       "min     37.000000        1.000000        1.000000       -0.800000\n",
       "25%     65.250000       22.250000       30.000000       -0.268707\n",
       "50%     93.500000       36.500000       54.000000       -0.159863\n",
       "75%    121.750000       53.000000       78.000000       -0.024398\n",
       "max    150.000000      108.000000      131.000000        0.368421"
      ]
     },
     "execution_count": 23,
     "metadata": {},
     "output_type": "execute_result"
    }
   ],
   "source": [
    "df_1.describe()"
   ]
  },
  {
   "attachments": {},
   "cell_type": "markdown",
   "metadata": {},
   "source": [
    "#### Subjectivity Score"
   ]
  },
  {
   "cell_type": "code",
   "execution_count": 24,
   "metadata": {},
   "outputs": [
    {
     "data": {
      "text/plain": [
       "670"
      ]
     },
     "execution_count": 24,
     "metadata": {},
     "output_type": "execute_result"
    }
   ],
   "source": [
    "len(df_1['content'][0].split(\" \"))"
   ]
  },
  {
   "cell_type": "code",
   "execution_count": 25,
   "metadata": {},
   "outputs": [],
   "source": [
    "df_1['Subjectivity Score'] = (df_1['Positive Score']+df_1['Negative Score'])/(len(df_1['content'])+0.000001)"
   ]
  },
  {
   "cell_type": "code",
   "execution_count": 27,
   "metadata": {},
   "outputs": [
    {
     "data": {
      "text/html": [
       "<div>\n",
       "<style scoped>\n",
       "    .dataframe tbody tr th:only-of-type {\n",
       "        vertical-align: middle;\n",
       "    }\n",
       "\n",
       "    .dataframe tbody tr th {\n",
       "        vertical-align: top;\n",
       "    }\n",
       "\n",
       "    .dataframe thead th {\n",
       "        text-align: right;\n",
       "    }\n",
       "</style>\n",
       "<table border=\"1\" class=\"dataframe\">\n",
       "  <thead>\n",
       "    <tr style=\"text-align: right;\">\n",
       "      <th></th>\n",
       "      <th>URL_ID</th>\n",
       "      <th>content</th>\n",
       "      <th>Positive Score</th>\n",
       "      <th>Negative Score</th>\n",
       "      <th>Polarity Score</th>\n",
       "      <th>Subjectivity Score</th>\n",
       "    </tr>\n",
       "  </thead>\n",
       "  <tbody>\n",
       "    <tr>\n",
       "      <th>0</th>\n",
       "      <td>37</td>\n",
       "      <td>kills 10 highly infectious virus missiles rema...</td>\n",
       "      <td>75</td>\n",
       "      <td>107</td>\n",
       "      <td>-0.175824</td>\n",
       "      <td>1.596491</td>\n",
       "    </tr>\n",
       "    <tr>\n",
       "      <th>1</th>\n",
       "      <td>38</td>\n",
       "      <td>fascination carrying potential tinkering natur...</td>\n",
       "      <td>58</td>\n",
       "      <td>60</td>\n",
       "      <td>-0.016949</td>\n",
       "      <td>1.035088</td>\n",
       "    </tr>\n",
       "    <tr>\n",
       "      <th>2</th>\n",
       "      <td>39</td>\n",
       "      <td>rapidly evolving employment matters involving ...</td>\n",
       "      <td>86</td>\n",
       "      <td>90</td>\n",
       "      <td>-0.022727</td>\n",
       "      <td>1.543860</td>\n",
       "    </tr>\n",
       "    <tr>\n",
       "      <th>3</th>\n",
       "      <td>40</td>\n",
       "      <td>intelligence artificial intelligence enhanceme...</td>\n",
       "      <td>77</td>\n",
       "      <td>68</td>\n",
       "      <td>0.062069</td>\n",
       "      <td>1.271930</td>\n",
       "    </tr>\n",
       "    <tr>\n",
       "      <th>4</th>\n",
       "      <td>41</td>\n",
       "      <td>intelligence invention humanity artificial int...</td>\n",
       "      <td>74</td>\n",
       "      <td>62</td>\n",
       "      <td>0.088235</td>\n",
       "      <td>1.192982</td>\n",
       "    </tr>\n",
       "  </tbody>\n",
       "</table>\n",
       "</div>"
      ],
      "text/plain": [
       "   URL_ID                                            content  Positive Score  \\\n",
       "0      37  kills 10 highly infectious virus missiles rema...              75   \n",
       "1      38  fascination carrying potential tinkering natur...              58   \n",
       "2      39  rapidly evolving employment matters involving ...              86   \n",
       "3      40  intelligence artificial intelligence enhanceme...              77   \n",
       "4      41  intelligence invention humanity artificial int...              74   \n",
       "\n",
       "   Negative Score  Polarity Score  Subjectivity Score  \n",
       "0             107       -0.175824            1.596491  \n",
       "1              60       -0.016949            1.035088  \n",
       "2              90       -0.022727            1.543860  \n",
       "3              68        0.062069            1.271930  \n",
       "4              62        0.088235            1.192982  "
      ]
     },
     "execution_count": 27,
     "metadata": {},
     "output_type": "execute_result"
    }
   ],
   "source": [
    "df_1.head()"
   ]
  },
  {
   "attachments": {},
   "cell_type": "markdown",
   "metadata": {},
   "source": [
    "#### Sentence length"
   ]
  },
  {
   "cell_type": "code",
   "execution_count": 30,
   "metadata": {},
   "outputs": [
    {
     "data": {
      "text/plain": [
       "21.88"
      ]
     },
     "execution_count": 30,
     "metadata": {},
     "output_type": "execute_result"
    }
   ],
   "source": [
    "import nltk \n",
    "words=nltk.word_tokenize(df_2['content'][0])\n",
    "sentences=nltk.sent_tokenize(df_2['content'][0])\n",
    "round(len(words)/len(sentences),2)"
   ]
  },
  {
   "cell_type": "code",
   "execution_count": 31,
   "metadata": {},
   "outputs": [],
   "source": [
    "def sentence_len(text):\n",
    "    words=nltk.word_tokenize(text)\n",
    "    sentences=nltk.sent_tokenize(text)\n",
    "    length=round(len(words)/len(sentences))\n",
    "    return length"
   ]
  },
  {
   "cell_type": "code",
   "execution_count": 32,
   "metadata": {},
   "outputs": [],
   "source": [
    "df_1['Average sentence length']=df_2['content'].apply(sentence_len)"
   ]
  },
  {
   "cell_type": "code",
   "execution_count": 33,
   "metadata": {},
   "outputs": [
    {
     "data": {
      "text/html": [
       "<div>\n",
       "<style scoped>\n",
       "    .dataframe tbody tr th:only-of-type {\n",
       "        vertical-align: middle;\n",
       "    }\n",
       "\n",
       "    .dataframe tbody tr th {\n",
       "        vertical-align: top;\n",
       "    }\n",
       "\n",
       "    .dataframe thead th {\n",
       "        text-align: right;\n",
       "    }\n",
       "</style>\n",
       "<table border=\"1\" class=\"dataframe\">\n",
       "  <thead>\n",
       "    <tr style=\"text-align: right;\">\n",
       "      <th></th>\n",
       "      <th>URL_ID</th>\n",
       "      <th>content</th>\n",
       "      <th>Positive Score</th>\n",
       "      <th>Negative Score</th>\n",
       "      <th>Polarity Score</th>\n",
       "      <th>Subjectivity Score</th>\n",
       "      <th>Average sentence length</th>\n",
       "    </tr>\n",
       "  </thead>\n",
       "  <tbody>\n",
       "    <tr>\n",
       "      <th>0</th>\n",
       "      <td>37</td>\n",
       "      <td>kills 10 highly infectious virus missiles rema...</td>\n",
       "      <td>75</td>\n",
       "      <td>107</td>\n",
       "      <td>-0.175824</td>\n",
       "      <td>1.596491</td>\n",
       "      <td>22</td>\n",
       "    </tr>\n",
       "    <tr>\n",
       "      <th>1</th>\n",
       "      <td>38</td>\n",
       "      <td>fascination carrying potential tinkering natur...</td>\n",
       "      <td>58</td>\n",
       "      <td>60</td>\n",
       "      <td>-0.016949</td>\n",
       "      <td>1.035088</td>\n",
       "      <td>12</td>\n",
       "    </tr>\n",
       "    <tr>\n",
       "      <th>2</th>\n",
       "      <td>39</td>\n",
       "      <td>rapidly evolving employment matters involving ...</td>\n",
       "      <td>86</td>\n",
       "      <td>90</td>\n",
       "      <td>-0.022727</td>\n",
       "      <td>1.543860</td>\n",
       "      <td>15</td>\n",
       "    </tr>\n",
       "    <tr>\n",
       "      <th>3</th>\n",
       "      <td>40</td>\n",
       "      <td>intelligence artificial intelligence enhanceme...</td>\n",
       "      <td>77</td>\n",
       "      <td>68</td>\n",
       "      <td>0.062069</td>\n",
       "      <td>1.271930</td>\n",
       "      <td>10</td>\n",
       "    </tr>\n",
       "    <tr>\n",
       "      <th>4</th>\n",
       "      <td>41</td>\n",
       "      <td>intelligence invention humanity artificial int...</td>\n",
       "      <td>74</td>\n",
       "      <td>62</td>\n",
       "      <td>0.088235</td>\n",
       "      <td>1.192982</td>\n",
       "      <td>14</td>\n",
       "    </tr>\n",
       "  </tbody>\n",
       "</table>\n",
       "</div>"
      ],
      "text/plain": [
       "   URL_ID                                            content  Positive Score  \\\n",
       "0      37  kills 10 highly infectious virus missiles rema...              75   \n",
       "1      38  fascination carrying potential tinkering natur...              58   \n",
       "2      39  rapidly evolving employment matters involving ...              86   \n",
       "3      40  intelligence artificial intelligence enhanceme...              77   \n",
       "4      41  intelligence invention humanity artificial int...              74   \n",
       "\n",
       "   Negative Score  Polarity Score  Subjectivity Score  Average sentence length  \n",
       "0             107       -0.175824            1.596491                       22  \n",
       "1              60       -0.016949            1.035088                       12  \n",
       "2              90       -0.022727            1.543860                       15  \n",
       "3              68        0.062069            1.271930                       10  \n",
       "4              62        0.088235            1.192982                       14  "
      ]
     },
     "execution_count": 33,
     "metadata": {},
     "output_type": "execute_result"
    }
   ],
   "source": [
    "df_1.head()"
   ]
  },
  {
   "attachments": {},
   "cell_type": "markdown",
   "metadata": {},
   "source": [
    "#### Complex words"
   ]
  },
  {
   "cell_type": "code",
   "execution_count": 38,
   "metadata": {},
   "outputs": [],
   "source": [
    "import nltk\n",
    "\n",
    "def calculate_complexword_count_percentage(sentence):\n",
    "    words = nltk.word_tokenize(sentence)\n",
    "    cmu_dict = nltk.corpus.cmudict.dict()\n",
    "    count = 0\n",
    "    for word in words:\n",
    "        syllables = cmu_dict.get(word.lower())\n",
    "        if syllables:\n",
    "            syllable_length = len([s for s in syllables[0] if s[-1].isdigit()])\n",
    "            if syllable_length > 2:\n",
    "                count += 1\n",
    "    if len(words)!=0:\n",
    "        return round(count/len(words)*100,2)\n",
    "    else:\n",
    "        return 0"
   ]
  },
  {
   "cell_type": "code",
   "execution_count": 39,
   "metadata": {},
   "outputs": [],
   "source": [
    "df_1['Complex word %']=df_1['content'].apply(calculate_complexword_count_percentage)"
   ]
  },
  {
   "cell_type": "code",
   "execution_count": 40,
   "metadata": {},
   "outputs": [
    {
     "data": {
      "text/html": [
       "<div>\n",
       "<style scoped>\n",
       "    .dataframe tbody tr th:only-of-type {\n",
       "        vertical-align: middle;\n",
       "    }\n",
       "\n",
       "    .dataframe tbody tr th {\n",
       "        vertical-align: top;\n",
       "    }\n",
       "\n",
       "    .dataframe thead th {\n",
       "        text-align: right;\n",
       "    }\n",
       "</style>\n",
       "<table border=\"1\" class=\"dataframe\">\n",
       "  <thead>\n",
       "    <tr style=\"text-align: right;\">\n",
       "      <th></th>\n",
       "      <th>URL_ID</th>\n",
       "      <th>content</th>\n",
       "      <th>Positive Score</th>\n",
       "      <th>Negative Score</th>\n",
       "      <th>Polarity Score</th>\n",
       "      <th>Subjectivity Score</th>\n",
       "      <th>Average sentence length</th>\n",
       "      <th>Complex word %</th>\n",
       "    </tr>\n",
       "  </thead>\n",
       "  <tbody>\n",
       "    <tr>\n",
       "      <th>0</th>\n",
       "      <td>37</td>\n",
       "      <td>kills 10 highly infectious virus missiles rema...</td>\n",
       "      <td>75</td>\n",
       "      <td>107</td>\n",
       "      <td>-0.175824</td>\n",
       "      <td>1.596491</td>\n",
       "      <td>22</td>\n",
       "      <td>45.22</td>\n",
       "    </tr>\n",
       "    <tr>\n",
       "      <th>1</th>\n",
       "      <td>38</td>\n",
       "      <td>fascination carrying potential tinkering natur...</td>\n",
       "      <td>58</td>\n",
       "      <td>60</td>\n",
       "      <td>-0.016949</td>\n",
       "      <td>1.035088</td>\n",
       "      <td>12</td>\n",
       "      <td>35.87</td>\n",
       "    </tr>\n",
       "    <tr>\n",
       "      <th>2</th>\n",
       "      <td>39</td>\n",
       "      <td>rapidly evolving employment matters involving ...</td>\n",
       "      <td>86</td>\n",
       "      <td>90</td>\n",
       "      <td>-0.022727</td>\n",
       "      <td>1.543860</td>\n",
       "      <td>15</td>\n",
       "      <td>47.92</td>\n",
       "    </tr>\n",
       "    <tr>\n",
       "      <th>3</th>\n",
       "      <td>40</td>\n",
       "      <td>intelligence artificial intelligence enhanceme...</td>\n",
       "      <td>77</td>\n",
       "      <td>68</td>\n",
       "      <td>0.062069</td>\n",
       "      <td>1.271930</td>\n",
       "      <td>10</td>\n",
       "      <td>44.85</td>\n",
       "    </tr>\n",
       "    <tr>\n",
       "      <th>4</th>\n",
       "      <td>41</td>\n",
       "      <td>intelligence invention humanity artificial int...</td>\n",
       "      <td>74</td>\n",
       "      <td>62</td>\n",
       "      <td>0.088235</td>\n",
       "      <td>1.192982</td>\n",
       "      <td>14</td>\n",
       "      <td>48.09</td>\n",
       "    </tr>\n",
       "  </tbody>\n",
       "</table>\n",
       "</div>"
      ],
      "text/plain": [
       "   URL_ID                                            content  Positive Score  \\\n",
       "0      37  kills 10 highly infectious virus missiles rema...              75   \n",
       "1      38  fascination carrying potential tinkering natur...              58   \n",
       "2      39  rapidly evolving employment matters involving ...              86   \n",
       "3      40  intelligence artificial intelligence enhanceme...              77   \n",
       "4      41  intelligence invention humanity artificial int...              74   \n",
       "\n",
       "   Negative Score  Polarity Score  Subjectivity Score  \\\n",
       "0             107       -0.175824            1.596491   \n",
       "1              60       -0.016949            1.035088   \n",
       "2              90       -0.022727            1.543860   \n",
       "3              68        0.062069            1.271930   \n",
       "4              62        0.088235            1.192982   \n",
       "\n",
       "   Average sentence length  Complex word %  \n",
       "0                       22           45.22  \n",
       "1                       12           35.87  \n",
       "2                       15           47.92  \n",
       "3                       10           44.85  \n",
       "4                       14           48.09  "
      ]
     },
     "execution_count": 40,
     "metadata": {},
     "output_type": "execute_result"
    }
   ],
   "source": [
    "df_1.head()"
   ]
  },
  {
   "attachments": {},
   "cell_type": "markdown",
   "metadata": {},
   "source": [
    "#### Fog Index"
   ]
  },
  {
   "cell_type": "code",
   "execution_count": 41,
   "metadata": {},
   "outputs": [],
   "source": [
    "df_1['Fog Index']=  round(0.4*(df_1['Average sentence length']+df_1['Complex word %']),2)"
   ]
  },
  {
   "cell_type": "code",
   "execution_count": 42,
   "metadata": {},
   "outputs": [
    {
     "data": {
      "text/html": [
       "<div>\n",
       "<style scoped>\n",
       "    .dataframe tbody tr th:only-of-type {\n",
       "        vertical-align: middle;\n",
       "    }\n",
       "\n",
       "    .dataframe tbody tr th {\n",
       "        vertical-align: top;\n",
       "    }\n",
       "\n",
       "    .dataframe thead th {\n",
       "        text-align: right;\n",
       "    }\n",
       "</style>\n",
       "<table border=\"1\" class=\"dataframe\">\n",
       "  <thead>\n",
       "    <tr style=\"text-align: right;\">\n",
       "      <th></th>\n",
       "      <th>URL_ID</th>\n",
       "      <th>content</th>\n",
       "      <th>Positive Score</th>\n",
       "      <th>Negative Score</th>\n",
       "      <th>Polarity Score</th>\n",
       "      <th>Subjectivity Score</th>\n",
       "      <th>Average sentence length</th>\n",
       "      <th>Complex word %</th>\n",
       "      <th>Fog Index</th>\n",
       "    </tr>\n",
       "  </thead>\n",
       "  <tbody>\n",
       "    <tr>\n",
       "      <th>0</th>\n",
       "      <td>37</td>\n",
       "      <td>kills 10 highly infectious virus missiles rema...</td>\n",
       "      <td>75</td>\n",
       "      <td>107</td>\n",
       "      <td>-0.175824</td>\n",
       "      <td>1.596491</td>\n",
       "      <td>22</td>\n",
       "      <td>45.22</td>\n",
       "      <td>26.89</td>\n",
       "    </tr>\n",
       "    <tr>\n",
       "      <th>1</th>\n",
       "      <td>38</td>\n",
       "      <td>fascination carrying potential tinkering natur...</td>\n",
       "      <td>58</td>\n",
       "      <td>60</td>\n",
       "      <td>-0.016949</td>\n",
       "      <td>1.035088</td>\n",
       "      <td>12</td>\n",
       "      <td>35.87</td>\n",
       "      <td>19.15</td>\n",
       "    </tr>\n",
       "    <tr>\n",
       "      <th>2</th>\n",
       "      <td>39</td>\n",
       "      <td>rapidly evolving employment matters involving ...</td>\n",
       "      <td>86</td>\n",
       "      <td>90</td>\n",
       "      <td>-0.022727</td>\n",
       "      <td>1.543860</td>\n",
       "      <td>15</td>\n",
       "      <td>47.92</td>\n",
       "      <td>25.17</td>\n",
       "    </tr>\n",
       "    <tr>\n",
       "      <th>3</th>\n",
       "      <td>40</td>\n",
       "      <td>intelligence artificial intelligence enhanceme...</td>\n",
       "      <td>77</td>\n",
       "      <td>68</td>\n",
       "      <td>0.062069</td>\n",
       "      <td>1.271930</td>\n",
       "      <td>10</td>\n",
       "      <td>44.85</td>\n",
       "      <td>21.94</td>\n",
       "    </tr>\n",
       "    <tr>\n",
       "      <th>4</th>\n",
       "      <td>41</td>\n",
       "      <td>intelligence invention humanity artificial int...</td>\n",
       "      <td>74</td>\n",
       "      <td>62</td>\n",
       "      <td>0.088235</td>\n",
       "      <td>1.192982</td>\n",
       "      <td>14</td>\n",
       "      <td>48.09</td>\n",
       "      <td>24.84</td>\n",
       "    </tr>\n",
       "  </tbody>\n",
       "</table>\n",
       "</div>"
      ],
      "text/plain": [
       "   URL_ID                                            content  Positive Score  \\\n",
       "0      37  kills 10 highly infectious virus missiles rema...              75   \n",
       "1      38  fascination carrying potential tinkering natur...              58   \n",
       "2      39  rapidly evolving employment matters involving ...              86   \n",
       "3      40  intelligence artificial intelligence enhanceme...              77   \n",
       "4      41  intelligence invention humanity artificial int...              74   \n",
       "\n",
       "   Negative Score  Polarity Score  Subjectivity Score  \\\n",
       "0             107       -0.175824            1.596491   \n",
       "1              60       -0.016949            1.035088   \n",
       "2              90       -0.022727            1.543860   \n",
       "3              68        0.062069            1.271930   \n",
       "4              62        0.088235            1.192982   \n",
       "\n",
       "   Average sentence length  Complex word %  Fog Index  \n",
       "0                       22           45.22      26.89  \n",
       "1                       12           35.87      19.15  \n",
       "2                       15           47.92      25.17  \n",
       "3                       10           44.85      21.94  \n",
       "4                       14           48.09      24.84  "
      ]
     },
     "execution_count": 42,
     "metadata": {},
     "output_type": "execute_result"
    }
   ],
   "source": [
    "df_1.head()"
   ]
  },
  {
   "cell_type": "code",
   "execution_count": 43,
   "metadata": {},
   "outputs": [],
   "source": [
    "df_1['Average no. of words per sentence']=df_1['Average sentence length']"
   ]
  },
  {
   "attachments": {},
   "cell_type": "markdown",
   "metadata": {},
   "source": [
    "#### Complex word count"
   ]
  },
  {
   "cell_type": "code",
   "execution_count": 44,
   "metadata": {},
   "outputs": [],
   "source": [
    "import nltk\n",
    "\n",
    "def calculate_complexword_count(sentence):\n",
    "    words = nltk.word_tokenize(sentence)\n",
    "    cmu_dict = nltk.corpus.cmudict.dict()\n",
    "    count = 0\n",
    "    for word in words:\n",
    "        syllables = cmu_dict.get(word.lower())\n",
    "        if syllables:\n",
    "            syllable_length = len([s for s in syllables[0] if s[-1].isdigit()])\n",
    "            if syllable_length > 2:\n",
    "                count += 1\n",
    "    return count"
   ]
  },
  {
   "cell_type": "code",
   "execution_count": 45,
   "metadata": {},
   "outputs": [],
   "source": [
    "df_1['Complex word count']=df_1['content'].apply(calculate_complexword_count)"
   ]
  },
  {
   "cell_type": "code",
   "execution_count": 47,
   "metadata": {},
   "outputs": [
    {
     "data": {
      "text/html": [
       "<div>\n",
       "<style scoped>\n",
       "    .dataframe tbody tr th:only-of-type {\n",
       "        vertical-align: middle;\n",
       "    }\n",
       "\n",
       "    .dataframe tbody tr th {\n",
       "        vertical-align: top;\n",
       "    }\n",
       "\n",
       "    .dataframe thead th {\n",
       "        text-align: right;\n",
       "    }\n",
       "</style>\n",
       "<table border=\"1\" class=\"dataframe\">\n",
       "  <thead>\n",
       "    <tr style=\"text-align: right;\">\n",
       "      <th></th>\n",
       "      <th>URL_ID</th>\n",
       "      <th>content</th>\n",
       "      <th>Positive Score</th>\n",
       "      <th>Negative Score</th>\n",
       "      <th>Polarity Score</th>\n",
       "      <th>Subjectivity Score</th>\n",
       "      <th>Average sentence length</th>\n",
       "      <th>Complex word %</th>\n",
       "      <th>Fog Index</th>\n",
       "      <th>Average no. of words per sentence</th>\n",
       "      <th>Complex word count</th>\n",
       "    </tr>\n",
       "  </thead>\n",
       "  <tbody>\n",
       "    <tr>\n",
       "      <th>0</th>\n",
       "      <td>37</td>\n",
       "      <td>kills 10 highly infectious virus missiles rema...</td>\n",
       "      <td>75</td>\n",
       "      <td>107</td>\n",
       "      <td>-0.175824</td>\n",
       "      <td>1.596491</td>\n",
       "      <td>22</td>\n",
       "      <td>45.22</td>\n",
       "      <td>26.89</td>\n",
       "      <td>22</td>\n",
       "      <td>303</td>\n",
       "    </tr>\n",
       "    <tr>\n",
       "      <th>1</th>\n",
       "      <td>38</td>\n",
       "      <td>fascination carrying potential tinkering natur...</td>\n",
       "      <td>58</td>\n",
       "      <td>60</td>\n",
       "      <td>-0.016949</td>\n",
       "      <td>1.035088</td>\n",
       "      <td>12</td>\n",
       "      <td>35.87</td>\n",
       "      <td>19.15</td>\n",
       "      <td>12</td>\n",
       "      <td>113</td>\n",
       "    </tr>\n",
       "    <tr>\n",
       "      <th>2</th>\n",
       "      <td>39</td>\n",
       "      <td>rapidly evolving employment matters involving ...</td>\n",
       "      <td>86</td>\n",
       "      <td>90</td>\n",
       "      <td>-0.022727</td>\n",
       "      <td>1.543860</td>\n",
       "      <td>15</td>\n",
       "      <td>47.92</td>\n",
       "      <td>25.17</td>\n",
       "      <td>15</td>\n",
       "      <td>265</td>\n",
       "    </tr>\n",
       "    <tr>\n",
       "      <th>3</th>\n",
       "      <td>40</td>\n",
       "      <td>intelligence artificial intelligence enhanceme...</td>\n",
       "      <td>77</td>\n",
       "      <td>68</td>\n",
       "      <td>0.062069</td>\n",
       "      <td>1.271930</td>\n",
       "      <td>10</td>\n",
       "      <td>44.85</td>\n",
       "      <td>21.94</td>\n",
       "      <td>10</td>\n",
       "      <td>170</td>\n",
       "    </tr>\n",
       "    <tr>\n",
       "      <th>4</th>\n",
       "      <td>41</td>\n",
       "      <td>intelligence invention humanity artificial int...</td>\n",
       "      <td>74</td>\n",
       "      <td>62</td>\n",
       "      <td>0.088235</td>\n",
       "      <td>1.192982</td>\n",
       "      <td>14</td>\n",
       "      <td>48.09</td>\n",
       "      <td>24.84</td>\n",
       "      <td>14</td>\n",
       "      <td>227</td>\n",
       "    </tr>\n",
       "  </tbody>\n",
       "</table>\n",
       "</div>"
      ],
      "text/plain": [
       "   URL_ID                                            content  Positive Score  \\\n",
       "0      37  kills 10 highly infectious virus missiles rema...              75   \n",
       "1      38  fascination carrying potential tinkering natur...              58   \n",
       "2      39  rapidly evolving employment matters involving ...              86   \n",
       "3      40  intelligence artificial intelligence enhanceme...              77   \n",
       "4      41  intelligence invention humanity artificial int...              74   \n",
       "\n",
       "   Negative Score  Polarity Score  Subjectivity Score  \\\n",
       "0             107       -0.175824            1.596491   \n",
       "1              60       -0.016949            1.035088   \n",
       "2              90       -0.022727            1.543860   \n",
       "3              68        0.062069            1.271930   \n",
       "4              62        0.088235            1.192982   \n",
       "\n",
       "   Average sentence length  Complex word %  Fog Index  \\\n",
       "0                       22           45.22      26.89   \n",
       "1                       12           35.87      19.15   \n",
       "2                       15           47.92      25.17   \n",
       "3                       10           44.85      21.94   \n",
       "4                       14           48.09      24.84   \n",
       "\n",
       "   Average no. of words per sentence  Complex word count  \n",
       "0                                 22                 303  \n",
       "1                                 12                 113  \n",
       "2                                 15                 265  \n",
       "3                                 10                 170  \n",
       "4                                 14                 227  "
      ]
     },
     "execution_count": 47,
     "metadata": {},
     "output_type": "execute_result"
    }
   ],
   "source": [
    "df_1.head()"
   ]
  },
  {
   "attachments": {},
   "cell_type": "markdown",
   "metadata": {},
   "source": [
    "#### Word Count"
   ]
  },
  {
   "cell_type": "code",
   "execution_count": 49,
   "metadata": {},
   "outputs": [],
   "source": [
    "words=[]\n",
    "for i in range(0,114):\n",
    "    words.append(len(df_1['content'][i].split()))"
   ]
  },
  {
   "cell_type": "code",
   "execution_count": 50,
   "metadata": {},
   "outputs": [],
   "source": [
    "df_1['Word Count']=words"
   ]
  },
  {
   "cell_type": "code",
   "execution_count": 52,
   "metadata": {},
   "outputs": [
    {
     "data": {
      "text/html": [
       "<div>\n",
       "<style scoped>\n",
       "    .dataframe tbody tr th:only-of-type {\n",
       "        vertical-align: middle;\n",
       "    }\n",
       "\n",
       "    .dataframe tbody tr th {\n",
       "        vertical-align: top;\n",
       "    }\n",
       "\n",
       "    .dataframe thead th {\n",
       "        text-align: right;\n",
       "    }\n",
       "</style>\n",
       "<table border=\"1\" class=\"dataframe\">\n",
       "  <thead>\n",
       "    <tr style=\"text-align: right;\">\n",
       "      <th></th>\n",
       "      <th>URL_ID</th>\n",
       "      <th>content</th>\n",
       "      <th>Positive Score</th>\n",
       "      <th>Negative Score</th>\n",
       "      <th>Polarity Score</th>\n",
       "      <th>Subjectivity Score</th>\n",
       "      <th>Average sentence length</th>\n",
       "      <th>Complex word %</th>\n",
       "      <th>Fog Index</th>\n",
       "      <th>Average no. of words per sentence</th>\n",
       "      <th>Complex word count</th>\n",
       "      <th>Word Count</th>\n",
       "    </tr>\n",
       "  </thead>\n",
       "  <tbody>\n",
       "    <tr>\n",
       "      <th>0</th>\n",
       "      <td>37</td>\n",
       "      <td>kills 10 highly infectious virus missiles rema...</td>\n",
       "      <td>75</td>\n",
       "      <td>107</td>\n",
       "      <td>-0.175824</td>\n",
       "      <td>1.596491</td>\n",
       "      <td>22</td>\n",
       "      <td>45.22</td>\n",
       "      <td>26.89</td>\n",
       "      <td>22</td>\n",
       "      <td>303</td>\n",
       "      <td>670</td>\n",
       "    </tr>\n",
       "    <tr>\n",
       "      <th>1</th>\n",
       "      <td>38</td>\n",
       "      <td>fascination carrying potential tinkering natur...</td>\n",
       "      <td>58</td>\n",
       "      <td>60</td>\n",
       "      <td>-0.016949</td>\n",
       "      <td>1.035088</td>\n",
       "      <td>12</td>\n",
       "      <td>35.87</td>\n",
       "      <td>19.15</td>\n",
       "      <td>12</td>\n",
       "      <td>113</td>\n",
       "      <td>315</td>\n",
       "    </tr>\n",
       "    <tr>\n",
       "      <th>2</th>\n",
       "      <td>39</td>\n",
       "      <td>rapidly evolving employment matters involving ...</td>\n",
       "      <td>86</td>\n",
       "      <td>90</td>\n",
       "      <td>-0.022727</td>\n",
       "      <td>1.543860</td>\n",
       "      <td>15</td>\n",
       "      <td>47.92</td>\n",
       "      <td>25.17</td>\n",
       "      <td>15</td>\n",
       "      <td>265</td>\n",
       "      <td>553</td>\n",
       "    </tr>\n",
       "    <tr>\n",
       "      <th>3</th>\n",
       "      <td>40</td>\n",
       "      <td>intelligence artificial intelligence enhanceme...</td>\n",
       "      <td>77</td>\n",
       "      <td>68</td>\n",
       "      <td>0.062069</td>\n",
       "      <td>1.271930</td>\n",
       "      <td>10</td>\n",
       "      <td>44.85</td>\n",
       "      <td>21.94</td>\n",
       "      <td>10</td>\n",
       "      <td>170</td>\n",
       "      <td>379</td>\n",
       "    </tr>\n",
       "    <tr>\n",
       "      <th>4</th>\n",
       "      <td>41</td>\n",
       "      <td>intelligence invention humanity artificial int...</td>\n",
       "      <td>74</td>\n",
       "      <td>62</td>\n",
       "      <td>0.088235</td>\n",
       "      <td>1.192982</td>\n",
       "      <td>14</td>\n",
       "      <td>48.09</td>\n",
       "      <td>24.84</td>\n",
       "      <td>14</td>\n",
       "      <td>227</td>\n",
       "      <td>472</td>\n",
       "    </tr>\n",
       "  </tbody>\n",
       "</table>\n",
       "</div>"
      ],
      "text/plain": [
       "   URL_ID                                            content  Positive Score  \\\n",
       "0      37  kills 10 highly infectious virus missiles rema...              75   \n",
       "1      38  fascination carrying potential tinkering natur...              58   \n",
       "2      39  rapidly evolving employment matters involving ...              86   \n",
       "3      40  intelligence artificial intelligence enhanceme...              77   \n",
       "4      41  intelligence invention humanity artificial int...              74   \n",
       "\n",
       "   Negative Score  Polarity Score  Subjectivity Score  \\\n",
       "0             107       -0.175824            1.596491   \n",
       "1              60       -0.016949            1.035088   \n",
       "2              90       -0.022727            1.543860   \n",
       "3              68        0.062069            1.271930   \n",
       "4              62        0.088235            1.192982   \n",
       "\n",
       "   Average sentence length  Complex word %  Fog Index  \\\n",
       "0                       22           45.22      26.89   \n",
       "1                       12           35.87      19.15   \n",
       "2                       15           47.92      25.17   \n",
       "3                       10           44.85      21.94   \n",
       "4                       14           48.09      24.84   \n",
       "\n",
       "   Average no. of words per sentence  Complex word count  Word Count  \n",
       "0                                 22                 303         670  \n",
       "1                                 12                 113         315  \n",
       "2                                 15                 265         553  \n",
       "3                                 10                 170         379  \n",
       "4                                 14                 227         472  "
      ]
     },
     "execution_count": 52,
     "metadata": {},
     "output_type": "execute_result"
    }
   ],
   "source": [
    "df_1.head()"
   ]
  },
  {
   "attachments": {},
   "cell_type": "markdown",
   "metadata": {},
   "source": [
    "#### Syllables per row"
   ]
  },
  {
   "cell_type": "code",
   "execution_count": 53,
   "metadata": {},
   "outputs": [],
   "source": [
    "def syllable_count(sentence):\n",
    "    words = nltk.word_tokenize(sentence)\n",
    "    cmu_dict = nltk.corpus.cmudict.dict()\n",
    "    count = 0\n",
    "    for word in words:\n",
    "        syllables = cmu_dict.get(word.lower())\n",
    "        if syllables:\n",
    "            syllable_length = len([s for s in syllables[0] if s[-1].isdigit()])\n",
    "            if syllable_length > 0:\n",
    "                count += 1\n",
    "    return count"
   ]
  },
  {
   "cell_type": "code",
   "execution_count": 54,
   "metadata": {},
   "outputs": [],
   "source": [
    "df_1['Syllable per word']=df_1['content'].apply(syllable_count)"
   ]
  },
  {
   "cell_type": "code",
   "execution_count": 55,
   "metadata": {},
   "outputs": [
    {
     "data": {
      "text/html": [
       "<div>\n",
       "<style scoped>\n",
       "    .dataframe tbody tr th:only-of-type {\n",
       "        vertical-align: middle;\n",
       "    }\n",
       "\n",
       "    .dataframe tbody tr th {\n",
       "        vertical-align: top;\n",
       "    }\n",
       "\n",
       "    .dataframe thead th {\n",
       "        text-align: right;\n",
       "    }\n",
       "</style>\n",
       "<table border=\"1\" class=\"dataframe\">\n",
       "  <thead>\n",
       "    <tr style=\"text-align: right;\">\n",
       "      <th></th>\n",
       "      <th>URL_ID</th>\n",
       "      <th>content</th>\n",
       "      <th>Positive Score</th>\n",
       "      <th>Negative Score</th>\n",
       "      <th>Polarity Score</th>\n",
       "      <th>Subjectivity Score</th>\n",
       "      <th>Average sentence length</th>\n",
       "      <th>Complex word %</th>\n",
       "      <th>Fog Index</th>\n",
       "      <th>Average no. of words per sentence</th>\n",
       "      <th>Complex word count</th>\n",
       "      <th>Word Count</th>\n",
       "      <th>Syllable per word</th>\n",
       "    </tr>\n",
       "  </thead>\n",
       "  <tbody>\n",
       "    <tr>\n",
       "      <th>0</th>\n",
       "      <td>37</td>\n",
       "      <td>kills 10 highly infectious virus missiles rema...</td>\n",
       "      <td>75</td>\n",
       "      <td>107</td>\n",
       "      <td>-0.175824</td>\n",
       "      <td>1.596491</td>\n",
       "      <td>22</td>\n",
       "      <td>45.22</td>\n",
       "      <td>26.89</td>\n",
       "      <td>22</td>\n",
       "      <td>303</td>\n",
       "      <td>670</td>\n",
       "      <td>640</td>\n",
       "    </tr>\n",
       "    <tr>\n",
       "      <th>1</th>\n",
       "      <td>38</td>\n",
       "      <td>fascination carrying potential tinkering natur...</td>\n",
       "      <td>58</td>\n",
       "      <td>60</td>\n",
       "      <td>-0.016949</td>\n",
       "      <td>1.035088</td>\n",
       "      <td>12</td>\n",
       "      <td>35.87</td>\n",
       "      <td>19.15</td>\n",
       "      <td>12</td>\n",
       "      <td>113</td>\n",
       "      <td>315</td>\n",
       "      <td>305</td>\n",
       "    </tr>\n",
       "  </tbody>\n",
       "</table>\n",
       "</div>"
      ],
      "text/plain": [
       "   URL_ID                                            content  Positive Score  \\\n",
       "0      37  kills 10 highly infectious virus missiles rema...              75   \n",
       "1      38  fascination carrying potential tinkering natur...              58   \n",
       "\n",
       "   Negative Score  Polarity Score  Subjectivity Score  \\\n",
       "0             107       -0.175824            1.596491   \n",
       "1              60       -0.016949            1.035088   \n",
       "\n",
       "   Average sentence length  Complex word %  Fog Index  \\\n",
       "0                       22           45.22      26.89   \n",
       "1                       12           35.87      19.15   \n",
       "\n",
       "   Average no. of words per sentence  Complex word count  Word Count  \\\n",
       "0                                 22                 303         670   \n",
       "1                                 12                 113         315   \n",
       "\n",
       "   Syllable per word  \n",
       "0                640  \n",
       "1                305  "
      ]
     },
     "execution_count": 55,
     "metadata": {},
     "output_type": "execute_result"
    }
   ],
   "source": [
    "df_1.head(2)"
   ]
  },
  {
   "attachments": {},
   "cell_type": "markdown",
   "metadata": {},
   "source": [
    "#### Personal pronouns"
   ]
  },
  {
   "cell_type": "code",
   "execution_count": 56,
   "metadata": {},
   "outputs": [],
   "source": [
    "def count_personal_pronouns(text):\n",
    "    personal_pronouns = set(['I', 'me', 'my', 'mine', 'myself', 'you',\n",
    "    'your', 'yours', 'yourself', 'he', 'him', 'his', 'himself', 'she', 'her', 'hers',\n",
    "    'herself', 'it', 'its', 'itself', 'we', 'us', 'our', 'ours', 'ourselves', 'yourselves',\n",
    "    'they', 'them', 'their', 'theirs', 'themselves'])\n",
    "    word_tokens = nltk.word_tokenize(text)\n",
    "    pronoun_count = sum(1 for word in word_tokens if word.lower() in personal_pronouns)\n",
    "    return pronoun_count"
   ]
  },
  {
   "cell_type": "code",
   "execution_count": 60,
   "metadata": {},
   "outputs": [],
   "source": [
    "df_1['Personal pronouns']=df_2['content'].apply(count_personal_pronouns)"
   ]
  },
  {
   "cell_type": "code",
   "execution_count": 62,
   "metadata": {},
   "outputs": [
    {
     "data": {
      "text/html": [
       "<div>\n",
       "<style scoped>\n",
       "    .dataframe tbody tr th:only-of-type {\n",
       "        vertical-align: middle;\n",
       "    }\n",
       "\n",
       "    .dataframe tbody tr th {\n",
       "        vertical-align: top;\n",
       "    }\n",
       "\n",
       "    .dataframe thead th {\n",
       "        text-align: right;\n",
       "    }\n",
       "</style>\n",
       "<table border=\"1\" class=\"dataframe\">\n",
       "  <thead>\n",
       "    <tr style=\"text-align: right;\">\n",
       "      <th></th>\n",
       "      <th>URL_ID</th>\n",
       "      <th>content</th>\n",
       "      <th>Positive Score</th>\n",
       "      <th>Negative Score</th>\n",
       "      <th>Polarity Score</th>\n",
       "      <th>Subjectivity Score</th>\n",
       "      <th>Average sentence length</th>\n",
       "      <th>Complex word %</th>\n",
       "      <th>Fog Index</th>\n",
       "      <th>Average no. of words per sentence</th>\n",
       "      <th>Complex word count</th>\n",
       "      <th>Word Count</th>\n",
       "      <th>Syllable per word</th>\n",
       "      <th>Personal pronouns</th>\n",
       "    </tr>\n",
       "  </thead>\n",
       "  <tbody>\n",
       "    <tr>\n",
       "      <th>0</th>\n",
       "      <td>37</td>\n",
       "      <td>kills 10 highly infectious virus missiles rema...</td>\n",
       "      <td>75</td>\n",
       "      <td>107</td>\n",
       "      <td>-0.175824</td>\n",
       "      <td>1.596491</td>\n",
       "      <td>22</td>\n",
       "      <td>45.22</td>\n",
       "      <td>26.89</td>\n",
       "      <td>22</td>\n",
       "      <td>303</td>\n",
       "      <td>670</td>\n",
       "      <td>640</td>\n",
       "      <td>2</td>\n",
       "    </tr>\n",
       "    <tr>\n",
       "      <th>1</th>\n",
       "      <td>38</td>\n",
       "      <td>fascination carrying potential tinkering natur...</td>\n",
       "      <td>58</td>\n",
       "      <td>60</td>\n",
       "      <td>-0.016949</td>\n",
       "      <td>1.035088</td>\n",
       "      <td>12</td>\n",
       "      <td>35.87</td>\n",
       "      <td>19.15</td>\n",
       "      <td>12</td>\n",
       "      <td>113</td>\n",
       "      <td>315</td>\n",
       "      <td>305</td>\n",
       "      <td>17</td>\n",
       "    </tr>\n",
       "    <tr>\n",
       "      <th>2</th>\n",
       "      <td>39</td>\n",
       "      <td>rapidly evolving employment matters involving ...</td>\n",
       "      <td>86</td>\n",
       "      <td>90</td>\n",
       "      <td>-0.022727</td>\n",
       "      <td>1.543860</td>\n",
       "      <td>15</td>\n",
       "      <td>47.92</td>\n",
       "      <td>25.17</td>\n",
       "      <td>15</td>\n",
       "      <td>265</td>\n",
       "      <td>553</td>\n",
       "      <td>542</td>\n",
       "      <td>6</td>\n",
       "    </tr>\n",
       "  </tbody>\n",
       "</table>\n",
       "</div>"
      ],
      "text/plain": [
       "   URL_ID                                            content  Positive Score  \\\n",
       "0      37  kills 10 highly infectious virus missiles rema...              75   \n",
       "1      38  fascination carrying potential tinkering natur...              58   \n",
       "2      39  rapidly evolving employment matters involving ...              86   \n",
       "\n",
       "   Negative Score  Polarity Score  Subjectivity Score  \\\n",
       "0             107       -0.175824            1.596491   \n",
       "1              60       -0.016949            1.035088   \n",
       "2              90       -0.022727            1.543860   \n",
       "\n",
       "   Average sentence length  Complex word %  Fog Index  \\\n",
       "0                       22           45.22      26.89   \n",
       "1                       12           35.87      19.15   \n",
       "2                       15           47.92      25.17   \n",
       "\n",
       "   Average no. of words per sentence  Complex word count  Word Count  \\\n",
       "0                                 22                 303         670   \n",
       "1                                 12                 113         315   \n",
       "2                                 15                 265         553   \n",
       "\n",
       "   Syllable per word  Personal pronouns  \n",
       "0                640                  2  \n",
       "1                305                 17  \n",
       "2                542                  6  "
      ]
     },
     "execution_count": 62,
     "metadata": {},
     "output_type": "execute_result"
    }
   ],
   "source": [
    "df_1.head(3)"
   ]
  },
  {
   "cell_type": "code",
   "execution_count": 63,
   "metadata": {},
   "outputs": [
    {
     "data": {
      "text/plain": [
       "5975"
      ]
     },
     "execution_count": 63,
     "metadata": {},
     "output_type": "execute_result"
    }
   ],
   "source": [
    "len(df_1['content'][0])"
   ]
  },
  {
   "cell_type": "code",
   "execution_count": 64,
   "metadata": {},
   "outputs": [
    {
     "data": {
      "text/plain": [
       "670"
      ]
     },
     "execution_count": 64,
     "metadata": {},
     "output_type": "execute_result"
    }
   ],
   "source": [
    "len(df_1['content'][0].split())"
   ]
  },
  {
   "cell_type": "code",
   "execution_count": 68,
   "metadata": {},
   "outputs": [],
   "source": [
    "def avg_word_length(text):\n",
    "    if len(text.split())!=0:\n",
    "        return round(len(text)/len(text.split()),2)\n",
    "    else:\n",
    "        return 0\n",
    "    "
   ]
  },
  {
   "cell_type": "code",
   "execution_count": 69,
   "metadata": {},
   "outputs": [],
   "source": [
    "df_1['Average Word Length'] = df_1['content'].apply(avg_word_length)"
   ]
  },
  {
   "cell_type": "code",
   "execution_count": 70,
   "metadata": {},
   "outputs": [
    {
     "data": {
      "text/html": [
       "<div>\n",
       "<style scoped>\n",
       "    .dataframe tbody tr th:only-of-type {\n",
       "        vertical-align: middle;\n",
       "    }\n",
       "\n",
       "    .dataframe tbody tr th {\n",
       "        vertical-align: top;\n",
       "    }\n",
       "\n",
       "    .dataframe thead th {\n",
       "        text-align: right;\n",
       "    }\n",
       "</style>\n",
       "<table border=\"1\" class=\"dataframe\">\n",
       "  <thead>\n",
       "    <tr style=\"text-align: right;\">\n",
       "      <th></th>\n",
       "      <th>URL_ID</th>\n",
       "      <th>content</th>\n",
       "      <th>Positive Score</th>\n",
       "      <th>Negative Score</th>\n",
       "      <th>Polarity Score</th>\n",
       "      <th>Subjectivity Score</th>\n",
       "      <th>Average sentence length</th>\n",
       "      <th>Complex word %</th>\n",
       "      <th>Fog Index</th>\n",
       "      <th>Average no. of words per sentence</th>\n",
       "      <th>Complex word count</th>\n",
       "      <th>Word Count</th>\n",
       "      <th>Syllable per word</th>\n",
       "      <th>Personal pronouns</th>\n",
       "      <th>Average Word Length</th>\n",
       "    </tr>\n",
       "  </thead>\n",
       "  <tbody>\n",
       "    <tr>\n",
       "      <th>65</th>\n",
       "      <td>102</td>\n",
       "      <td>virtual illusion attempt vindicate outline unf...</td>\n",
       "      <td>41</td>\n",
       "      <td>68</td>\n",
       "      <td>-0.247706</td>\n",
       "      <td>0.956140</td>\n",
       "      <td>12</td>\n",
       "      <td>40.38</td>\n",
       "      <td>20.95</td>\n",
       "      <td>12</td>\n",
       "      <td>128</td>\n",
       "      <td>317</td>\n",
       "      <td>309</td>\n",
       "      <td>3</td>\n",
       "      <td>8.53</td>\n",
       "    </tr>\n",
       "    <tr>\n",
       "      <th>44</th>\n",
       "      <td>81</td>\n",
       "      <td>financial crisis 2008 started crisis subprime ...</td>\n",
       "      <td>39</td>\n",
       "      <td>72</td>\n",
       "      <td>-0.297297</td>\n",
       "      <td>0.973684</td>\n",
       "      <td>19</td>\n",
       "      <td>30.72</td>\n",
       "      <td>19.89</td>\n",
       "      <td>19</td>\n",
       "      <td>94</td>\n",
       "      <td>306</td>\n",
       "      <td>291</td>\n",
       "      <td>0</td>\n",
       "      <td>7.93</td>\n",
       "    </tr>\n",
       "    <tr>\n",
       "      <th>78</th>\n",
       "      <td>115</td>\n",
       "      <td>kills 10 highly infectious virus tedx address ...</td>\n",
       "      <td>58</td>\n",
       "      <td>80</td>\n",
       "      <td>-0.159420</td>\n",
       "      <td>1.210526</td>\n",
       "      <td>20</td>\n",
       "      <td>42.38</td>\n",
       "      <td>24.95</td>\n",
       "      <td>20</td>\n",
       "      <td>214</td>\n",
       "      <td>505</td>\n",
       "      <td>449</td>\n",
       "      <td>2</td>\n",
       "      <td>8.51</td>\n",
       "    </tr>\n",
       "    <tr>\n",
       "      <th>103</th>\n",
       "      <td>140</td>\n",
       "      <td>verge unprecedented economic humanitarian disa...</td>\n",
       "      <td>34</td>\n",
       "      <td>75</td>\n",
       "      <td>-0.376147</td>\n",
       "      <td>0.956140</td>\n",
       "      <td>13</td>\n",
       "      <td>42.34</td>\n",
       "      <td>22.14</td>\n",
       "      <td>13</td>\n",
       "      <td>116</td>\n",
       "      <td>274</td>\n",
       "      <td>245</td>\n",
       "      <td>0</td>\n",
       "      <td>8.46</td>\n",
       "    </tr>\n",
       "    <tr>\n",
       "      <th>62</th>\n",
       "      <td>99</td>\n",
       "      <td>unprecedented pandemic possibility leaders act...</td>\n",
       "      <td>39</td>\n",
       "      <td>63</td>\n",
       "      <td>-0.235294</td>\n",
       "      <td>0.894737</td>\n",
       "      <td>16</td>\n",
       "      <td>50.33</td>\n",
       "      <td>26.53</td>\n",
       "      <td>16</td>\n",
       "      <td>154</td>\n",
       "      <td>306</td>\n",
       "      <td>298</td>\n",
       "      <td>3</td>\n",
       "      <td>8.92</td>\n",
       "    </tr>\n",
       "  </tbody>\n",
       "</table>\n",
       "</div>"
      ],
      "text/plain": [
       "     URL_ID                                            content  \\\n",
       "65      102  virtual illusion attempt vindicate outline unf...   \n",
       "44       81  financial crisis 2008 started crisis subprime ...   \n",
       "78      115  kills 10 highly infectious virus tedx address ...   \n",
       "103     140  verge unprecedented economic humanitarian disa...   \n",
       "62       99  unprecedented pandemic possibility leaders act...   \n",
       "\n",
       "     Positive Score  Negative Score  Polarity Score  Subjectivity Score  \\\n",
       "65               41              68       -0.247706            0.956140   \n",
       "44               39              72       -0.297297            0.973684   \n",
       "78               58              80       -0.159420            1.210526   \n",
       "103              34              75       -0.376147            0.956140   \n",
       "62               39              63       -0.235294            0.894737   \n",
       "\n",
       "     Average sentence length  Complex word %  Fog Index  \\\n",
       "65                        12           40.38      20.95   \n",
       "44                        19           30.72      19.89   \n",
       "78                        20           42.38      24.95   \n",
       "103                       13           42.34      22.14   \n",
       "62                        16           50.33      26.53   \n",
       "\n",
       "     Average no. of words per sentence  Complex word count  Word Count  \\\n",
       "65                                  12                 128         317   \n",
       "44                                  19                  94         306   \n",
       "78                                  20                 214         505   \n",
       "103                                 13                 116         274   \n",
       "62                                  16                 154         306   \n",
       "\n",
       "     Syllable per word  Personal pronouns  Average Word Length  \n",
       "65                 309                  3                 8.53  \n",
       "44                 291                  0                 7.93  \n",
       "78                 449                  2                 8.51  \n",
       "103                245                  0                 8.46  \n",
       "62                 298                  3                 8.92  "
      ]
     },
     "execution_count": 70,
     "metadata": {},
     "output_type": "execute_result"
    }
   ],
   "source": [
    "df_1.sample(5)"
   ]
  },
  {
   "cell_type": "code",
   "execution_count": 71,
   "metadata": {},
   "outputs": [],
   "source": [
    "df_1.to_excel(\"Output.xlsx\",index=False)"
   ]
  }
 ],
 "metadata": {
  "kernelspec": {
   "display_name": "Python 3",
   "language": "python",
   "name": "python3"
  },
  "language_info": {
   "codemirror_mode": {
    "name": "ipython",
    "version": 3
   },
   "file_extension": ".py",
   "mimetype": "text/x-python",
   "name": "python",
   "nbconvert_exporter": "python",
   "pygments_lexer": "ipython3",
   "version": "3.11.4"
  },
  "orig_nbformat": 4
 },
 "nbformat": 4,
 "nbformat_minor": 2
}
