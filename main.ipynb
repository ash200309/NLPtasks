{
 "cells": [
  {
   "attachments": {},
   "cell_type": "markdown",
   "metadata": {},
   "source": [
    "# Web Scraping"
   ]
  },
  {
   "cell_type": "code",
   "execution_count": 1,
   "metadata": {},
   "outputs": [],
   "source": [
    "import pandas as pd\n",
    "import requests\n",
    "from bs4 import BeautifulSoup\n",
    "\n",
    "# Read the Excel file\n",
    "path_to_excel_file = 'Input.xlsx'\n",
    "df = pd.read_excel(path_to_excel_file)"
   ]
  },
  {
   "cell_type": "code",
   "execution_count": 2,
   "metadata": {},
   "outputs": [
    {
     "data": {
      "text/html": [
       "<div>\n",
       "<style scoped>\n",
       "    .dataframe tbody tr th:only-of-type {\n",
       "        vertical-align: middle;\n",
       "    }\n",
       "\n",
       "    .dataframe tbody tr th {\n",
       "        vertical-align: top;\n",
       "    }\n",
       "\n",
       "    .dataframe thead th {\n",
       "        text-align: right;\n",
       "    }\n",
       "</style>\n",
       "<table border=\"1\" class=\"dataframe\">\n",
       "  <thead>\n",
       "    <tr style=\"text-align: right;\">\n",
       "      <th></th>\n",
       "      <th>URL_ID</th>\n",
       "      <th>URL</th>\n",
       "    </tr>\n",
       "  </thead>\n",
       "  <tbody>\n",
       "    <tr>\n",
       "      <th>0</th>\n",
       "      <td>37</td>\n",
       "      <td>https://insights.blackcoffer.com/ai-in-healthc...</td>\n",
       "    </tr>\n",
       "    <tr>\n",
       "      <th>1</th>\n",
       "      <td>38</td>\n",
       "      <td>https://insights.blackcoffer.com/what-if-the-c...</td>\n",
       "    </tr>\n",
       "    <tr>\n",
       "      <th>2</th>\n",
       "      <td>39</td>\n",
       "      <td>https://insights.blackcoffer.com/what-jobs-wil...</td>\n",
       "    </tr>\n",
       "    <tr>\n",
       "      <th>3</th>\n",
       "      <td>40</td>\n",
       "      <td>https://insights.blackcoffer.com/will-machine-...</td>\n",
       "    </tr>\n",
       "    <tr>\n",
       "      <th>4</th>\n",
       "      <td>41</td>\n",
       "      <td>https://insights.blackcoffer.com/will-ai-repla...</td>\n",
       "    </tr>\n",
       "    <tr>\n",
       "      <th>...</th>\n",
       "      <td>...</td>\n",
       "      <td>...</td>\n",
       "    </tr>\n",
       "    <tr>\n",
       "      <th>109</th>\n",
       "      <td>146</td>\n",
       "      <td>https://insights.blackcoffer.com/blockchain-fo...</td>\n",
       "    </tr>\n",
       "    <tr>\n",
       "      <th>110</th>\n",
       "      <td>147</td>\n",
       "      <td>https://insights.blackcoffer.com/the-future-of...</td>\n",
       "    </tr>\n",
       "    <tr>\n",
       "      <th>111</th>\n",
       "      <td>148</td>\n",
       "      <td>https://insights.blackcoffer.com/big-data-anal...</td>\n",
       "    </tr>\n",
       "    <tr>\n",
       "      <th>112</th>\n",
       "      <td>149</td>\n",
       "      <td>https://insights.blackcoffer.com/business-anal...</td>\n",
       "    </tr>\n",
       "    <tr>\n",
       "      <th>113</th>\n",
       "      <td>150</td>\n",
       "      <td>https://insights.blackcoffer.com/challenges-an...</td>\n",
       "    </tr>\n",
       "  </tbody>\n",
       "</table>\n",
       "<p>114 rows × 2 columns</p>\n",
       "</div>"
      ],
      "text/plain": [
       "     URL_ID                                                URL\n",
       "0        37  https://insights.blackcoffer.com/ai-in-healthc...\n",
       "1        38  https://insights.blackcoffer.com/what-if-the-c...\n",
       "2        39  https://insights.blackcoffer.com/what-jobs-wil...\n",
       "3        40  https://insights.blackcoffer.com/will-machine-...\n",
       "4        41  https://insights.blackcoffer.com/will-ai-repla...\n",
       "..      ...                                                ...\n",
       "109     146  https://insights.blackcoffer.com/blockchain-fo...\n",
       "110     147  https://insights.blackcoffer.com/the-future-of...\n",
       "111     148  https://insights.blackcoffer.com/big-data-anal...\n",
       "112     149  https://insights.blackcoffer.com/business-anal...\n",
       "113     150  https://insights.blackcoffer.com/challenges-an...\n",
       "\n",
       "[114 rows x 2 columns]"
      ]
     },
     "execution_count": 2,
     "metadata": {},
     "output_type": "execute_result"
    }
   ],
   "source": [
    "df"
   ]
  },
  {
   "attachments": {},
   "cell_type": "markdown",
   "metadata": {},
   "source": [
    "#### First iteration"
   ]
  },
  {
   "cell_type": "code",
   "execution_count": 3,
   "metadata": {},
   "outputs": [],
   "source": [
    "webpage=requests.get(\"https://insights.blackcoffer.com/ai-in-healthcare-to-improve-patient-outcomes/\").text"
   ]
  },
  {
   "cell_type": "code",
   "execution_count": 8,
   "metadata": {},
   "outputs": [],
   "source": [
    "soup= BeautifulSoup(webpage)"
   ]
  },
  {
   "cell_type": "code",
   "execution_count": 9,
   "metadata": {},
   "outputs": [],
   "source": [
    "content = soup.find_all('p',class_=None)"
   ]
  },
  {
   "cell_type": "code",
   "execution_count": 11,
   "metadata": {},
   "outputs": [
    {
     "data": {
      "text/plain": [
       "[<p><strong>Introduction</strong></p>,\n",
       " <p>“If anything kills over 10 million people in the next few decades, it will be a highly infectious virus rather than a war. Not missiles but microbes.” Bill Gates’s remarks at a TED conference in 2014, right after the world had avoided the Ebola outbreak. When the new, unprecedented, invisible virus hit us, it met an overwhelmed and unprepared healthcare system and oblivious population. This public health emergency demonstrated our lack of scientific consideration and underlined the alarming need for robust innovations in our health and medical facilities. For the past few years, artificial intelligence has proven to be of tangible potential in the healthcare sectors, clinical practices, translational medical and biomedical research.</p>,\n",
       " <p>After the first case was detected in China on December 31st 2019, it was an AI program developed by BlueDot that alerted the world about the pandemic. It was quick to realise AI’s ability to analyse large chunks of data could help in detecting patterns and identifying and tracking the possible carriers of the virus.</p>,\n",
       " <p>Many tracing apps use AI to keep tabs on the people who have been infected and prevent the risk of cross-infection by using AI algorithms that can track patterns and extract some features to classify or categorise them.</p>,\n",
       " <p><strong>So how does AI do that?</strong></p>,\n",
       " <p>IBM Watson, a sophisticated AI that works on cloud computing and natural language processing, has prominently contributed to the healthcare sector on a global level. Being a conversational AI, since 2013, Watson has helped in recommending treatments to patients suffering from cancer to ensure that they get the best treatment at optimum costs.</p>,\n",
       " <p>Researchers at Google Inc. showed that an AI system can be trained on thousands of images to achieve physician-level sensitivity.</p>,\n",
       " <p>By identifying the molecular patterns associated with disease status and its subtypes, gene expression, and protein abundance levels, machine learning methods can detect fatal diseases like cancer at an early stage. Machine Learning (ML) techniques focus mainly on analyzing structured data, which can further help in clustering patients’ traits and infer the probability of disease outcomes. Since patient traits mainly include masses of data relating to age, gender, disease history, disease-specific data like diagnostic imaging and gene expressions, etc, ML can extract features from these data inputs by constructing data analytical algorithms.</p>,\n",
       " <p>ML algorithms are either supervised or unsupervised. Unsupervised learning helps in extracting features and clustering similar features together that further leads to early detection of diseases. Clustering and principal component analysis enable grouping or clustering of similar traits together that are further used to maximize or minimize the similarity between the patients within or between the clusters. Since patient traits are recorded in multiple dimensions, such as genes, principal component analysis(PCA) creates the apparatus to reduce these dimensions which humans could have not done alone.</p>,\n",
       " <p>Supervised learning considers the outcomes of the subjects together with the traits, and further correlates the inputs with the outputs to predict the probability of getting a particular clinical event, expected value of a disease level or expected survival time, or risk of Down’s syndrome.</p>]"
      ]
     },
     "execution_count": 11,
     "metadata": {},
     "output_type": "execute_result"
    }
   ],
   "source": [
    "content[0:10]"
   ]
  },
  {
   "attachments": {},
   "cell_type": "markdown",
   "metadata": {},
   "source": [
    "#### Second iteration"
   ]
  },
  {
   "cell_type": "code",
   "execution_count": 4,
   "metadata": {},
   "outputs": [],
   "source": [
    "webpage2=requests.get(\"https://insights.blackcoffer.com/what-if-the-creation-is-taking-over-the-creator/\").text"
   ]
  },
  {
   "cell_type": "code",
   "execution_count": 5,
   "metadata": {},
   "outputs": [],
   "source": [
    "soup2 = BeautifulSoup(webpage2)"
   ]
  },
  {
   "cell_type": "code",
   "execution_count": 6,
   "metadata": {},
   "outputs": [],
   "source": [
    "content2 = soup2.find_all('p',class_=None)"
   ]
  },
  {
   "cell_type": "code",
   "execution_count": 7,
   "metadata": {},
   "outputs": [
    {
     "data": {
      "text/plain": [
       "[<p>Human minds, a fascination in itself carrying the potential of tinkering nature with the pixie dust intelligence, creating and solving the mysteries and wonders with anything but admiration. However, no matter how captivating a human mind can be, it could sometimes be appalled. It could be the hunger or maybe the desire to want more, to go beyond and unravel the limitations, or maybe something like pure greed. Humans have never stopped and always keep evolving when it comes to intelligence and this is what makes them the supreme.</p>,\n",
       " <p>Intelligence calls out for supremacy and so, what if there was to evolve something that opposed a challenge to the very human minds, to their capabilities while making them question their own importance among themselves? Artificial Intelligence came as a revolution, havoc when it first came to the light. The concept of making machines does work on their own, like granting machines –The Intelligence.</p>,\n",
       " <p>The idea of making machines work like humans came back in the 19s. Back then people didn’t believe in such a thing as making a non-living thing work, think, and carry tasks on its own, not to mention, to actually surpass humans themselves in those skills. The facts are it did. By 1997. The greatest chess player, Garry Kasparov was defeated in a chess game by a machine and this is where exactly, a top skilled human lost to a mere machine created by another who by himself could’ve never defeated him. It was a rule of power, of betterment, of skills, and the granted supremacy. Were AI and Machines just tools? Equipment?  Something that helped an unskilled person with his mind and intelligence creates something that could do the skilled work for him with perfection and precision? Well initially it was, however, as time passed as humans got drawn to the puzzle of AI, a lot changed. Human research went deeper and deeper and as a result, the machines evolved with it.</p>,\n",
       " <p>At present, AI &amp; Machines is a growing field. As it develops and improves, it has become a part of the industrial revolution. In industries, most of the laborious work that was once taken care of by humans was now replaced by machines. Naturally, with the evolution in machines, its precision, mass productivity, quality control, time efficiencies, and all the other factors made it a better choice. A choice over humans.</p>,\n",
       " <p>This led to fear, a fear of a not-so-distant future, a future where maybe machines will be so evolved that they’ll take over the need of a human employee leading to unemployment. With the population increase around the world, it became the new tech threat for the labor market. Then again… how true is it? Does AI really oppose a threat? Will adapting to technology make millions of people lose their jobs? Will it lead to mass unemployment? Will the machines really surpass humans? Will, the creation take over the creator?</p>,\n",
       " <p>No matter how fearful the future with AI may seem, in reality, it is not that scary. Truth is AI is the present reality, it is the key that holds the power to unlock a whole next level of human evolution. Technology is growing. There was a time where technology was just an idea, but today that idea has been implemented, it’s working and is carried out. Nobody could stop the advancement and growth of Artificial Intelligence, it’s a wave that is already flowing and we as the present generation and the generations to come to have to learn, to learn to swim in this flow and avoid drowning.</p>,\n",
       " <p>Many jobs will be replaced by machines, as AI evolves it’ll keep challenging human minds and their skills. With the present COVID 19 situation, contactless cashiers to robots delivering packages have already taken over the usual routine tasks. The jobs of Secretaries, Schedulers, and book-keeper are at risk too. Manufacturing units, agriculture, food services, retail, transportation &amp; logistic, and hospitality are all a part of the AI-affected automation. At an estimation, it is said that around 20 million jobs, especially including manufacturing will be lost to robots. As AI, robotics, 3D printing, and genetics make their way in, even the architects, medical docs, and music composers feel threatened by technology. Making us question that will AI even edge us out of our brain jobs too? Now that can be terrifying.</p>,\n",
       " <p>However, as much as machines will be replacing few jobs, they’ll also be creating new jobs.  With the economic growth, innovation, and investment around 133 million jobs are said to be generated. These newly enhanced jobs are to create benefits and amplify one’s creativity, strategy, and entrepreneurial skills. So what is the catch?</p>,\n",
       " <p>Well, it’s the skills. Even though AI is creating 3 times more jobs than it is destroying, it’s the skills that count. AI surged in new job opportunities, opportunities like Senior Data Scientist, Mobile Application Developer, and SEO specialist. These jobs were once never heard of but now with AI it’s born, however, to do these jobs or for its qualification, one needs high-level skills and to acquire those skills can be an expensive and time-consuming task. The future generation might be able to cope up with it but the real struggle is to be faced by the present two generations. It’s the vulnerability between the skill gap and unemployment and the youths are the ones to be crushed the most.</p>,\n",
       " <p>Therefore, as the advancement of AI becomes inevitable there remains no choice but to adapt, learn, equip ourselves and grow with it. The companies have to work together to build an AI-ready workplace. They should collaborate with the government, educators, and non-profit organizations and work together to bring out policies that could help understand the technologies’ impacts faster while also providing the employees some security. The economic and business planning should be made considerable for minimizing the impact on local jobs and properly maximizing the opportunities.</p>]"
      ]
     },
     "execution_count": 7,
     "metadata": {},
     "output_type": "execute_result"
    }
   ],
   "source": [
    "content2[0:10]"
   ]
  },
  {
   "cell_type": "code",
   "execution_count": 11,
   "metadata": {},
   "outputs": [],
   "source": [
    "title_l=[]\n",
    "title = soup2.find(\"h1\",class_='tdb-title-text')\n",
    "if title is not None:\n",
    "    print(title.text)"
   ]
  },
  {
   "attachments": {},
   "cell_type": "markdown",
   "metadata": {},
   "source": [
    "#### Web Scraping final function"
   ]
  },
  {
   "cell_type": "code",
   "execution_count": 12,
   "metadata": {},
   "outputs": [],
   "source": [
    "content_list=[]\n",
    "for i in range(114):\n",
    "    url=df['URL'][i]\n",
    "    webpage = requests.get(url).text\n",
    "    soup= BeautifulSoup(webpage)\n",
    "    content = soup.find_all('p',class_=None)\n",
    "    content_list.append(content)\n",
    "df['content']=content_list\n",
    "df"
   ]
  },
  {
   "cell_type": "code",
   "execution_count": 13,
   "metadata": {},
   "outputs": [],
   "source": [
    "df_1=df.drop(\"URL\",axis=1)"
   ]
  },
  {
   "cell_type": "code",
   "execution_count": 14,
   "metadata": {},
   "outputs": [],
   "source": [
    "df_1.to_csv(\"URL_ID with content\",index=False)"
   ]
  },
  {
   "attachments": {},
   "cell_type": "markdown",
   "metadata": {},
   "source": [
    "# Preprocessing"
   ]
  },
  {
   "cell_type": "code",
   "execution_count": 18,
   "metadata": {},
   "outputs": [],
   "source": [
    "import pandas as pd \n",
    "df_1=pd.read_csv(\"URL_ID with content\")"
   ]
  },
  {
   "cell_type": "code",
   "execution_count": 19,
   "metadata": {},
   "outputs": [],
   "source": [
    "df_1['content']=df_1['content'].apply(str)"
   ]
  },
  {
   "cell_type": "code",
   "execution_count": 20,
   "metadata": {},
   "outputs": [],
   "source": [
    "f = open(\"stopwords.txt\",'r')\n",
    "stopwords=f.read()"
   ]
  },
  {
   "cell_type": "code",
   "execution_count": 17,
   "metadata": {},
   "outputs": [],
   "source": [
    "stopwords=stopwords.lower()"
   ]
  },
  {
   "cell_type": "code",
   "execution_count": 21,
   "metadata": {},
   "outputs": [
    {
     "data": {
      "text/html": [
       "<div>\n",
       "<style scoped>\n",
       "    .dataframe tbody tr th:only-of-type {\n",
       "        vertical-align: middle;\n",
       "    }\n",
       "\n",
       "    .dataframe tbody tr th {\n",
       "        vertical-align: top;\n",
       "    }\n",
       "\n",
       "    .dataframe thead th {\n",
       "        text-align: right;\n",
       "    }\n",
       "</style>\n",
       "<table border=\"1\" class=\"dataframe\">\n",
       "  <thead>\n",
       "    <tr style=\"text-align: right;\">\n",
       "      <th></th>\n",
       "      <th>URL_ID</th>\n",
       "      <th>content</th>\n",
       "    </tr>\n",
       "  </thead>\n",
       "  <tbody>\n",
       "    <tr>\n",
       "      <th>0</th>\n",
       "      <td>37</td>\n",
       "      <td>[&lt;p&gt;&lt;strong&gt;Introduction&lt;/strong&gt;&lt;/p&gt;, &lt;p&gt;“If ...</td>\n",
       "    </tr>\n",
       "    <tr>\n",
       "      <th>1</th>\n",
       "      <td>38</td>\n",
       "      <td>[&lt;p&gt;Human minds, a fascination in itself carry...</td>\n",
       "    </tr>\n",
       "    <tr>\n",
       "      <th>2</th>\n",
       "      <td>39</td>\n",
       "      <td>[&lt;p&gt;&lt;strong&gt;Introduction&lt;/strong&gt;&lt;/p&gt;, &lt;p&gt;AI i...</td>\n",
       "    </tr>\n",
       "    <tr>\n",
       "      <th>3</th>\n",
       "      <td>40</td>\n",
       "      <td>[&lt;p&gt;“Anything that could give rise to smarter-...</td>\n",
       "    </tr>\n",
       "    <tr>\n",
       "      <th>4</th>\n",
       "      <td>41</td>\n",
       "      <td>[&lt;p&gt;“Machine intelligence is the last inventio...</td>\n",
       "    </tr>\n",
       "    <tr>\n",
       "      <th>...</th>\n",
       "      <td>...</td>\n",
       "      <td>...</td>\n",
       "    </tr>\n",
       "    <tr>\n",
       "      <th>109</th>\n",
       "      <td>146</td>\n",
       "      <td>[&lt;p&gt;&lt;em&gt;Reconciling with the financial realiti...</td>\n",
       "    </tr>\n",
       "    <tr>\n",
       "      <th>110</th>\n",
       "      <td>147</td>\n",
       "      <td>[&lt;p&gt;An investment is a resource or thing procu...</td>\n",
       "    </tr>\n",
       "    <tr>\n",
       "      <th>111</th>\n",
       "      <td>148</td>\n",
       "      <td>[&lt;p&gt;Quality and affordable healthcare is a vis...</td>\n",
       "    </tr>\n",
       "    <tr>\n",
       "      <th>112</th>\n",
       "      <td>149</td>\n",
       "      <td>[&lt;p&gt;Analytics is a statistical scientific proc...</td>\n",
       "    </tr>\n",
       "    <tr>\n",
       "      <th>113</th>\n",
       "      <td>150</td>\n",
       "      <td>[&lt;p&gt;To begin with I shall first like to explai...</td>\n",
       "    </tr>\n",
       "  </tbody>\n",
       "</table>\n",
       "<p>114 rows × 2 columns</p>\n",
       "</div>"
      ],
      "text/plain": [
       "     URL_ID                                            content\n",
       "0        37  [<p><strong>Introduction</strong></p>, <p>“If ...\n",
       "1        38  [<p>Human minds, a fascination in itself carry...\n",
       "2        39  [<p><strong>Introduction</strong></p>, <p>AI i...\n",
       "3        40  [<p>“Anything that could give rise to smarter-...\n",
       "4        41  [<p>“Machine intelligence is the last inventio...\n",
       "..      ...                                                ...\n",
       "109     146  [<p><em>Reconciling with the financial realiti...\n",
       "110     147  [<p>An investment is a resource or thing procu...\n",
       "111     148  [<p>Quality and affordable healthcare is a vis...\n",
       "112     149  [<p>Analytics is a statistical scientific proc...\n",
       "113     150  [<p>To begin with I shall first like to explai...\n",
       "\n",
       "[114 rows x 2 columns]"
      ]
     },
     "execution_count": 21,
     "metadata": {},
     "output_type": "execute_result"
    }
   ],
   "source": [
    "df_2=df_1.copy()\n",
    "df_2['content']=df_2['content'].apply(str)\n",
    "df_2"
   ]
  },
  {
   "cell_type": "code",
   "execution_count": 24,
   "metadata": {},
   "outputs": [
    {
     "data": {
      "text/plain": [
       "URL_ID     0\n",
       "content    0\n",
       "dtype: int64"
      ]
     },
     "execution_count": 24,
     "metadata": {},
     "output_type": "execute_result"
    }
   ],
   "source": [
    "df_2.isnull().sum()"
   ]
  },
  {
   "cell_type": "code",
   "execution_count": 7,
   "metadata": {},
   "outputs": [],
   "source": [
    "from bs4 import BeautifulSoup\n",
    "def clean_text(text):\n",
    "    text = BeautifulSoup(text, \"html.parser\").get_text()\n",
    "\n",
    "    text = text.lower()\n",
    "    text = text.split()\n",
    "    y=[]\n",
    "    for i in text:\n",
    "        if i not in stopwords:\n",
    "            y.append(i)  \n",
    "            \n",
    "    return \" \".join(y)"
   ]
  },
  {
   "cell_type": "code",
   "execution_count": 8,
   "metadata": {},
   "outputs": [],
   "source": [
    "import string\n",
    "def transform_text(text):\n",
    "    text = text.lower()\n",
    "    text = text.split()\n",
    "    \n",
    "    y = []\n",
    "    for i in text:\n",
    "        if i.isalnum():\n",
    "            y.append(i)\n",
    "    \n",
    "    text = y[:]\n",
    "    y.clear()\n",
    "    \n",
    "    for i in text:\n",
    "        if i not in stopwords and i not in string.punctuation:\n",
    "            y.append(i)\n",
    "                \n",
    "    return \" \".join(y)"
   ]
  },
  {
   "cell_type": "code",
   "execution_count": 9,
   "metadata": {},
   "outputs": [],
   "source": [
    "df_1['content']=df_1['content'].apply(transform_text)"
   ]
  },
  {
   "cell_type": "code",
   "execution_count": 10,
   "metadata": {},
   "outputs": [
    {
     "data": {
      "text/plain": [
       "670"
      ]
     },
     "execution_count": 10,
     "metadata": {},
     "output_type": "execute_result"
    }
   ],
   "source": [
    "len(df_1['content'][0].split())"
   ]
  },
  {
   "cell_type": "code",
   "execution_count": 29,
   "metadata": {},
   "outputs": [],
   "source": [
    "df_2['content']=df_2['content'].apply(clean_text)"
   ]
  },
  {
   "attachments": {},
   "cell_type": "markdown",
   "metadata": {},
   "source": [
    "# Analysis"
   ]
  },
  {
   "attachments": {},
   "cell_type": "markdown",
   "metadata": {},
   "source": [
    "#### Positive score"
   ]
  },
  {
   "cell_type": "code",
   "execution_count": 11,
   "metadata": {},
   "outputs": [],
   "source": [
    "p = open(\"positive.txt\",'r')\n",
    "positive_words=p.read()"
   ]
  },
  {
   "cell_type": "code",
   "execution_count": 12,
   "metadata": {},
   "outputs": [],
   "source": [
    "def pos_score_calc(sentence):    \n",
    "    positive_score=0\n",
    "    sentence=sentence.split(\" \")\n",
    "    for word in sentence:\n",
    "        if word in positive_words:\n",
    "            positive_score+=1\n",
    "    return positive_score"
   ]
  },
  {
   "cell_type": "code",
   "execution_count": 13,
   "metadata": {},
   "outputs": [],
   "source": [
    "sent=df_1['content'][0]"
   ]
  },
  {
   "cell_type": "code",
   "execution_count": 14,
   "metadata": {},
   "outputs": [
    {
     "data": {
      "text/plain": [
       "75"
      ]
     },
     "execution_count": 14,
     "metadata": {},
     "output_type": "execute_result"
    }
   ],
   "source": [
    "pos_score_calc(sent)"
   ]
  },
  {
   "attachments": {},
   "cell_type": "markdown",
   "metadata": {},
   "source": [
    "#### Negative Score"
   ]
  },
  {
   "cell_type": "code",
   "execution_count": 15,
   "metadata": {},
   "outputs": [],
   "source": [
    "q = open(\"negative.txt\",'r')\n",
    "negative_words=q.read()"
   ]
  },
  {
   "cell_type": "code",
   "execution_count": 16,
   "metadata": {},
   "outputs": [],
   "source": [
    "def neg_score_calc(sentence):    \n",
    "    negative_score=0\n",
    "    sentence=sentence.split(\" \")\n",
    "    for word in sentence:\n",
    "        if word in negative_words:\n",
    "            negative_score-=1\n",
    "    negative_score=negative_score*(-1)\n",
    "    return negative_score"
   ]
  },
  {
   "cell_type": "code",
   "execution_count": 17,
   "metadata": {},
   "outputs": [
    {
     "data": {
      "text/plain": [
       "107"
      ]
     },
     "execution_count": 17,
     "metadata": {},
     "output_type": "execute_result"
    }
   ],
   "source": [
    "neg_score_calc(sent)"
   ]
  },
  {
   "cell_type": "code",
   "execution_count": 18,
   "metadata": {},
   "outputs": [],
   "source": [
    "df_1['Positive Score']=df_1['content'].apply(pos_score_calc)"
   ]
  },
  {
   "cell_type": "code",
   "execution_count": 19,
   "metadata": {},
   "outputs": [],
   "source": [
    "df_1['Negative Score']=df_1['content'].apply(neg_score_calc)"
   ]
  },
  {
   "cell_type": "code",
   "execution_count": 20,
   "metadata": {},
   "outputs": [
    {
     "data": {
      "text/html": [
       "<div>\n",
       "<style scoped>\n",
       "    .dataframe tbody tr th:only-of-type {\n",
       "        vertical-align: middle;\n",
       "    }\n",
       "\n",
       "    .dataframe tbody tr th {\n",
       "        vertical-align: top;\n",
       "    }\n",
       "\n",
       "    .dataframe thead th {\n",
       "        text-align: right;\n",
       "    }\n",
       "</style>\n",
       "<table border=\"1\" class=\"dataframe\">\n",
       "  <thead>\n",
       "    <tr style=\"text-align: right;\">\n",
       "      <th></th>\n",
       "      <th>URL_ID</th>\n",
       "      <th>content</th>\n",
       "      <th>Positive Score</th>\n",
       "      <th>Negative Score</th>\n",
       "    </tr>\n",
       "  </thead>\n",
       "  <tbody>\n",
       "    <tr>\n",
       "      <th>0</th>\n",
       "      <td>37</td>\n",
       "      <td>kills 10 highly infectious virus missiles rema...</td>\n",
       "      <td>75</td>\n",
       "      <td>107</td>\n",
       "    </tr>\n",
       "    <tr>\n",
       "      <th>1</th>\n",
       "      <td>38</td>\n",
       "      <td>fascination carrying potential tinkering natur...</td>\n",
       "      <td>58</td>\n",
       "      <td>60</td>\n",
       "    </tr>\n",
       "    <tr>\n",
       "      <th>2</th>\n",
       "      <td>39</td>\n",
       "      <td>rapidly evolving employment matters involving ...</td>\n",
       "      <td>86</td>\n",
       "      <td>90</td>\n",
       "    </tr>\n",
       "    <tr>\n",
       "      <th>3</th>\n",
       "      <td>40</td>\n",
       "      <td>intelligence artificial intelligence enhanceme...</td>\n",
       "      <td>77</td>\n",
       "      <td>68</td>\n",
       "    </tr>\n",
       "    <tr>\n",
       "      <th>4</th>\n",
       "      <td>41</td>\n",
       "      <td>intelligence invention humanity artificial int...</td>\n",
       "      <td>74</td>\n",
       "      <td>62</td>\n",
       "    </tr>\n",
       "  </tbody>\n",
       "</table>\n",
       "</div>"
      ],
      "text/plain": [
       "   URL_ID                                            content  Positive Score  \\\n",
       "0      37  kills 10 highly infectious virus missiles rema...              75   \n",
       "1      38  fascination carrying potential tinkering natur...              58   \n",
       "2      39  rapidly evolving employment matters involving ...              86   \n",
       "3      40  intelligence artificial intelligence enhanceme...              77   \n",
       "4      41  intelligence invention humanity artificial int...              74   \n",
       "\n",
       "   Negative Score  \n",
       "0             107  \n",
       "1              60  \n",
       "2              90  \n",
       "3              68  \n",
       "4              62  "
      ]
     },
     "execution_count": 20,
     "metadata": {},
     "output_type": "execute_result"
    }
   ],
   "source": [
    "df_1.head()"
   ]
  },
  {
   "attachments": {},
   "cell_type": "markdown",
   "metadata": {},
   "source": [
    "#### Polarity Score"
   ]
  },
  {
   "cell_type": "code",
   "execution_count": 21,
   "metadata": {},
   "outputs": [],
   "source": [
    "df_1['Polarity Score'] = (df_1['Positive Score'] - df_1['Negative Score']) / ((df_1['Positive Score'] + df_1['Negative Score']) + 0.000001)"
   ]
  },
  {
   "cell_type": "code",
   "execution_count": 22,
   "metadata": {},
   "outputs": [
    {
     "data": {
      "text/html": [
       "<div>\n",
       "<style scoped>\n",
       "    .dataframe tbody tr th:only-of-type {\n",
       "        vertical-align: middle;\n",
       "    }\n",
       "\n",
       "    .dataframe tbody tr th {\n",
       "        vertical-align: top;\n",
       "    }\n",
       "\n",
       "    .dataframe thead th {\n",
       "        text-align: right;\n",
       "    }\n",
       "</style>\n",
       "<table border=\"1\" class=\"dataframe\">\n",
       "  <thead>\n",
       "    <tr style=\"text-align: right;\">\n",
       "      <th></th>\n",
       "      <th>URL_ID</th>\n",
       "      <th>content</th>\n",
       "      <th>Positive Score</th>\n",
       "      <th>Negative Score</th>\n",
       "      <th>Polarity Score</th>\n",
       "    </tr>\n",
       "  </thead>\n",
       "  <tbody>\n",
       "    <tr>\n",
       "      <th>0</th>\n",
       "      <td>37</td>\n",
       "      <td>kills 10 highly infectious virus missiles rema...</td>\n",
       "      <td>75</td>\n",
       "      <td>107</td>\n",
       "      <td>-0.175824</td>\n",
       "    </tr>\n",
       "    <tr>\n",
       "      <th>1</th>\n",
       "      <td>38</td>\n",
       "      <td>fascination carrying potential tinkering natur...</td>\n",
       "      <td>58</td>\n",
       "      <td>60</td>\n",
       "      <td>-0.016949</td>\n",
       "    </tr>\n",
       "    <tr>\n",
       "      <th>2</th>\n",
       "      <td>39</td>\n",
       "      <td>rapidly evolving employment matters involving ...</td>\n",
       "      <td>86</td>\n",
       "      <td>90</td>\n",
       "      <td>-0.022727</td>\n",
       "    </tr>\n",
       "    <tr>\n",
       "      <th>3</th>\n",
       "      <td>40</td>\n",
       "      <td>intelligence artificial intelligence enhanceme...</td>\n",
       "      <td>77</td>\n",
       "      <td>68</td>\n",
       "      <td>0.062069</td>\n",
       "    </tr>\n",
       "    <tr>\n",
       "      <th>4</th>\n",
       "      <td>41</td>\n",
       "      <td>intelligence invention humanity artificial int...</td>\n",
       "      <td>74</td>\n",
       "      <td>62</td>\n",
       "      <td>0.088235</td>\n",
       "    </tr>\n",
       "  </tbody>\n",
       "</table>\n",
       "</div>"
      ],
      "text/plain": [
       "   URL_ID                                            content  Positive Score  \\\n",
       "0      37  kills 10 highly infectious virus missiles rema...              75   \n",
       "1      38  fascination carrying potential tinkering natur...              58   \n",
       "2      39  rapidly evolving employment matters involving ...              86   \n",
       "3      40  intelligence artificial intelligence enhanceme...              77   \n",
       "4      41  intelligence invention humanity artificial int...              74   \n",
       "\n",
       "   Negative Score  Polarity Score  \n",
       "0             107       -0.175824  \n",
       "1              60       -0.016949  \n",
       "2              90       -0.022727  \n",
       "3              68        0.062069  \n",
       "4              62        0.088235  "
      ]
     },
     "execution_count": 22,
     "metadata": {},
     "output_type": "execute_result"
    }
   ],
   "source": [
    "df_1.head()"
   ]
  },
  {
   "cell_type": "code",
   "execution_count": 23,
   "metadata": {},
   "outputs": [
    {
     "data": {
      "text/html": [
       "<div>\n",
       "<style scoped>\n",
       "    .dataframe tbody tr th:only-of-type {\n",
       "        vertical-align: middle;\n",
       "    }\n",
       "\n",
       "    .dataframe tbody tr th {\n",
       "        vertical-align: top;\n",
       "    }\n",
       "\n",
       "    .dataframe thead th {\n",
       "        text-align: right;\n",
       "    }\n",
       "</style>\n",
       "<table border=\"1\" class=\"dataframe\">\n",
       "  <thead>\n",
       "    <tr style=\"text-align: right;\">\n",
       "      <th></th>\n",
       "      <th>URL_ID</th>\n",
       "      <th>Positive Score</th>\n",
       "      <th>Negative Score</th>\n",
       "      <th>Polarity Score</th>\n",
       "    </tr>\n",
       "  </thead>\n",
       "  <tbody>\n",
       "    <tr>\n",
       "      <th>count</th>\n",
       "      <td>114.000000</td>\n",
       "      <td>114.000000</td>\n",
       "      <td>114.000000</td>\n",
       "      <td>114.000000</td>\n",
       "    </tr>\n",
       "    <tr>\n",
       "      <th>mean</th>\n",
       "      <td>93.500000</td>\n",
       "      <td>39.587719</td>\n",
       "      <td>54.157895</td>\n",
       "      <td>-0.153704</td>\n",
       "    </tr>\n",
       "    <tr>\n",
       "      <th>std</th>\n",
       "      <td>33.052988</td>\n",
       "      <td>24.829618</td>\n",
       "      <td>31.994629</td>\n",
       "      <td>0.182736</td>\n",
       "    </tr>\n",
       "    <tr>\n",
       "      <th>min</th>\n",
       "      <td>37.000000</td>\n",
       "      <td>1.000000</td>\n",
       "      <td>1.000000</td>\n",
       "      <td>-0.800000</td>\n",
       "    </tr>\n",
       "    <tr>\n",
       "      <th>25%</th>\n",
       "      <td>65.250000</td>\n",
       "      <td>22.250000</td>\n",
       "      <td>30.000000</td>\n",
       "      <td>-0.268707</td>\n",
       "    </tr>\n",
       "    <tr>\n",
       "      <th>50%</th>\n",
       "      <td>93.500000</td>\n",
       "      <td>36.500000</td>\n",
       "      <td>54.000000</td>\n",
       "      <td>-0.159863</td>\n",
       "    </tr>\n",
       "    <tr>\n",
       "      <th>75%</th>\n",
       "      <td>121.750000</td>\n",
       "      <td>53.000000</td>\n",
       "      <td>78.000000</td>\n",
       "      <td>-0.024398</td>\n",
       "    </tr>\n",
       "    <tr>\n",
       "      <th>max</th>\n",
       "      <td>150.000000</td>\n",
       "      <td>108.000000</td>\n",
       "      <td>131.000000</td>\n",
       "      <td>0.368421</td>\n",
       "    </tr>\n",
       "  </tbody>\n",
       "</table>\n",
       "</div>"
      ],
      "text/plain": [
       "           URL_ID  Positive Score  Negative Score  Polarity Score\n",
       "count  114.000000      114.000000      114.000000      114.000000\n",
       "mean    93.500000       39.587719       54.157895       -0.153704\n",
       "std     33.052988       24.829618       31.994629        0.182736\n",
       "min     37.000000        1.000000        1.000000       -0.800000\n",
       "25%     65.250000       22.250000       30.000000       -0.268707\n",
       "50%     93.500000       36.500000       54.000000       -0.159863\n",
       "75%    121.750000       53.000000       78.000000       -0.024398\n",
       "max    150.000000      108.000000      131.000000        0.368421"
      ]
     },
     "execution_count": 23,
     "metadata": {},
     "output_type": "execute_result"
    }
   ],
   "source": [
    "df_1.describe()"
   ]
  },
  {
   "attachments": {},
   "cell_type": "markdown",
   "metadata": {},
   "source": [
    "#### Subjectivity Score"
   ]
  },
  {
   "cell_type": "code",
   "execution_count": 24,
   "metadata": {},
   "outputs": [
    {
     "data": {
      "text/plain": [
       "670"
      ]
     },
     "execution_count": 24,
     "metadata": {},
     "output_type": "execute_result"
    }
   ],
   "source": [
    "len(df_1['content'][0].split(\" \"))"
   ]
  },
  {
   "cell_type": "code",
   "execution_count": 25,
   "metadata": {},
   "outputs": [],
   "source": [
    "df_1['Subjectivity Score'] = (df_1['Positive Score']+df_1['Negative Score'])/(len(df_1['content'])+0.000001)"
   ]
  },
  {
   "cell_type": "code",
   "execution_count": 27,
   "metadata": {},
   "outputs": [
    {
     "data": {
      "text/html": [
       "<div>\n",
       "<style scoped>\n",
       "    .dataframe tbody tr th:only-of-type {\n",
       "        vertical-align: middle;\n",
       "    }\n",
       "\n",
       "    .dataframe tbody tr th {\n",
       "        vertical-align: top;\n",
       "    }\n",
       "\n",
       "    .dataframe thead th {\n",
       "        text-align: right;\n",
       "    }\n",
       "</style>\n",
       "<table border=\"1\" class=\"dataframe\">\n",
       "  <thead>\n",
       "    <tr style=\"text-align: right;\">\n",
       "      <th></th>\n",
       "      <th>URL_ID</th>\n",
       "      <th>content</th>\n",
       "      <th>Positive Score</th>\n",
       "      <th>Negative Score</th>\n",
       "      <th>Polarity Score</th>\n",
       "      <th>Subjectivity Score</th>\n",
       "    </tr>\n",
       "  </thead>\n",
       "  <tbody>\n",
       "    <tr>\n",
       "      <th>0</th>\n",
       "      <td>37</td>\n",
       "      <td>kills 10 highly infectious virus missiles rema...</td>\n",
       "      <td>75</td>\n",
       "      <td>107</td>\n",
       "      <td>-0.175824</td>\n",
       "      <td>1.596491</td>\n",
       "    </tr>\n",
       "    <tr>\n",
       "      <th>1</th>\n",
       "      <td>38</td>\n",
       "      <td>fascination carrying potential tinkering natur...</td>\n",
       "      <td>58</td>\n",
       "      <td>60</td>\n",
       "      <td>-0.016949</td>\n",
       "      <td>1.035088</td>\n",
       "    </tr>\n",
       "    <tr>\n",
       "      <th>2</th>\n",
       "      <td>39</td>\n",
       "      <td>rapidly evolving employment matters involving ...</td>\n",
       "      <td>86</td>\n",
       "      <td>90</td>\n",
       "      <td>-0.022727</td>\n",
       "      <td>1.543860</td>\n",
       "    </tr>\n",
       "    <tr>\n",
       "      <th>3</th>\n",
       "      <td>40</td>\n",
       "      <td>intelligence artificial intelligence enhanceme...</td>\n",
       "      <td>77</td>\n",
       "      <td>68</td>\n",
       "      <td>0.062069</td>\n",
       "      <td>1.271930</td>\n",
       "    </tr>\n",
       "    <tr>\n",
       "      <th>4</th>\n",
       "      <td>41</td>\n",
       "      <td>intelligence invention humanity artificial int...</td>\n",
       "      <td>74</td>\n",
       "      <td>62</td>\n",
       "      <td>0.088235</td>\n",
       "      <td>1.192982</td>\n",
       "    </tr>\n",
       "  </tbody>\n",
       "</table>\n",
       "</div>"
      ],
      "text/plain": [
       "   URL_ID                                            content  Positive Score  \\\n",
       "0      37  kills 10 highly infectious virus missiles rema...              75   \n",
       "1      38  fascination carrying potential tinkering natur...              58   \n",
       "2      39  rapidly evolving employment matters involving ...              86   \n",
       "3      40  intelligence artificial intelligence enhanceme...              77   \n",
       "4      41  intelligence invention humanity artificial int...              74   \n",
       "\n",
       "   Negative Score  Polarity Score  Subjectivity Score  \n",
       "0             107       -0.175824            1.596491  \n",
       "1              60       -0.016949            1.035088  \n",
       "2              90       -0.022727            1.543860  \n",
       "3              68        0.062069            1.271930  \n",
       "4              62        0.088235            1.192982  "
      ]
     },
     "execution_count": 27,
     "metadata": {},
     "output_type": "execute_result"
    }
   ],
   "source": [
    "df_1.head()"
   ]
  },
  {
   "attachments": {},
   "cell_type": "markdown",
   "metadata": {},
   "source": [
    "#### Sentence length"
   ]
  },
  {
   "cell_type": "code",
   "execution_count": 30,
   "metadata": {},
   "outputs": [
    {
     "data": {
      "text/plain": [
       "21.88"
      ]
     },
     "execution_count": 30,
     "metadata": {},
     "output_type": "execute_result"
    }
   ],
   "source": [
    "import nltk \n",
    "words=nltk.word_tokenize(df_2['content'][0])\n",
    "sentences=nltk.sent_tokenize(df_2['content'][0])\n",
    "round(len(words)/len(sentences),2)"
   ]
  },
  {
   "cell_type": "code",
   "execution_count": 31,
   "metadata": {},
   "outputs": [],
   "source": [
    "def sentence_len(text):\n",
    "    words=nltk.word_tokenize(text)\n",
    "    sentences=nltk.sent_tokenize(text)\n",
    "    length=round(len(words)/len(sentences))\n",
    "    return length"
   ]
  },
  {
   "cell_type": "code",
   "execution_count": 32,
   "metadata": {},
   "outputs": [],
   "source": [
    "df_1['Average sentence length']=df_2['content'].apply(sentence_len)"
   ]
  },
  {
   "cell_type": "code",
   "execution_count": 33,
   "metadata": {},
   "outputs": [
    {
     "data": {
      "text/html": [
       "<div>\n",
       "<style scoped>\n",
       "    .dataframe tbody tr th:only-of-type {\n",
       "        vertical-align: middle;\n",
       "    }\n",
       "\n",
       "    .dataframe tbody tr th {\n",
       "        vertical-align: top;\n",
       "    }\n",
       "\n",
       "    .dataframe thead th {\n",
       "        text-align: right;\n",
       "    }\n",
       "</style>\n",
       "<table border=\"1\" class=\"dataframe\">\n",
       "  <thead>\n",
       "    <tr style=\"text-align: right;\">\n",
       "      <th></th>\n",
       "      <th>URL_ID</th>\n",
       "      <th>content</th>\n",
       "      <th>Positive Score</th>\n",
       "      <th>Negative Score</th>\n",
       "      <th>Polarity Score</th>\n",
       "      <th>Subjectivity Score</th>\n",
       "      <th>Average sentence length</th>\n",
       "    </tr>\n",
       "  </thead>\n",
       "  <tbody>\n",
       "    <tr>\n",
       "      <th>0</th>\n",
       "      <td>37</td>\n",
       "      <td>kills 10 highly infectious virus missiles rema...</td>\n",
       "      <td>75</td>\n",
       "      <td>107</td>\n",
       "      <td>-0.175824</td>\n",
       "      <td>1.596491</td>\n",
       "      <td>22</td>\n",
       "    </tr>\n",
       "    <tr>\n",
       "      <th>1</th>\n",
       "      <td>38</td>\n",
       "      <td>fascination carrying potential tinkering natur...</td>\n",
       "      <td>58</td>\n",
       "      <td>60</td>\n",
       "      <td>-0.016949</td>\n",
       "      <td>1.035088</td>\n",
       "      <td>12</td>\n",
       "    </tr>\n",
       "    <tr>\n",
       "      <th>2</th>\n",
       "      <td>39</td>\n",
       "      <td>rapidly evolving employment matters involving ...</td>\n",
       "      <td>86</td>\n",
       "      <td>90</td>\n",
       "      <td>-0.022727</td>\n",
       "      <td>1.543860</td>\n",
       "      <td>15</td>\n",
       "    </tr>\n",
       "    <tr>\n",
       "      <th>3</th>\n",
       "      <td>40</td>\n",
       "      <td>intelligence artificial intelligence enhanceme...</td>\n",
       "      <td>77</td>\n",
       "      <td>68</td>\n",
       "      <td>0.062069</td>\n",
       "      <td>1.271930</td>\n",
       "      <td>10</td>\n",
       "    </tr>\n",
       "    <tr>\n",
       "      <th>4</th>\n",
       "      <td>41</td>\n",
       "      <td>intelligence invention humanity artificial int...</td>\n",
       "      <td>74</td>\n",
       "      <td>62</td>\n",
       "      <td>0.088235</td>\n",
       "      <td>1.192982</td>\n",
       "      <td>14</td>\n",
       "    </tr>\n",
       "  </tbody>\n",
       "</table>\n",
       "</div>"
      ],
      "text/plain": [
       "   URL_ID                                            content  Positive Score  \\\n",
       "0      37  kills 10 highly infectious virus missiles rema...              75   \n",
       "1      38  fascination carrying potential tinkering natur...              58   \n",
       "2      39  rapidly evolving employment matters involving ...              86   \n",
       "3      40  intelligence artificial intelligence enhanceme...              77   \n",
       "4      41  intelligence invention humanity artificial int...              74   \n",
       "\n",
       "   Negative Score  Polarity Score  Subjectivity Score  Average sentence length  \n",
       "0             107       -0.175824            1.596491                       22  \n",
       "1              60       -0.016949            1.035088                       12  \n",
       "2              90       -0.022727            1.543860                       15  \n",
       "3              68        0.062069            1.271930                       10  \n",
       "4              62        0.088235            1.192982                       14  "
      ]
     },
     "execution_count": 33,
     "metadata": {},
     "output_type": "execute_result"
    }
   ],
   "source": [
    "df_1.head()"
   ]
  },
  {
   "attachments": {},
   "cell_type": "markdown",
   "metadata": {},
   "source": [
    "#### Complex words"
   ]
  },
  {
   "cell_type": "code",
   "execution_count": 38,
   "metadata": {},
   "outputs": [],
   "source": [
    "import nltk\n",
    "\n",
    "def calculate_complexword_count_percentage(sentence):\n",
    "    words = nltk.word_tokenize(sentence)\n",
    "    cmu_dict = nltk.corpus.cmudict.dict()\n",
    "    count = 0\n",
    "    for word in words:\n",
    "        syllables = cmu_dict.get(word.lower())\n",
    "        if syllables:\n",
    "            syllable_length = len([s for s in syllables[0] if s[-1].isdigit()])\n",
    "            if syllable_length > 2:\n",
    "                count += 1\n",
    "    if len(words)!=0:\n",
    "        return round(count/len(words)*100,2)\n",
    "    else:\n",
    "        return 0"
   ]
  },
  {
   "cell_type": "code",
   "execution_count": 39,
   "metadata": {},
   "outputs": [],
   "source": [
    "df_1['Complex word %']=df_1['content'].apply(calculate_complexword_count_percentage)"
   ]
  },
  {
   "cell_type": "code",
   "execution_count": 40,
   "metadata": {},
   "outputs": [
    {
     "data": {
      "text/html": [
       "<div>\n",
       "<style scoped>\n",
       "    .dataframe tbody tr th:only-of-type {\n",
       "        vertical-align: middle;\n",
       "    }\n",
       "\n",
       "    .dataframe tbody tr th {\n",
       "        vertical-align: top;\n",
       "    }\n",
       "\n",
       "    .dataframe thead th {\n",
       "        text-align: right;\n",
       "    }\n",
       "</style>\n",
       "<table border=\"1\" class=\"dataframe\">\n",
       "  <thead>\n",
       "    <tr style=\"text-align: right;\">\n",
       "      <th></th>\n",
       "      <th>URL_ID</th>\n",
       "      <th>content</th>\n",
       "      <th>Positive Score</th>\n",
       "      <th>Negative Score</th>\n",
       "      <th>Polarity Score</th>\n",
       "      <th>Subjectivity Score</th>\n",
       "      <th>Average sentence length</th>\n",
       "      <th>Complex word %</th>\n",
       "    </tr>\n",
       "  </thead>\n",
       "  <tbody>\n",
       "    <tr>\n",
       "      <th>0</th>\n",
       "      <td>37</td>\n",
       "      <td>kills 10 highly infectious virus missiles rema...</td>\n",
       "      <td>75</td>\n",
       "      <td>107</td>\n",
       "      <td>-0.175824</td>\n",
       "      <td>1.596491</td>\n",
       "      <td>22</td>\n",
       "      <td>45.22</td>\n",
       "    </tr>\n",
       "    <tr>\n",
       "      <th>1</th>\n",
       "      <td>38</td>\n",
       "      <td>fascination carrying potential tinkering natur...</td>\n",
       "      <td>58</td>\n",
       "      <td>60</td>\n",
       "      <td>-0.016949</td>\n",
       "      <td>1.035088</td>\n",
       "      <td>12</td>\n",
       "      <td>35.87</td>\n",
       "    </tr>\n",
       "    <tr>\n",
       "      <th>2</th>\n",
       "      <td>39</td>\n",
       "      <td>rapidly evolving employment matters involving ...</td>\n",
       "      <td>86</td>\n",
       "      <td>90</td>\n",
       "      <td>-0.022727</td>\n",
       "      <td>1.543860</td>\n",
       "      <td>15</td>\n",
       "      <td>47.92</td>\n",
       "    </tr>\n",
       "    <tr>\n",
       "      <th>3</th>\n",
       "      <td>40</td>\n",
       "      <td>intelligence artificial intelligence enhanceme...</td>\n",
       "      <td>77</td>\n",
       "      <td>68</td>\n",
       "      <td>0.062069</td>\n",
       "      <td>1.271930</td>\n",
       "      <td>10</td>\n",
       "      <td>44.85</td>\n",
       "    </tr>\n",
       "    <tr>\n",
       "      <th>4</th>\n",
       "      <td>41</td>\n",
       "      <td>intelligence invention humanity artificial int...</td>\n",
       "      <td>74</td>\n",
       "      <td>62</td>\n",
       "      <td>0.088235</td>\n",
       "      <td>1.192982</td>\n",
       "      <td>14</td>\n",
       "      <td>48.09</td>\n",
       "    </tr>\n",
       "  </tbody>\n",
       "</table>\n",
       "</div>"
      ],
      "text/plain": [
       "   URL_ID                                            content  Positive Score  \\\n",
       "0      37  kills 10 highly infectious virus missiles rema...              75   \n",
       "1      38  fascination carrying potential tinkering natur...              58   \n",
       "2      39  rapidly evolving employment matters involving ...              86   \n",
       "3      40  intelligence artificial intelligence enhanceme...              77   \n",
       "4      41  intelligence invention humanity artificial int...              74   \n",
       "\n",
       "   Negative Score  Polarity Score  Subjectivity Score  \\\n",
       "0             107       -0.175824            1.596491   \n",
       "1              60       -0.016949            1.035088   \n",
       "2              90       -0.022727            1.543860   \n",
       "3              68        0.062069            1.271930   \n",
       "4              62        0.088235            1.192982   \n",
       "\n",
       "   Average sentence length  Complex word %  \n",
       "0                       22           45.22  \n",
       "1                       12           35.87  \n",
       "2                       15           47.92  \n",
       "3                       10           44.85  \n",
       "4                       14           48.09  "
      ]
     },
     "execution_count": 40,
     "metadata": {},
     "output_type": "execute_result"
    }
   ],
   "source": [
    "df_1.head()"
   ]
  },
  {
   "attachments": {},
   "cell_type": "markdown",
   "metadata": {},
   "source": [
    "#### Fog Index"
   ]
  },
  {
   "cell_type": "code",
   "execution_count": 41,
   "metadata": {},
   "outputs": [],
   "source": [
    "df_1['Fog Index']=  round(0.4*(df_1['Average sentence length']+df_1['Complex word %']),2)"
   ]
  },
  {
   "cell_type": "code",
   "execution_count": 42,
   "metadata": {},
   "outputs": [
    {
     "data": {
      "text/html": [
       "<div>\n",
       "<style scoped>\n",
       "    .dataframe tbody tr th:only-of-type {\n",
       "        vertical-align: middle;\n",
       "    }\n",
       "\n",
       "    .dataframe tbody tr th {\n",
       "        vertical-align: top;\n",
       "    }\n",
       "\n",
       "    .dataframe thead th {\n",
       "        text-align: right;\n",
       "    }\n",
       "</style>\n",
       "<table border=\"1\" class=\"dataframe\">\n",
       "  <thead>\n",
       "    <tr style=\"text-align: right;\">\n",
       "      <th></th>\n",
       "      <th>URL_ID</th>\n",
       "      <th>content</th>\n",
       "      <th>Positive Score</th>\n",
       "      <th>Negative Score</th>\n",
       "      <th>Polarity Score</th>\n",
       "      <th>Subjectivity Score</th>\n",
       "      <th>Average sentence length</th>\n",
       "      <th>Complex word %</th>\n",
       "      <th>Fog Index</th>\n",
       "    </tr>\n",
       "  </thead>\n",
       "  <tbody>\n",
       "    <tr>\n",
       "      <th>0</th>\n",
       "      <td>37</td>\n",
       "      <td>kills 10 highly infectious virus missiles rema...</td>\n",
       "      <td>75</td>\n",
       "      <td>107</td>\n",
       "      <td>-0.175824</td>\n",
       "      <td>1.596491</td>\n",
       "      <td>22</td>\n",
       "      <td>45.22</td>\n",
       "      <td>26.89</td>\n",
       "    </tr>\n",
       "    <tr>\n",
       "      <th>1</th>\n",
       "      <td>38</td>\n",
       "      <td>fascination carrying potential tinkering natur...</td>\n",
       "      <td>58</td>\n",
       "      <td>60</td>\n",
       "      <td>-0.016949</td>\n",
       "      <td>1.035088</td>\n",
       "      <td>12</td>\n",
       "      <td>35.87</td>\n",
       "      <td>19.15</td>\n",
       "    </tr>\n",
       "    <tr>\n",
       "      <th>2</th>\n",
       "      <td>39</td>\n",
       "      <td>rapidly evolving employment matters involving ...</td>\n",
       "      <td>86</td>\n",
       "      <td>90</td>\n",
       "      <td>-0.022727</td>\n",
       "      <td>1.543860</td>\n",
       "      <td>15</td>\n",
       "      <td>47.92</td>\n",
       "      <td>25.17</td>\n",
       "    </tr>\n",
       "    <tr>\n",
       "      <th>3</th>\n",
       "      <td>40</td>\n",
       "      <td>intelligence artificial intelligence enhanceme...</td>\n",
       "      <td>77</td>\n",
       "      <td>68</td>\n",
       "      <td>0.062069</td>\n",
       "      <td>1.271930</td>\n",
       "      <td>10</td>\n",
       "      <td>44.85</td>\n",
       "      <td>21.94</td>\n",
       "    </tr>\n",
       "    <tr>\n",
       "      <th>4</th>\n",
       "      <td>41</td>\n",
       "      <td>intelligence invention humanity artificial int...</td>\n",
       "      <td>74</td>\n",
       "      <td>62</td>\n",
       "      <td>0.088235</td>\n",
       "      <td>1.192982</td>\n",
       "      <td>14</td>\n",
       "      <td>48.09</td>\n",
       "      <td>24.84</td>\n",
       "    </tr>\n",
       "  </tbody>\n",
       "</table>\n",
       "</div>"
      ],
      "text/plain": [
       "   URL_ID                                            content  Positive Score  \\\n",
       "0      37  kills 10 highly infectious virus missiles rema...              75   \n",
       "1      38  fascination carrying potential tinkering natur...              58   \n",
       "2      39  rapidly evolving employment matters involving ...              86   \n",
       "3      40  intelligence artificial intelligence enhanceme...              77   \n",
       "4      41  intelligence invention humanity artificial int...              74   \n",
       "\n",
       "   Negative Score  Polarity Score  Subjectivity Score  \\\n",
       "0             107       -0.175824            1.596491   \n",
       "1              60       -0.016949            1.035088   \n",
       "2              90       -0.022727            1.543860   \n",
       "3              68        0.062069            1.271930   \n",
       "4              62        0.088235            1.192982   \n",
       "\n",
       "   Average sentence length  Complex word %  Fog Index  \n",
       "0                       22           45.22      26.89  \n",
       "1                       12           35.87      19.15  \n",
       "2                       15           47.92      25.17  \n",
       "3                       10           44.85      21.94  \n",
       "4                       14           48.09      24.84  "
      ]
     },
     "execution_count": 42,
     "metadata": {},
     "output_type": "execute_result"
    }
   ],
   "source": [
    "df_1.head()"
   ]
  },
  {
   "cell_type": "code",
   "execution_count": 43,
   "metadata": {},
   "outputs": [],
   "source": [
    "df_1['Average no. of words per sentence']=df_1['Average sentence length']"
   ]
  },
  {
   "attachments": {},
   "cell_type": "markdown",
   "metadata": {},
   "source": [
    "#### Complex word count"
   ]
  },
  {
   "cell_type": "code",
   "execution_count": 44,
   "metadata": {},
   "outputs": [],
   "source": [
    "import nltk\n",
    "\n",
    "def calculate_complexword_count(sentence):\n",
    "    words = nltk.word_tokenize(sentence)\n",
    "    cmu_dict = nltk.corpus.cmudict.dict()\n",
    "    count = 0\n",
    "    for word in words:\n",
    "        syllables = cmu_dict.get(word.lower())\n",
    "        if syllables:\n",
    "            syllable_length = len([s for s in syllables[0] if s[-1].isdigit()])\n",
    "            if syllable_length > 2:\n",
    "                count += 1\n",
    "    return count"
   ]
  },
  {
   "cell_type": "code",
   "execution_count": 45,
   "metadata": {},
   "outputs": [],
   "source": [
    "df_1['Complex word count']=df_1['content'].apply(calculate_complexword_count)"
   ]
  },
  {
   "cell_type": "code",
   "execution_count": 47,
   "metadata": {},
   "outputs": [
    {
     "data": {
      "text/html": [
       "<div>\n",
       "<style scoped>\n",
       "    .dataframe tbody tr th:only-of-type {\n",
       "        vertical-align: middle;\n",
       "    }\n",
       "\n",
       "    .dataframe tbody tr th {\n",
       "        vertical-align: top;\n",
       "    }\n",
       "\n",
       "    .dataframe thead th {\n",
       "        text-align: right;\n",
       "    }\n",
       "</style>\n",
       "<table border=\"1\" class=\"dataframe\">\n",
       "  <thead>\n",
       "    <tr style=\"text-align: right;\">\n",
       "      <th></th>\n",
       "      <th>URL_ID</th>\n",
       "      <th>content</th>\n",
       "      <th>Positive Score</th>\n",
       "      <th>Negative Score</th>\n",
       "      <th>Polarity Score</th>\n",
       "      <th>Subjectivity Score</th>\n",
       "      <th>Average sentence length</th>\n",
       "      <th>Complex word %</th>\n",
       "      <th>Fog Index</th>\n",
       "      <th>Average no. of words per sentence</th>\n",
       "      <th>Complex word count</th>\n",
       "    </tr>\n",
       "  </thead>\n",
       "  <tbody>\n",
       "    <tr>\n",
       "      <th>0</th>\n",
       "      <td>37</td>\n",
       "      <td>kills 10 highly infectious virus missiles rema...</td>\n",
       "      <td>75</td>\n",
       "      <td>107</td>\n",
       "      <td>-0.175824</td>\n",
       "      <td>1.596491</td>\n",
       "      <td>22</td>\n",
       "      <td>45.22</td>\n",
       "      <td>26.89</td>\n",
       "      <td>22</td>\n",
       "      <td>303</td>\n",
       "    </tr>\n",
       "    <tr>\n",
       "      <th>1</th>\n",
       "      <td>38</td>\n",
       "      <td>fascination carrying potential tinkering natur...</td>\n",
       "      <td>58</td>\n",
       "      <td>60</td>\n",
       "      <td>-0.016949</td>\n",
       "      <td>1.035088</td>\n",
       "      <td>12</td>\n",
       "      <td>35.87</td>\n",
       "      <td>19.15</td>\n",
       "      <td>12</td>\n",
       "      <td>113</td>\n",
       "    </tr>\n",
       "    <tr>\n",
       "      <th>2</th>\n",
       "      <td>39</td>\n",
       "      <td>rapidly evolving employment matters involving ...</td>\n",
       "      <td>86</td>\n",
       "      <td>90</td>\n",
       "      <td>-0.022727</td>\n",
       "      <td>1.543860</td>\n",
       "      <td>15</td>\n",
       "      <td>47.92</td>\n",
       "      <td>25.17</td>\n",
       "      <td>15</td>\n",
       "      <td>265</td>\n",
       "    </tr>\n",
       "    <tr>\n",
       "      <th>3</th>\n",
       "      <td>40</td>\n",
       "      <td>intelligence artificial intelligence enhanceme...</td>\n",
       "      <td>77</td>\n",
       "      <td>68</td>\n",
       "      <td>0.062069</td>\n",
       "      <td>1.271930</td>\n",
       "      <td>10</td>\n",
       "      <td>44.85</td>\n",
       "      <td>21.94</td>\n",
       "      <td>10</td>\n",
       "      <td>170</td>\n",
       "    </tr>\n",
       "    <tr>\n",
       "      <th>4</th>\n",
       "      <td>41</td>\n",
       "      <td>intelligence invention humanity artificial int...</td>\n",
       "      <td>74</td>\n",
       "      <td>62</td>\n",
       "      <td>0.088235</td>\n",
       "      <td>1.192982</td>\n",
       "      <td>14</td>\n",
       "      <td>48.09</td>\n",
       "      <td>24.84</td>\n",
       "      <td>14</td>\n",
       "      <td>227</td>\n",
       "    </tr>\n",
       "  </tbody>\n",
       "</table>\n",
       "</div>"
      ],
      "text/plain": [
       "   URL_ID                                            content  Positive Score  \\\n",
       "0      37  kills 10 highly infectious virus missiles rema...              75   \n",
       "1      38  fascination carrying potential tinkering natur...              58   \n",
       "2      39  rapidly evolving employment matters involving ...              86   \n",
       "3      40  intelligence artificial intelligence enhanceme...              77   \n",
       "4      41  intelligence invention humanity artificial int...              74   \n",
       "\n",
       "   Negative Score  Polarity Score  Subjectivity Score  \\\n",
       "0             107       -0.175824            1.596491   \n",
       "1              60       -0.016949            1.035088   \n",
       "2              90       -0.022727            1.543860   \n",
       "3              68        0.062069            1.271930   \n",
       "4              62        0.088235            1.192982   \n",
       "\n",
       "   Average sentence length  Complex word %  Fog Index  \\\n",
       "0                       22           45.22      26.89   \n",
       "1                       12           35.87      19.15   \n",
       "2                       15           47.92      25.17   \n",
       "3                       10           44.85      21.94   \n",
       "4                       14           48.09      24.84   \n",
       "\n",
       "   Average no. of words per sentence  Complex word count  \n",
       "0                                 22                 303  \n",
       "1                                 12                 113  \n",
       "2                                 15                 265  \n",
       "3                                 10                 170  \n",
       "4                                 14                 227  "
      ]
     },
     "execution_count": 47,
     "metadata": {},
     "output_type": "execute_result"
    }
   ],
   "source": [
    "df_1.head()"
   ]
  },
  {
   "attachments": {},
   "cell_type": "markdown",
   "metadata": {},
   "source": [
    "#### Word Count"
   ]
  },
  {
   "cell_type": "code",
   "execution_count": 49,
   "metadata": {},
   "outputs": [],
   "source": [
    "words=[]\n",
    "for i in range(0,114):\n",
    "    words.append(len(df_1['content'][i].split()))"
   ]
  },
  {
   "cell_type": "code",
   "execution_count": 50,
   "metadata": {},
   "outputs": [],
   "source": [
    "df_1['Word Count']=words"
   ]
  },
  {
   "cell_type": "code",
   "execution_count": 52,
   "metadata": {},
   "outputs": [
    {
     "data": {
      "text/html": [
       "<div>\n",
       "<style scoped>\n",
       "    .dataframe tbody tr th:only-of-type {\n",
       "        vertical-align: middle;\n",
       "    }\n",
       "\n",
       "    .dataframe tbody tr th {\n",
       "        vertical-align: top;\n",
       "    }\n",
       "\n",
       "    .dataframe thead th {\n",
       "        text-align: right;\n",
       "    }\n",
       "</style>\n",
       "<table border=\"1\" class=\"dataframe\">\n",
       "  <thead>\n",
       "    <tr style=\"text-align: right;\">\n",
       "      <th></th>\n",
       "      <th>URL_ID</th>\n",
       "      <th>content</th>\n",
       "      <th>Positive Score</th>\n",
       "      <th>Negative Score</th>\n",
       "      <th>Polarity Score</th>\n",
       "      <th>Subjectivity Score</th>\n",
       "      <th>Average sentence length</th>\n",
       "      <th>Complex word %</th>\n",
       "      <th>Fog Index</th>\n",
       "      <th>Average no. of words per sentence</th>\n",
       "      <th>Complex word count</th>\n",
       "      <th>Word Count</th>\n",
       "    </tr>\n",
       "  </thead>\n",
       "  <tbody>\n",
       "    <tr>\n",
       "      <th>0</th>\n",
       "      <td>37</td>\n",
       "      <td>kills 10 highly infectious virus missiles rema...</td>\n",
       "      <td>75</td>\n",
       "      <td>107</td>\n",
       "      <td>-0.175824</td>\n",
       "      <td>1.596491</td>\n",
       "      <td>22</td>\n",
       "      <td>45.22</td>\n",
       "      <td>26.89</td>\n",
       "      <td>22</td>\n",
       "      <td>303</td>\n",
       "      <td>670</td>\n",
       "    </tr>\n",
       "    <tr>\n",
       "      <th>1</th>\n",
       "      <td>38</td>\n",
       "      <td>fascination carrying potential tinkering natur...</td>\n",
       "      <td>58</td>\n",
       "      <td>60</td>\n",
       "      <td>-0.016949</td>\n",
       "      <td>1.035088</td>\n",
       "      <td>12</td>\n",
       "      <td>35.87</td>\n",
       "      <td>19.15</td>\n",
       "      <td>12</td>\n",
       "      <td>113</td>\n",
       "      <td>315</td>\n",
       "    </tr>\n",
       "    <tr>\n",
       "      <th>2</th>\n",
       "      <td>39</td>\n",
       "      <td>rapidly evolving employment matters involving ...</td>\n",
       "      <td>86</td>\n",
       "      <td>90</td>\n",
       "      <td>-0.022727</td>\n",
       "      <td>1.543860</td>\n",
       "      <td>15</td>\n",
       "      <td>47.92</td>\n",
       "      <td>25.17</td>\n",
       "      <td>15</td>\n",
       "      <td>265</td>\n",
       "      <td>553</td>\n",
       "    </tr>\n",
       "    <tr>\n",
       "      <th>3</th>\n",
       "      <td>40</td>\n",
       "      <td>intelligence artificial intelligence enhanceme...</td>\n",
       "      <td>77</td>\n",
       "      <td>68</td>\n",
       "      <td>0.062069</td>\n",
       "      <td>1.271930</td>\n",
       "      <td>10</td>\n",
       "      <td>44.85</td>\n",
       "      <td>21.94</td>\n",
       "      <td>10</td>\n",
       "      <td>170</td>\n",
       "      <td>379</td>\n",
       "    </tr>\n",
       "    <tr>\n",
       "      <th>4</th>\n",
       "      <td>41</td>\n",
       "      <td>intelligence invention humanity artificial int...</td>\n",
       "      <td>74</td>\n",
       "      <td>62</td>\n",
       "      <td>0.088235</td>\n",
       "      <td>1.192982</td>\n",
       "      <td>14</td>\n",
       "      <td>48.09</td>\n",
       "      <td>24.84</td>\n",
       "      <td>14</td>\n",
       "      <td>227</td>\n",
       "      <td>472</td>\n",
       "    </tr>\n",
       "  </tbody>\n",
       "</table>\n",
       "</div>"
      ],
      "text/plain": [
       "   URL_ID                                            content  Positive Score  \\\n",
       "0      37  kills 10 highly infectious virus missiles rema...              75   \n",
       "1      38  fascination carrying potential tinkering natur...              58   \n",
       "2      39  rapidly evolving employment matters involving ...              86   \n",
       "3      40  intelligence artificial intelligence enhanceme...              77   \n",
       "4      41  intelligence invention humanity artificial int...              74   \n",
       "\n",
       "   Negative Score  Polarity Score  Subjectivity Score  \\\n",
       "0             107       -0.175824            1.596491   \n",
       "1              60       -0.016949            1.035088   \n",
       "2              90       -0.022727            1.543860   \n",
       "3              68        0.062069            1.271930   \n",
       "4              62        0.088235            1.192982   \n",
       "\n",
       "   Average sentence length  Complex word %  Fog Index  \\\n",
       "0                       22           45.22      26.89   \n",
       "1                       12           35.87      19.15   \n",
       "2                       15           47.92      25.17   \n",
       "3                       10           44.85      21.94   \n",
       "4                       14           48.09      24.84   \n",
       "\n",
       "   Average no. of words per sentence  Complex word count  Word Count  \n",
       "0                                 22                 303         670  \n",
       "1                                 12                 113         315  \n",
       "2                                 15                 265         553  \n",
       "3                                 10                 170         379  \n",
       "4                                 14                 227         472  "
      ]
     },
     "execution_count": 52,
     "metadata": {},
     "output_type": "execute_result"
    }
   ],
   "source": [
    "df_1.head()"
   ]
  },
  {
   "attachments": {},
   "cell_type": "markdown",
   "metadata": {},
   "source": [
    "#### Syllables per row"
   ]
  },
  {
   "cell_type": "code",
   "execution_count": 53,
   "metadata": {},
   "outputs": [],
   "source": [
    "def syllable_count(sentence):\n",
    "    words = nltk.word_tokenize(sentence)\n",
    "    cmu_dict = nltk.corpus.cmudict.dict()\n",
    "    count = 0\n",
    "    for word in words:\n",
    "        syllables = cmu_dict.get(word.lower())\n",
    "        if syllables:\n",
    "            syllable_length = len([s for s in syllables[0] if s[-1].isdigit()])\n",
    "            if syllable_length > 0:\n",
    "                count += 1\n",
    "    return count"
   ]
  },
  {
   "cell_type": "code",
   "execution_count": 54,
   "metadata": {},
   "outputs": [],
   "source": [
    "df_1['Syllable per word']=df_1['content'].apply(syllable_count)"
   ]
  },
  {
   "cell_type": "code",
   "execution_count": 55,
   "metadata": {},
   "outputs": [
    {
     "data": {
      "text/html": [
       "<div>\n",
       "<style scoped>\n",
       "    .dataframe tbody tr th:only-of-type {\n",
       "        vertical-align: middle;\n",
       "    }\n",
       "\n",
       "    .dataframe tbody tr th {\n",
       "        vertical-align: top;\n",
       "    }\n",
       "\n",
       "    .dataframe thead th {\n",
       "        text-align: right;\n",
       "    }\n",
       "</style>\n",
       "<table border=\"1\" class=\"dataframe\">\n",
       "  <thead>\n",
       "    <tr style=\"text-align: right;\">\n",
       "      <th></th>\n",
       "      <th>URL_ID</th>\n",
       "      <th>content</th>\n",
       "      <th>Positive Score</th>\n",
       "      <th>Negative Score</th>\n",
       "      <th>Polarity Score</th>\n",
       "      <th>Subjectivity Score</th>\n",
       "      <th>Average sentence length</th>\n",
       "      <th>Complex word %</th>\n",
       "      <th>Fog Index</th>\n",
       "      <th>Average no. of words per sentence</th>\n",
       "      <th>Complex word count</th>\n",
       "      <th>Word Count</th>\n",
       "      <th>Syllable per word</th>\n",
       "    </tr>\n",
       "  </thead>\n",
       "  <tbody>\n",
       "    <tr>\n",
       "      <th>0</th>\n",
       "      <td>37</td>\n",
       "      <td>kills 10 highly infectious virus missiles rema...</td>\n",
       "      <td>75</td>\n",
       "      <td>107</td>\n",
       "      <td>-0.175824</td>\n",
       "      <td>1.596491</td>\n",
       "      <td>22</td>\n",
       "      <td>45.22</td>\n",
       "      <td>26.89</td>\n",
       "      <td>22</td>\n",
       "      <td>303</td>\n",
       "      <td>670</td>\n",
       "      <td>640</td>\n",
       "    </tr>\n",
       "    <tr>\n",
       "      <th>1</th>\n",
       "      <td>38</td>\n",
       "      <td>fascination carrying potential tinkering natur...</td>\n",
       "      <td>58</td>\n",
       "      <td>60</td>\n",
       "      <td>-0.016949</td>\n",
       "      <td>1.035088</td>\n",
       "      <td>12</td>\n",
       "      <td>35.87</td>\n",
       "      <td>19.15</td>\n",
       "      <td>12</td>\n",
       "      <td>113</td>\n",
       "      <td>315</td>\n",
       "      <td>305</td>\n",
       "    </tr>\n",
       "  </tbody>\n",
       "</table>\n",
       "</div>"
      ],
      "text/plain": [
       "   URL_ID                                            content  Positive Score  \\\n",
       "0      37  kills 10 highly infectious virus missiles rema...              75   \n",
       "1      38  fascination carrying potential tinkering natur...              58   \n",
       "\n",
       "   Negative Score  Polarity Score  Subjectivity Score  \\\n",
       "0             107       -0.175824            1.596491   \n",
       "1              60       -0.016949            1.035088   \n",
       "\n",
       "   Average sentence length  Complex word %  Fog Index  \\\n",
       "0                       22           45.22      26.89   \n",
       "1                       12           35.87      19.15   \n",
       "\n",
       "   Average no. of words per sentence  Complex word count  Word Count  \\\n",
       "0                                 22                 303         670   \n",
       "1                                 12                 113         315   \n",
       "\n",
       "   Syllable per word  \n",
       "0                640  \n",
       "1                305  "
      ]
     },
     "execution_count": 55,
     "metadata": {},
     "output_type": "execute_result"
    }
   ],
   "source": [
    "df_1.head(2)"
   ]
  },
  {
   "attachments": {},
   "cell_type": "markdown",
   "metadata": {},
   "source": [
    "#### Personal pronouns"
   ]
  },
  {
   "cell_type": "code",
   "execution_count": 56,
   "metadata": {},
   "outputs": [],
   "source": [
    "def count_personal_pronouns(text):\n",
    "    personal_pronouns = set(['I', 'me', 'my', 'mine', 'myself', 'you',\n",
    "    'your', 'yours', 'yourself', 'he', 'him', 'his', 'himself', 'she', 'her', 'hers',\n",
    "    'herself', 'it', 'its', 'itself', 'we', 'us', 'our', 'ours', 'ourselves', 'yourselves',\n",
    "    'they', 'them', 'their', 'theirs', 'themselves'])\n",
    "    word_tokens = nltk.word_tokenize(text)\n",
    "    pronoun_count = sum(1 for word in word_tokens if word.lower() in personal_pronouns)\n",
    "    return pronoun_count"
   ]
  },
  {
   "cell_type": "code",
   "execution_count": 60,
   "metadata": {},
   "outputs": [],
   "source": [
    "df_1['Personal pronouns']=df_2['content'].apply(count_personal_pronouns)"
   ]
  },
  {
   "cell_type": "code",
   "execution_count": 62,
   "metadata": {},
   "outputs": [
    {
     "data": {
      "text/html": [
       "<div>\n",
       "<style scoped>\n",
       "    .dataframe tbody tr th:only-of-type {\n",
       "        vertical-align: middle;\n",
       "    }\n",
       "\n",
       "    .dataframe tbody tr th {\n",
       "        vertical-align: top;\n",
       "    }\n",
       "\n",
       "    .dataframe thead th {\n",
       "        text-align: right;\n",
       "    }\n",
       "</style>\n",
       "<table border=\"1\" class=\"dataframe\">\n",
       "  <thead>\n",
       "    <tr style=\"text-align: right;\">\n",
       "      <th></th>\n",
       "      <th>URL_ID</th>\n",
       "      <th>content</th>\n",
       "      <th>Positive Score</th>\n",
       "      <th>Negative Score</th>\n",
       "      <th>Polarity Score</th>\n",
       "      <th>Subjectivity Score</th>\n",
       "      <th>Average sentence length</th>\n",
       "      <th>Complex word %</th>\n",
       "      <th>Fog Index</th>\n",
       "      <th>Average no. of words per sentence</th>\n",
       "      <th>Complex word count</th>\n",
       "      <th>Word Count</th>\n",
       "      <th>Syllable per word</th>\n",
       "      <th>Personal pronouns</th>\n",
       "    </tr>\n",
       "  </thead>\n",
       "  <tbody>\n",
       "    <tr>\n",
       "      <th>0</th>\n",
       "      <td>37</td>\n",
       "      <td>kills 10 highly infectious virus missiles rema...</td>\n",
       "      <td>75</td>\n",
       "      <td>107</td>\n",
       "      <td>-0.175824</td>\n",
       "      <td>1.596491</td>\n",
       "      <td>22</td>\n",
       "      <td>45.22</td>\n",
       "      <td>26.89</td>\n",
       "      <td>22</td>\n",
       "      <td>303</td>\n",
       "      <td>670</td>\n",
       "      <td>640</td>\n",
       "      <td>2</td>\n",
       "    </tr>\n",
       "    <tr>\n",
       "      <th>1</th>\n",
       "      <td>38</td>\n",
       "      <td>fascination carrying potential tinkering natur...</td>\n",
       "      <td>58</td>\n",
       "      <td>60</td>\n",
       "      <td>-0.016949</td>\n",
       "      <td>1.035088</td>\n",
       "      <td>12</td>\n",
       "      <td>35.87</td>\n",
       "      <td>19.15</td>\n",
       "      <td>12</td>\n",
       "      <td>113</td>\n",
       "      <td>315</td>\n",
       "      <td>305</td>\n",
       "      <td>17</td>\n",
       "    </tr>\n",
       "    <tr>\n",
       "      <th>2</th>\n",
       "      <td>39</td>\n",
       "      <td>rapidly evolving employment matters involving ...</td>\n",
       "      <td>86</td>\n",
       "      <td>90</td>\n",
       "      <td>-0.022727</td>\n",
       "      <td>1.543860</td>\n",
       "      <td>15</td>\n",
       "      <td>47.92</td>\n",
       "      <td>25.17</td>\n",
       "      <td>15</td>\n",
       "      <td>265</td>\n",
       "      <td>553</td>\n",
       "      <td>542</td>\n",
       "      <td>6</td>\n",
       "    </tr>\n",
       "  </tbody>\n",
       "</table>\n",
       "</div>"
      ],
      "text/plain": [
       "   URL_ID                                            content  Positive Score  \\\n",
       "0      37  kills 10 highly infectious virus missiles rema...              75   \n",
       "1      38  fascination carrying potential tinkering natur...              58   \n",
       "2      39  rapidly evolving employment matters involving ...              86   \n",
       "\n",
       "   Negative Score  Polarity Score  Subjectivity Score  \\\n",
       "0             107       -0.175824            1.596491   \n",
       "1              60       -0.016949            1.035088   \n",
       "2              90       -0.022727            1.543860   \n",
       "\n",
       "   Average sentence length  Complex word %  Fog Index  \\\n",
       "0                       22           45.22      26.89   \n",
       "1                       12           35.87      19.15   \n",
       "2                       15           47.92      25.17   \n",
       "\n",
       "   Average no. of words per sentence  Complex word count  Word Count  \\\n",
       "0                                 22                 303         670   \n",
       "1                                 12                 113         315   \n",
       "2                                 15                 265         553   \n",
       "\n",
       "   Syllable per word  Personal pronouns  \n",
       "0                640                  2  \n",
       "1                305                 17  \n",
       "2                542                  6  "
      ]
     },
     "execution_count": 62,
     "metadata": {},
     "output_type": "execute_result"
    }
   ],
   "source": [
    "df_1.head(3)"
   ]
  },
  {
   "cell_type": "code",
   "execution_count": 63,
   "metadata": {},
   "outputs": [
    {
     "data": {
      "text/plain": [
       "5975"
      ]
     },
     "execution_count": 63,
     "metadata": {},
     "output_type": "execute_result"
    }
   ],
   "source": [
    "len(df_1['content'][0])"
   ]
  },
  {
   "cell_type": "code",
   "execution_count": 64,
   "metadata": {},
   "outputs": [
    {
     "data": {
      "text/plain": [
       "670"
      ]
     },
     "execution_count": 64,
     "metadata": {},
     "output_type": "execute_result"
    }
   ],
   "source": [
    "len(df_1['content'][0].split())"
   ]
  },
  {
   "cell_type": "code",
   "execution_count": 68,
   "metadata": {},
   "outputs": [],
   "source": [
    "def avg_word_length(text):\n",
    "    if len(text.split())!=0:\n",
    "        return round(len(text)/len(text.split()),2)\n",
    "    else:\n",
    "        return 0\n",
    "    "
   ]
  },
  {
   "cell_type": "code",
   "execution_count": 69,
   "metadata": {},
   "outputs": [],
   "source": [
    "df_1['Average Word Length'] = df_1['content'].apply(avg_word_length)"
   ]
  },
  {
   "cell_type": "code",
   "execution_count": 70,
   "metadata": {},
   "outputs": [
    {
     "data": {
      "text/html": [
       "<div>\n",
       "<style scoped>\n",
       "    .dataframe tbody tr th:only-of-type {\n",
       "        vertical-align: middle;\n",
       "    }\n",
       "\n",
       "    .dataframe tbody tr th {\n",
       "        vertical-align: top;\n",
       "    }\n",
       "\n",
       "    .dataframe thead th {\n",
       "        text-align: right;\n",
       "    }\n",
       "</style>\n",
       "<table border=\"1\" class=\"dataframe\">\n",
       "  <thead>\n",
       "    <tr style=\"text-align: right;\">\n",
       "      <th></th>\n",
       "      <th>URL_ID</th>\n",
       "      <th>content</th>\n",
       "      <th>Positive Score</th>\n",
       "      <th>Negative Score</th>\n",
       "      <th>Polarity Score</th>\n",
       "      <th>Subjectivity Score</th>\n",
       "      <th>Average sentence length</th>\n",
       "      <th>Complex word %</th>\n",
       "      <th>Fog Index</th>\n",
       "      <th>Average no. of words per sentence</th>\n",
       "      <th>Complex word count</th>\n",
       "      <th>Word Count</th>\n",
       "      <th>Syllable per word</th>\n",
       "      <th>Personal pronouns</th>\n",
       "      <th>Average Word Length</th>\n",
       "    </tr>\n",
       "  </thead>\n",
       "  <tbody>\n",
       "    <tr>\n",
       "      <th>65</th>\n",
       "      <td>102</td>\n",
       "      <td>virtual illusion attempt vindicate outline unf...</td>\n",
       "      <td>41</td>\n",
       "      <td>68</td>\n",
       "      <td>-0.247706</td>\n",
       "      <td>0.956140</td>\n",
       "      <td>12</td>\n",
       "      <td>40.38</td>\n",
       "      <td>20.95</td>\n",
       "      <td>12</td>\n",
       "      <td>128</td>\n",
       "      <td>317</td>\n",
       "      <td>309</td>\n",
       "      <td>3</td>\n",
       "      <td>8.53</td>\n",
       "    </tr>\n",
       "    <tr>\n",
       "      <th>44</th>\n",
       "      <td>81</td>\n",
       "      <td>financial crisis 2008 started crisis subprime ...</td>\n",
       "      <td>39</td>\n",
       "      <td>72</td>\n",
       "      <td>-0.297297</td>\n",
       "      <td>0.973684</td>\n",
       "      <td>19</td>\n",
       "      <td>30.72</td>\n",
       "      <td>19.89</td>\n",
       "      <td>19</td>\n",
       "      <td>94</td>\n",
       "      <td>306</td>\n",
       "      <td>291</td>\n",
       "      <td>0</td>\n",
       "      <td>7.93</td>\n",
       "    </tr>\n",
       "    <tr>\n",
       "      <th>78</th>\n",
       "      <td>115</td>\n",
       "      <td>kills 10 highly infectious virus tedx address ...</td>\n",
       "      <td>58</td>\n",
       "      <td>80</td>\n",
       "      <td>-0.159420</td>\n",
       "      <td>1.210526</td>\n",
       "      <td>20</td>\n",
       "      <td>42.38</td>\n",
       "      <td>24.95</td>\n",
       "      <td>20</td>\n",
       "      <td>214</td>\n",
       "      <td>505</td>\n",
       "      <td>449</td>\n",
       "      <td>2</td>\n",
       "      <td>8.51</td>\n",
       "    </tr>\n",
       "    <tr>\n",
       "      <th>103</th>\n",
       "      <td>140</td>\n",
       "      <td>verge unprecedented economic humanitarian disa...</td>\n",
       "      <td>34</td>\n",
       "      <td>75</td>\n",
       "      <td>-0.376147</td>\n",
       "      <td>0.956140</td>\n",
       "      <td>13</td>\n",
       "      <td>42.34</td>\n",
       "      <td>22.14</td>\n",
       "      <td>13</td>\n",
       "      <td>116</td>\n",
       "      <td>274</td>\n",
       "      <td>245</td>\n",
       "      <td>0</td>\n",
       "      <td>8.46</td>\n",
       "    </tr>\n",
       "    <tr>\n",
       "      <th>62</th>\n",
       "      <td>99</td>\n",
       "      <td>unprecedented pandemic possibility leaders act...</td>\n",
       "      <td>39</td>\n",
       "      <td>63</td>\n",
       "      <td>-0.235294</td>\n",
       "      <td>0.894737</td>\n",
       "      <td>16</td>\n",
       "      <td>50.33</td>\n",
       "      <td>26.53</td>\n",
       "      <td>16</td>\n",
       "      <td>154</td>\n",
       "      <td>306</td>\n",
       "      <td>298</td>\n",
       "      <td>3</td>\n",
       "      <td>8.92</td>\n",
       "    </tr>\n",
       "  </tbody>\n",
       "</table>\n",
       "</div>"
      ],
      "text/plain": [
       "     URL_ID                                            content  \\\n",
       "65      102  virtual illusion attempt vindicate outline unf...   \n",
       "44       81  financial crisis 2008 started crisis subprime ...   \n",
       "78      115  kills 10 highly infectious virus tedx address ...   \n",
       "103     140  verge unprecedented economic humanitarian disa...   \n",
       "62       99  unprecedented pandemic possibility leaders act...   \n",
       "\n",
       "     Positive Score  Negative Score  Polarity Score  Subjectivity Score  \\\n",
       "65               41              68       -0.247706            0.956140   \n",
       "44               39              72       -0.297297            0.973684   \n",
       "78               58              80       -0.159420            1.210526   \n",
       "103              34              75       -0.376147            0.956140   \n",
       "62               39              63       -0.235294            0.894737   \n",
       "\n",
       "     Average sentence length  Complex word %  Fog Index  \\\n",
       "65                        12           40.38      20.95   \n",
       "44                        19           30.72      19.89   \n",
       "78                        20           42.38      24.95   \n",
       "103                       13           42.34      22.14   \n",
       "62                        16           50.33      26.53   \n",
       "\n",
       "     Average no. of words per sentence  Complex word count  Word Count  \\\n",
       "65                                  12                 128         317   \n",
       "44                                  19                  94         306   \n",
       "78                                  20                 214         505   \n",
       "103                                 13                 116         274   \n",
       "62                                  16                 154         306   \n",
       "\n",
       "     Syllable per word  Personal pronouns  Average Word Length  \n",
       "65                 309                  3                 8.53  \n",
       "44                 291                  0                 7.93  \n",
       "78                 449                  2                 8.51  \n",
       "103                245                  0                 8.46  \n",
       "62                 298                  3                 8.92  "
      ]
     },
     "execution_count": 70,
     "metadata": {},
     "output_type": "execute_result"
    }
   ],
   "source": [
    "df_1.sample(5)"
   ]
  },
  {
   "cell_type": "code",
   "execution_count": 71,
   "metadata": {},
   "outputs": [],
   "source": [
    "df_1.to_excel(\"Output.xlsx\",index=False)"
   ]
  }
 ],
 "metadata": {
  "kernelspec": {
   "display_name": "Python 3",
   "language": "python",
   "name": "python3"
  },
  "language_info": {
   "codemirror_mode": {
    "name": "ipython",
    "version": 3
   },
   "file_extension": ".py",
   "mimetype": "text/x-python",
   "name": "python",
   "nbconvert_exporter": "python",
   "pygments_lexer": "ipython3",
   "version": "3.11.4"
  },
  "orig_nbformat": 4
 },
 "nbformat": 4,
 "nbformat_minor": 2
}
